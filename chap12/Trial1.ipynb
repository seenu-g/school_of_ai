{
  "nbformat": 4,
  "nbformat_minor": 0,
  "metadata": {
    "colab": {
      "name": "Trial1.ipynb",
      "provenance": [],
      "authorship_tag": "ABX9TyONz2WGWvPfFPYc2/LCFA2T",
      "include_colab_link": true
    },
    "kernelspec": {
      "name": "python3",
      "display_name": "Python 3"
    }
  },
  "cells": [
    {
      "cell_type": "markdown",
      "metadata": {
        "id": "view-in-github",
        "colab_type": "text"
      },
      "source": [
        "<a href=\"https://colab.research.google.com/github/seenu-g/school_of_ai/blob/master/chap12/Trial1.ipynb\" target=\"_parent\"><img src=\"https://colab.research.google.com/assets/colab-badge.svg\" alt=\"Open In Colab\"/></a>"
      ]
    },
    {
      "cell_type": "code",
      "metadata": {
        "id": "ot4lQ57MpgWL",
        "colab_type": "code",
        "outputId": "419dd8a7-45f1-4ca0-9c92-76f3046f7ad6",
        "colab": {
          "base_uri": "https://localhost:8080/",
          "height": 102
        }
      },
      "source": [
        "!pip install -U git+https://github.com/albu/albumentations > /dev/null && echo \"Albumentation library is successfully installed!\"\n",
        "!pip install --no-cache-dir git+https://github.com/NVIDIA/apex > /dev/null && echo \"Apex library is successfully installed!\"!"
      ],
      "execution_count": 0,
      "outputs": [
        {
          "output_type": "stream",
          "text": [
            "  Running command git clone -q https://github.com/albu/albumentations /tmp/pip-req-build-ss8y5xzr\n",
            "Albumentation library is successfully installed!\n",
            "  Running command git clone -q https://github.com/NVIDIA/apex /tmp/pip-req-build-4h7kqd4w\n",
            "  Running command git submodule update --init --recursive -q\n",
            "Apex library is successfully installed!!\n"
          ],
          "name": "stdout"
        }
      ]
    },
    {
      "cell_type": "code",
      "metadata": {
        "id": "o7BLyfjvp1O4",
        "colab_type": "code",
        "outputId": "d5411f63-df0e-4eed-970e-4333ae4aec40",
        "colab": {
          "base_uri": "https://localhost:8080/",
          "height": 68
        }
      },
      "source": [
        "# mount gdrive and unzip data\n",
        "from google.colab import drive\n",
        "import sys\n",
        "%load_ext autoreload\n",
        "%autoreload 2\n",
        "drive.mount('/content/gdrive',force_remount=True)"
      ],
      "execution_count": 0,
      "outputs": [
        {
          "output_type": "stream",
          "text": [
            "The autoreload extension is already loaded. To reload it, use:\n",
            "  %reload_ext autoreload\n",
            "Mounted at /content/gdrive\n"
          ],
          "name": "stdout"
        }
      ]
    },
    {
      "cell_type": "code",
      "metadata": {
        "id": "yT0oICF2p4z9",
        "colab_type": "code",
        "outputId": "67a3dca0-b12f-4aee-95f6-04e7ddf502e8",
        "colab": {
          "base_uri": "https://localhost:8080/",
          "height": 323
        }
      },
      "source": [
        "import sys\n",
        "import os\n",
        "folder = '/content/gdrive/My Drive/school_of_ai/chap12/'\n",
        "os.chdir(folder)\n",
        "print(os.getcwd()) \n",
        "text_count = 0\n",
        "image_count = 0\n",
        "for root, dirs,files in os.walk(\".\"):\n",
        "    for dirName in dirs :\n",
        "         if((dirName !=\"images\") & (dirName.startswith(\"n0\")==False)) :\n",
        "            print (dirName)\n",
        "    for filename in files:\n",
        "         if(filename.endswith(\".JPEG\")== True):\n",
        "            image_count = image_count +1\n",
        "         elif(filename.endswith(\".txt\")== True):\n",
        "            text_count = text_count +1\n",
        "         else :\n",
        "            print(filename)\n",
        "print (\"Number of image files is \", image_count)\n",
        "print (\"Number of text files is \", text_count)\n",
        "\n",
        "sys.path.append(folder)"
      ],
      "execution_count": 0,
      "outputs": [
        {
          "output_type": "stream",
          "text": [
            "/content/gdrive/My Drive/school_of_ai/chap12\n",
            "template\n",
            "tiny-imagenet-200\n",
            "Trial1.ipynb\n",
            "tiny-imagenet-200.zip\n",
            "model.py\n",
            "show_images.py\n",
            "train_test.py\n",
            "transforms.py\n",
            "evaluate.py\n",
            "__init__.py\n",
            "Albumentationtransform.py\n",
            "test\n",
            "train\n",
            "val\n",
            "n12267677\n",
            "Number of image files is  120000\n",
            "Number of text files is  203\n"
          ],
          "name": "stdout"
        }
      ]
    },
    {
      "cell_type": "code",
      "metadata": {
        "id": "xl5uFpJ6qK6A",
        "colab_type": "code",
        "colab": {}
      },
      "source": [
        "import os\n",
        "import requests\n",
        "from zipfile import ZipFile \n",
        "from io import StringIO\n",
        "\n",
        "def download_images(url,fileName):\n",
        "    if(os.path.isfile(fileName)==False) :\n",
        "          print ('Downloading ' + url )\n",
        "          try:\n",
        "                r = requests.get(url, stream=True)\n",
        "                with open(fileName,'wb') as f: \n",
        "                  f.write(r.content) \n",
        "          except :\n",
        "                print (\"Exception to download file\",fileName)\n",
        "                return False\n",
        "    else:\n",
        "        print (fileName, \" already exists in \",os. getcwd()) \n",
        "    \n",
        "def extract_zip_file(download_folder,fileName):\n",
        "    \n",
        "    if (os.path.isdir(download_folder)==False):\n",
        "        print(download_folder,\" does not exist\")\n",
        "        return    \n",
        "    if(os.path.isfile(fileName)==False) :\n",
        "        print(fileName,\" from which to extract does not exist\")\n",
        "        return\n",
        "    \n",
        "    os.chdir(download_folder)\n",
        "    extracted_folder = download_folder + fileName.split('.')[0]\n",
        "    \n",
        "    if (os.path.isdir(extracted_folder)==True):\n",
        "        print ('Images seems to be downloaded and extracted already... to',extracted_folder)\n",
        "        return\n",
        "\n",
        "    with ZipFile(fileName, 'r') as zip: \n",
        "         try:\n",
        "              #zip.printdir() \n",
        "              print('Extracting file ' + fileName + ' now... to ',extracted_folder) \n",
        "              zip.extractall() \n",
        "              print('File Extraction Done!') \n",
        "              return \n",
        "         except:\n",
        "              print (\"Exception to Unzip file\",fileName)\n",
        "              return "
      ],
      "execution_count": 0,
      "outputs": []
    },
    {
      "cell_type": "code",
      "metadata": {
        "id": "vCBdfcocXmX8",
        "colab_type": "code",
        "outputId": "0cd3ec1d-cc52-4d3b-ae89-52fd6bccaf77",
        "colab": {
          "base_uri": "https://localhost:8080/",
          "height": 34
        }
      },
      "source": [
        "IMAGES_URL = 'http://cs231n.stanford.edu/tiny-imagenet-200.zip'\n",
        "fileName = \"tiny-imagenet-200.zip\"\n",
        "download_folder = folder\n",
        "\n",
        "#download_images(IMAGES_URL,fileName)\n",
        "extract_zip_file(download_folder,fileName)"
      ],
      "execution_count": 0,
      "outputs": [
        {
          "output_type": "stream",
          "text": [
            "Images seems to be downloaded and extracted already... to /content/gdrive/My Drive/school_of_ai/chap12/tiny-imagenet-200\n"
          ],
          "name": "stdout"
        }
      ]
    },
    {
      "cell_type": "code",
      "metadata": {
        "id": "wwyPGe3UsZGD",
        "colab_type": "code",
        "colab": {}
      },
      "source": [
        "import os\n",
        "import pandas as pd\n",
        "import numpy as np\n",
        "import matplotlib.image as mpimg\n",
        "\n",
        "NUM_VAL_IMAGES = 10000\n",
        "BATCH_SIZE = 20\n",
        "NUM_CLASSES = 200\n",
        "NUM_IMAGES_PER_CLASS = 500\n",
        "NUM_IMAGES = NUM_CLASSES * NUM_IMAGES_PER_CLASS\n",
        "IMAGE_SIZE = 64\n",
        "NUM_CHANNELS = 3\n",
        "IMAGE_ARR_SIZE = IMAGE_SIZE * IMAGE_SIZE * NUM_CHANNELS\n",
        "\n",
        "#train\n",
        "#--- n01443537{type}\n",
        "#    --- images\n",
        "#       ---n01443537_0.JPEG\n",
        "#    --- n01443537_boxes.txt\n",
        "def load_training_images(train_image_dir, batch_size=500):\n",
        "    image_index = 0\n",
        "    images = np.ndarray(shape=(NUM_IMAGES, IMAGE_ARR_SIZE))\n",
        "    names = []\n",
        "    labels = []                           \n",
        "    for type in os.listdir(train_image_dir):\n",
        "        # Loop through all type name that are folder names\n",
        "        if os.path.isdir(train_image_dir + type + '/images/'):\n",
        "            type_images = os.listdir(train_image_dir + type + '/images/')\n",
        "            # Loop through all the images of a type folder\n",
        "            batch_index = 0\n",
        "            for image in type_images:\n",
        "                train_image_file = os.path.join(train_image_dir, type + '/images/', image)\n",
        "                image_data = mpimg.imread(train_image_file) \n",
        "                #print ('Loaded Image', image_file, image_data.shape)\n",
        "                if (image_data.shape == (IMAGE_SIZE, IMAGE_SIZE, NUM_CHANNELS)):\n",
        "                    images[image_index, :] = image_data.flatten()\n",
        "\n",
        "                    labels.append(type)\n",
        "                    names.append(image)\n",
        "                    \n",
        "                    image_index += 1\n",
        "                    batch_index += 1\n",
        "                    \n",
        "                if (batch_index >= batch_size):\n",
        "                    break\n",
        "   \n",
        "    print (\"Loaded Training images \", image_index)  #20 * 200 #batch_size * class_count          \n",
        "    return (images, np.asarray(labels), np.asarray(names))\n",
        "\n",
        "def get_label_from_name(data, name):\n",
        "    for idx, row in data.iterrows():       \n",
        "        if (row['File'] == name):\n",
        "            return row['Class']       \n",
        "    return None\n",
        "#val\n",
        "#  --- images\n",
        "#       ---n01443537_0.JPEG\n",
        "#  --- val_annotations.txt\n",
        "def load_validation_images(valdir, validation_data, batch_size=NUM_VAL_IMAGES):\n",
        "    image_index = 0\n",
        "    images = np.ndarray(shape=(NUM_IMAGES, IMAGE_ARR_SIZE))\n",
        "    names = []\n",
        "    labels = []      \n",
        "           \n",
        "    # Loop through all the images of a val directory\n",
        "    batch_index = 0\n",
        "    for image in os.listdir(valdir + '/images/'):\n",
        "        image_file = os.path.join(valdir, 'images/', image)\n",
        "        # reading the images as they are; no normalization, no color editing\n",
        "        image_data = mpimg.imread(image_file) \n",
        "        if (image_data.shape == (IMAGE_SIZE, IMAGE_SIZE, NUM_CHANNELS)):\n",
        "            images[image_index, :] = image_data.flatten()\n",
        "            labels.append(get_label_from_name(validation_data, image))\n",
        "            names.append(image)\n",
        "            image_index += 1\n",
        "            batch_index += 1\n",
        "            \n",
        "        if (batch_index >= batch_size):\n",
        "            break\n",
        "    \n",
        "    print (\"Loaded Validation images \", image_index)\n",
        "    return (images, np.asarray(labels), np.asarray(names))\n",
        "\n",
        "def read_val_annotations(dirName, fileName) :\n",
        "  val_data = pd.read_csv(dirName + fileName, sep='\\t', header=None, names=['File', 'Class', '1', '2', '3', '4'])\n",
        "  return val_data"
      ],
      "execution_count": 0,
      "outputs": []
    },
    {
      "cell_type": "code",
      "metadata": {
        "id": "Zx94AZi5YVlM",
        "colab_type": "code",
        "outputId": "ad96d88a-45b3-4390-d62e-1eed39ffac8f",
        "colab": {
          "base_uri": "https://localhost:8080/",
          "height": 51
        }
      },
      "source": [
        "TRAINING_IMAGES_DIR = 'tiny-imagenet-200/train/'\n",
        "VAL_IMAGES_DIR = 'tiny-imagenet-200/val/'\n",
        "extracted_folder = folder + \"tiny-imagenet-200/\"\n",
        "base_folder = folder\n",
        "\n",
        "train_images, train_labels, train_files = load_training_images(base_folder + TRAINING_IMAGES_DIR, batch_size=BATCH_SIZE)\n",
        "val_data = read_val_annotations(VAL_IMAGES_DIR,'val_annotations.txt')\n",
        "val_images, val_labels, val_files = load_validation_images(base_folder + VAL_IMAGES_DIR, val_data, batch_size=BATCH_SIZE)"
      ],
      "execution_count": 0,
      "outputs": [
        {
          "output_type": "stream",
          "text": [
            "Loaded Training images  4000\n",
            "Loaded Validation images  20\n"
          ],
          "name": "stdout"
        }
      ]
    },
    {
      "cell_type": "code",
      "metadata": {
        "id": "4sefeeaedkbc",
        "colab_type": "code",
        "outputId": "b5386336-538c-48fc-b5d6-f7a5ac9d9957",
        "colab": {
          "base_uri": "https://localhost:8080/",
          "height": 102
        }
      },
      "source": [
        "import matplotlib\n",
        "import matplotlib.image as mpimg\n",
        "import matplotlib.pyplot as plt\n",
        "def plot_object(data):\n",
        "    plt.figure(figsize=(1,1))\n",
        "    image = data.reshape(IMAGE_SIZE, IMAGE_SIZE, NUM_CHANNELS)\n",
        "    plt.imshow(image, cmap = matplotlib.cm.binary,interpolation=\"nearest\")\n",
        "    plt.axis(\"off\")\n",
        "    plt.show()\n",
        "\n",
        "plot_object(train_images[5])"
      ],
      "execution_count": 0,
      "outputs": [
        {
          "output_type": "stream",
          "text": [
            "Clipping input data to the valid range for imshow with RGB data ([0..1] for floats or [0..255] for integers).\n"
          ],
          "name": "stderr"
        },
        {
          "output_type": "display_data",
          "data": {
            "image/png": "[encoded data removed]",
            "text/plain": [
              "<Figure size 72x72 with 1 Axes>"
            ]
          },
          "metadata": {
            "tags": [],
            "needs_background": "light"
          }
        }
      ]
    }
  ]
}