{
  "nbformat": 4,
  "nbformat_minor": 0,
  "metadata": {
    "colab": {
      "name": "num_of_clusters.ipynb",
      "provenance": [],
      "collapsed_sections": [],
      "authorship_tag": "ABX9TyNjrc4LqGBFq82BVKNpGhK2",
      "include_colab_link": true
    },
    "kernelspec": {
      "name": "python3",
      "display_name": "Python 3"
    }
  },
  "cells": [
    {
      "cell_type": "markdown",
      "metadata": {
        "id": "view-in-github",
        "colab_type": "text"
      },
      "source": [
        "<a href=\"https://colab.research.google.com/github/seenu-g/school_of_ai/blob/master/chap12/annotation%20/num_of_clusters.ipynb\" target=\"_parent\"><img src=\"https://colab.research.google.com/assets/colab-badge.svg\" alt=\"Open In Colab\"/></a>"
      ]
    },
    {
      "cell_type": "code",
      "metadata": {
        "id": "aApMA3oLoCBk",
        "colab_type": "code",
        "colab": {
          "base_uri": "https://localhost:8080/",
          "height": 122
        },
        "outputId": "49954c95-8e52-486d-8d5e-fd37fc937688"
      },
      "source": [
        "from google.colab import drive\n",
        "import sys\n",
        "%load_ext autoreload\n",
        "%autoreload 2\n",
        "drive.mount('/content/gdrive',force_remount=True)"
      ],
      "execution_count": 4,
      "outputs": [
        {
          "output_type": "stream",
          "text": [
            "Go to this URL in a browser: https://accounts.google.com/o/oauth2/auth?client_id=947318989803-6bn6qk8qdgf4n4g3pfee6491hc0brc4i.apps.googleusercontent.com&redirect_uri=urn%3aietf%3awg%3aoauth%3a2.0%3aoob&response_type=code&scope=email%20https%3a%2f%2fwww.googleapis.com%2fauth%2fdocs.test%20https%3a%2f%2fwww.googleapis.com%2fauth%2fdrive%20https%3a%2f%2fwww.googleapis.com%2fauth%2fdrive.photos.readonly%20https%3a%2f%2fwww.googleapis.com%2fauth%2fpeopleapi.readonly\n",
            "\n",
            "Enter your authorization code:\n",
            "··········\n",
            "Mounted at /content/gdrive\n"
          ],
          "name": "stdout"
        }
      ]
    },
    {
      "cell_type": "code",
      "metadata": {
        "id": "FygrXAGuoMpa",
        "colab_type": "code",
        "colab": {
          "base_uri": "https://localhost:8080/",
          "height": 85
        },
        "outputId": "04fbffc8-45c7-44c2-8db8-9c914d8aedcd"
      },
      "source": [
        "import sys\n",
        "import os\n",
        "folder = '/content/gdrive/My Drive/school_of_ai/chap12/annotations/'\n",
        "os.chdir(folder)\n",
        "print(os.getcwd()) \n",
        "for items in os.listdir(folder):\n",
        "   print(items)\n",
        "sys.path.append(folder)"
      ],
      "execution_count": 6,
      "outputs": [
        {
          "output_type": "stream",
          "text": [
            "/content/gdrive/My Drive/school_of_ai/chap12/annotations\n",
            "via_export_coco.json\n",
            "50dogs\n",
            "Untitled0.ipynb\n"
          ],
          "name": "stdout"
        }
      ]
    },
    {
      "cell_type": "code",
      "metadata": {
        "id": "7VQrCTP_m2Xa",
        "colab_type": "code",
        "colab": {}
      },
      "source": [
        "%matplotlib inline\n",
        "from __future__ import print_function\n",
        "import sys\n",
        "import os\n",
        "from argparse import Namespace\n",
        "\n",
        "import json\n",
        "import numpy as np\n",
        "import pandas as pd\n",
        "from matplotlib import pyplot as plt\n",
        "from sklearn.cluster import KMeans\n",
        "from plotnine import *"
      ],
      "execution_count": 0,
      "outputs": []
    },
    {
      "cell_type": "code",
      "metadata": {
        "id": "WFeAvLHtm5kv",
        "colab_type": "code",
        "colab": {}
      },
      "source": [
        "os.chdir('/content/gdrive/My Drive/school_of_ai/chap12/annotations/50dogs')\n",
        "with open('/content/gdrive/My Drive/school_of_ai/chap12/annotations/via_export_coco.json') as f:\n",
        "  data = json.load(f)"
      ],
      "execution_count": 0,
      "outputs": []
    },
    {
      "cell_type": "code",
      "metadata": {
        "id": "LY07rtV1m-1P",
        "colab_type": "code",
        "colab": {
          "base_uri": "https://localhost:8080/",
          "height": 136
        },
        "outputId": "3a24256a-3a3d-4435-c586-5b25d05ad68a"
      },
      "source": [
        "images = {img['id']:img for img in data['images'] }\n",
        "len(images), images[0]"
      ],
      "execution_count": 11,
      "outputs": [
        {
          "output_type": "execute_result",
          "data": {
            "text/plain": [
              "(50,\n",
              " {'date_captured': '',\n",
              "  'file_name': 'n02085782_564.jpg',\n",
              "  'height': 290,\n",
              "  'id': 0,\n",
              "  'license': 1,\n",
              "  'width': 290})"
            ]
          },
          "metadata": {
            "tags": []
          },
          "execution_count": 11
        }
      ]
    },
    {
      "cell_type": "code",
      "metadata": {
        "id": "sZ_hCF6ZnByd",
        "colab_type": "code",
        "colab": {
          "base_uri": "https://localhost:8080/",
          "height": 136
        },
        "outputId": "5051ed9a-63a3-472e-8b9f-7394c6571bcf"
      },
      "source": [
        "len(data['annotations']), data['annotations'][0]"
      ],
      "execution_count": 12,
      "outputs": [
        {
          "output_type": "execute_result",
          "data": {
            "text/plain": [
              "(51,\n",
              " {'area': 53934,\n",
              "  'bbox': [53, 13, 202, 267],\n",
              "  'id': 0,\n",
              "  'image_id': '0',\n",
              "  'iscrowd': 0,\n",
              "  'segmentation': [53, 13, 255, 13, 255, 280, 53, 280]})"
            ]
          },
          "metadata": {
            "tags": []
          },
          "execution_count": 12
        }
      ]
    },
    {
      "cell_type": "code",
      "metadata": {
        "id": "84C9BlWSnGET",
        "colab_type": "code",
        "colab": {
          "base_uri": "https://localhost:8080/",
          "height": 187
        },
        "outputId": "315bc598-5f6c-4f6b-b3d7-690415183a1b"
      },
      "source": [
        "output = []\n",
        "for element in data['annotations']:\n",
        "  img_detail = {}\n",
        "  id = int(element['image_id'])\n",
        "  # print(images[id]['height'])\n",
        "  height = images[id]['height']\n",
        "  width = images[id]['width']\n",
        "  img_detail['file_name'] = images[id]['file_name']\n",
        "  bb_x, bb_y, bb_width, bb_height = element['bbox']\n",
        "  \n",
        "  img_detail['height'] = height\n",
        "  img_detail['width'] = width\n",
        "  img_detail['height_norm'] = height/height\n",
        "  img_detail['width_norm'] = width/width\n",
        "  img_detail['bb_height_norm'] = bb_height/height\n",
        "  img_detail['bb_width_norm'] = bb_width/width\n",
        "  img_detail['bb_x_norm'] = bb_x/width\n",
        "  img_detail['bb_y_norm'] = bb_y/height\n",
        "  output.append(img_detail)\n",
        "\n",
        "len(output), output[0]"
      ],
      "execution_count": 13,
      "outputs": [
        {
          "output_type": "execute_result",
          "data": {
            "text/plain": [
              "(51,\n",
              " {'bb_height_norm': 0.9206896551724137,\n",
              "  'bb_width_norm': 0.696551724137931,\n",
              "  'bb_x_norm': 0.18275862068965518,\n",
              "  'bb_y_norm': 0.04482758620689655,\n",
              "  'file_name': 'n02085782_564.jpg',\n",
              "  'height': 290,\n",
              "  'height_norm': 1.0,\n",
              "  'width': 290,\n",
              "  'width_norm': 1.0})"
            ]
          },
          "metadata": {
            "tags": []
          },
          "execution_count": 13
        }
      ]
    },
    {
      "cell_type": "code",
      "metadata": {
        "id": "a2d2yyf7nXIE",
        "colab_type": "code",
        "colab": {
          "base_uri": "https://localhost:8080/",
          "height": 204
        },
        "outputId": "3498c114-d9fa-4e8b-a96a-66425b3fd32c"
      },
      "source": [
        "df = pd.DataFrame(output)\n",
        "df.head()"
      ],
      "execution_count": 15,
      "outputs": [
        {
          "output_type": "execute_result",
          "data": {
            "text/html": [
              "<div>\n",
              "<style scoped>\n",
              "    .dataframe tbody tr th:only-of-type {\n",
              "        vertical-align: middle;\n",
              "    }\n",
              "\n",
              "    .dataframe tbody tr th {\n",
              "        vertical-align: top;\n",
              "    }\n",
              "\n",
              "    .dataframe thead th {\n",
              "        text-align: right;\n",
              "    }\n",
              "</style>\n",
              "<table border=\"1\" class=\"dataframe\">\n",
              "  <thead>\n",
              "    <tr style=\"text-align: right;\">\n",
              "      <th></th>\n",
              "      <th>file_name</th>\n",
              "      <th>height</th>\n",
              "      <th>width</th>\n",
              "      <th>height_norm</th>\n",
              "      <th>width_norm</th>\n",
              "      <th>bb_height_norm</th>\n",
              "      <th>bb_width_norm</th>\n",
              "      <th>bb_x_norm</th>\n",
              "      <th>bb_y_norm</th>\n",
              "    </tr>\n",
              "  </thead>\n",
              "  <tbody>\n",
              "    <tr>\n",
              "      <th>0</th>\n",
              "      <td>n02085782_564.jpg</td>\n",
              "      <td>290</td>\n",
              "      <td>290</td>\n",
              "      <td>1.0</td>\n",
              "      <td>1.0</td>\n",
              "      <td>0.920690</td>\n",
              "      <td>0.696552</td>\n",
              "      <td>0.182759</td>\n",
              "      <td>0.044828</td>\n",
              "    </tr>\n",
              "    <tr>\n",
              "      <th>1</th>\n",
              "      <td>n02086240_272.jpg</td>\n",
              "      <td>378</td>\n",
              "      <td>500</td>\n",
              "      <td>1.0</td>\n",
              "      <td>1.0</td>\n",
              "      <td>0.399471</td>\n",
              "      <td>0.580000</td>\n",
              "      <td>0.210000</td>\n",
              "      <td>0.571429</td>\n",
              "    </tr>\n",
              "    <tr>\n",
              "      <th>2</th>\n",
              "      <td>n02086646_309.jpg</td>\n",
              "      <td>300</td>\n",
              "      <td>400</td>\n",
              "      <td>1.0</td>\n",
              "      <td>1.0</td>\n",
              "      <td>0.783333</td>\n",
              "      <td>0.507500</td>\n",
              "      <td>0.320000</td>\n",
              "      <td>0.113333</td>\n",
              "    </tr>\n",
              "    <tr>\n",
              "      <th>3</th>\n",
              "      <td>n02087394_889.jpg</td>\n",
              "      <td>500</td>\n",
              "      <td>333</td>\n",
              "      <td>1.0</td>\n",
              "      <td>1.0</td>\n",
              "      <td>0.852000</td>\n",
              "      <td>0.831832</td>\n",
              "      <td>0.027027</td>\n",
              "      <td>0.086000</td>\n",
              "    </tr>\n",
              "    <tr>\n",
              "      <th>4</th>\n",
              "      <td>n02088094_115.jpg</td>\n",
              "      <td>500</td>\n",
              "      <td>318</td>\n",
              "      <td>1.0</td>\n",
              "      <td>1.0</td>\n",
              "      <td>0.790000</td>\n",
              "      <td>0.641509</td>\n",
              "      <td>0.213836</td>\n",
              "      <td>0.136000</td>\n",
              "    </tr>\n",
              "  </tbody>\n",
              "</table>\n",
              "</div>"
            ],
            "text/plain": [
              "           file_name  height  width  ...  bb_width_norm  bb_x_norm  bb_y_norm\n",
              "0  n02085782_564.jpg     290    290  ...       0.696552   0.182759   0.044828\n",
              "1  n02086240_272.jpg     378    500  ...       0.580000   0.210000   0.571429\n",
              "2  n02086646_309.jpg     300    400  ...       0.507500   0.320000   0.113333\n",
              "3  n02087394_889.jpg     500    333  ...       0.831832   0.027027   0.086000\n",
              "4  n02088094_115.jpg     500    318  ...       0.641509   0.213836   0.136000\n",
              "\n",
              "[5 rows x 9 columns]"
            ]
          },
          "metadata": {
            "tags": []
          },
          "execution_count": 15
        }
      ]
    },
    {
      "cell_type": "code",
      "metadata": {
        "id": "7Wc8WUY8o-XG",
        "colab_type": "code",
        "colab": {
          "base_uri": "https://localhost:8080/",
          "height": 34
        },
        "outputId": "bc16cea8-85ab-4a68-ee51-2395c61ec9ed"
      },
      "source": [
        "df.shape"
      ],
      "execution_count": 23,
      "outputs": [
        {
          "output_type": "execute_result",
          "data": {
            "text/plain": [
              "(51, 9)"
            ]
          },
          "metadata": {
            "tags": []
          },
          "execution_count": 23
        }
      ]
    },
    {
      "cell_type": "code",
      "metadata": {
        "id": "LwhzA4ugnX0Y",
        "colab_type": "code",
        "colab": {
          "base_uri": "https://localhost:8080/",
          "height": 465
        },
        "outputId": "864cca77-59e1-4704-f68e-84df49f28873"
      },
      "source": [
        "(\n",
        "        ggplot(data=df)\n",
        "+geom_point(mapping=aes(x='bb_width_norm', y='bb_height_norm', color='bb_height_norm'))\n",
        ")"
      ],
      "execution_count": 22,
      "outputs": [
        {
          "output_type": "display_data",
          "data": {
            "image/png": "[encoded data removed]",
            "text/plain": [
              "<Figure size 640x480 with 1 Axes>"
            ]
          },
          "metadata": {
            "tags": []
          }
        },
        {
          "output_type": "execute_result",
          "data": {
            "text/plain": [
              "<ggplot: (8742360225789)>"
            ]
          },
          "metadata": {
            "tags": []
          },
          "execution_count": 22
        }
      ]
    },
    {
      "cell_type": "code",
      "metadata": {
        "id": "oDYZJ4BSnj2Z",
        "colab_type": "code",
        "colab": {
          "base_uri": "https://localhost:8080/",
          "height": 204
        },
        "outputId": "83844737-1a49-4e3e-af8d-894da68440fb"
      },
      "source": [
        "df_k = df[['bb_height_norm','bb_width_norm']]\n",
        "df_k.head()"
      ],
      "execution_count": 18,
      "outputs": [
        {
          "output_type": "execute_result",
          "data": {
            "text/html": [
              "<div>\n",
              "<style scoped>\n",
              "    .dataframe tbody tr th:only-of-type {\n",
              "        vertical-align: middle;\n",
              "    }\n",
              "\n",
              "    .dataframe tbody tr th {\n",
              "        vertical-align: top;\n",
              "    }\n",
              "\n",
              "    .dataframe thead th {\n",
              "        text-align: right;\n",
              "    }\n",
              "</style>\n",
              "<table border=\"1\" class=\"dataframe\">\n",
              "  <thead>\n",
              "    <tr style=\"text-align: right;\">\n",
              "      <th></th>\n",
              "      <th>bb_height_norm</th>\n",
              "      <th>bb_width_norm</th>\n",
              "    </tr>\n",
              "  </thead>\n",
              "  <tbody>\n",
              "    <tr>\n",
              "      <th>0</th>\n",
              "      <td>0.920690</td>\n",
              "      <td>0.696552</td>\n",
              "    </tr>\n",
              "    <tr>\n",
              "      <th>1</th>\n",
              "      <td>0.399471</td>\n",
              "      <td>0.580000</td>\n",
              "    </tr>\n",
              "    <tr>\n",
              "      <th>2</th>\n",
              "      <td>0.783333</td>\n",
              "      <td>0.507500</td>\n",
              "    </tr>\n",
              "    <tr>\n",
              "      <th>3</th>\n",
              "      <td>0.852000</td>\n",
              "      <td>0.831832</td>\n",
              "    </tr>\n",
              "    <tr>\n",
              "      <th>4</th>\n",
              "      <td>0.790000</td>\n",
              "      <td>0.641509</td>\n",
              "    </tr>\n",
              "  </tbody>\n",
              "</table>\n",
              "</div>"
            ],
            "text/plain": [
              "   bb_height_norm  bb_width_norm\n",
              "0        0.920690       0.696552\n",
              "1        0.399471       0.580000\n",
              "2        0.783333       0.507500\n",
              "3        0.852000       0.831832\n",
              "4        0.790000       0.641509"
            ]
          },
          "metadata": {
            "tags": []
          },
          "execution_count": 18
        }
      ]
    },
    {
      "cell_type": "code",
      "metadata": {
        "id": "sK3Y03H4nm5F",
        "colab_type": "code",
        "colab": {}
      },
      "source": [
        "wcss = []\n",
        "for i in range(1, 11):\n",
        "    kmeans = KMeans(n_clusters=i, init='k-means++', max_iter=500, n_init=10, random_state=42)\n",
        "    kmeans.fit(df_k)\n",
        "    wcss.append({'k':i, 'inertia':kmeans.inertia_})"
      ],
      "execution_count": 0,
      "outputs": []
    },
    {
      "cell_type": "code",
      "metadata": {
        "id": "uy_lbXCQnrIg",
        "colab_type": "code",
        "colab": {
          "base_uri": "https://localhost:8080/",
          "height": 490
        },
        "outputId": "640702de-c196-423c-ab3d-ab8c0c10076c"
      },
      "source": [
        "(\n",
        "  ggplot(data=pd.DataFrame(wcss))\n",
        "    +geom_line(mapping=aes(x='k', y='inertia'),color=\"blue\")\n",
        "    +labs(title='Elbow Plot',x = 'Number Clusters', y='WCSS')\n",
        ")"
      ],
      "execution_count": 20,
      "outputs": [
        {
          "output_type": "display_data",
          "data": {
            "image/png": "[encoded data removed]",
            "text/plain": [
              "<Figure size 640x480 with 1 Axes>"
            ]
          },
          "metadata": {
            "tags": []
          }
        },
        {
          "output_type": "execute_result",
          "data": {
            "text/plain": [
              "<ggplot: (8742360225775)>"
            ]
          },
          "metadata": {
            "tags": []
          },
          "execution_count": 20
        }
      ]
    },
    {
      "cell_type": "code",
      "metadata": {
        "id": "7GyO9PjInuba",
        "colab_type": "code",
        "colab": {
          "base_uri": "https://localhost:8080/",
          "height": 465
        },
        "outputId": "76876427-e88b-45fc-8986-2325f75429ae"
      },
      "source": [
        "# From the above we choose a cluster of 5\n",
        "kmeans = KMeans(n_clusters=5, init='k-means++', max_iter=500, n_init=10, random_state=42)\n",
        "pred_y = kmeans.fit_predict(df_k)\n",
        "\n",
        "(\n",
        "    ggplot()\n",
        "    +geom_point(data=df_k,mapping=aes(x='bb_width_norm', y='bb_height_norm'), color=\"blue\")\n",
        "    +geom_point(data=pd.DataFrame(kmeans.cluster_centers_),mapping=aes(x=kmeans.cluster_centers_[:,0],y=kmeans.cluster_centers_[:,1]), color=\"green\", size=6)\n",
        ")"
      ],
      "execution_count": 21,
      "outputs": [
        {
          "output_type": "display_data",
          "data": {
            "image/png": "[encoded data removed]",
            "text/plain": [
              "<Figure size 640x480 with 1 Axes>"
            ]
          },
          "metadata": {
            "tags": []
          }
        },
        {
          "output_type": "execute_result",
          "data": {
            "text/plain": [
              "<ggplot: (-9223363294496128673)>"
            ]
          },
          "metadata": {
            "tags": []
          },
          "execution_count": 21
        }
      ]
    }
  ]
}