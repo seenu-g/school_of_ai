{
  "nbformat": 4,
  "nbformat_minor": 0,
  "metadata": {
    "colab": {
      "name": "Trial2.ipynb",
      "provenance": [],
      "collapsed_sections": [],
      "authorship_tag": "ABX9TyOm39z1KgryT04M93WcLCvE",
      "include_colab_link": true
    },
    "kernelspec": {
      "name": "python3",
      "display_name": "Python 3"
    },
    "accelerator": "GPU"
  },
  "cells": [
    {
      "cell_type": "markdown",
      "metadata": {
        "id": "view-in-github",
        "colab_type": "text"
      },
      "source": [
        "<a href=\"https://colab.research.google.com/github/seenu-g/school_of_ai/blob/master/chap12/Trial2.ipynb\" target=\"_parent\"><img src=\"https://colab.research.google.com/assets/colab-badge.svg\" alt=\"Open In Colab\"/></a>"
      ]
    },
    {
      "cell_type": "code",
      "metadata": {
        "id": "MjCbj6bOPzpL",
        "colab_type": "code",
        "colab": {
          "base_uri": "https://localhost:8080/",
          "height": 102
        },
        "outputId": "c796930e-fdb7-434b-9312-fd97f4a0e998"
      },
      "source": [
        "!pip install -U git+https://github.com/albu/albumentations > /dev/null && echo \"Albumentation library is successfully installed!\"\n",
        "!pip install --no-cache-dir git+https://github.com/NVIDIA/apex > /dev/null && echo \"Apex library is successfully installed!\"!"
      ],
      "execution_count": 2,
      "outputs": [
        {
          "output_type": "stream",
          "text": [
            "  Running command git clone -q https://github.com/albu/albumentations /tmp/pip-req-build-b2mr40rh\n",
            "Albumentation library is successfully installed!\n",
            "  Running command git clone -q https://github.com/NVIDIA/apex /tmp/pip-req-build-o_15ea3q\n",
            "  Running command git submodule update --init --recursive -q\n",
            "Apex library is successfully installed!!\n"
          ],
          "name": "stdout"
        }
      ]
    },
    {
      "cell_type": "code",
      "metadata": {
        "id": "WgPp5Eg9QYUD",
        "colab_type": "code",
        "colab": {
          "base_uri": "https://localhost:8080/",
          "height": 122
        },
        "outputId": "45bd476e-462b-421a-8bf4-0d3353fbfd59"
      },
      "source": [
        "# mount gdrive and unzip data\n",
        "from google.colab import drive\n",
        "import sys\n",
        "%load_ext autoreload\n",
        "%autoreload 2\n",
        "drive.mount('/content/gdrive',force_remount=True)"
      ],
      "execution_count": 3,
      "outputs": [
        {
          "output_type": "stream",
          "text": [
            "Go to this URL in a browser: https://accounts.google.com/o/oauth2/auth?client_id=947318989803-6bn6qk8qdgf4n4g3pfee6491hc0brc4i.apps.googleusercontent.com&redirect_uri=urn%3aietf%3awg%3aoauth%3a2.0%3aoob&response_type=code&scope=email%20https%3a%2f%2fwww.googleapis.com%2fauth%2fdocs.test%20https%3a%2f%2fwww.googleapis.com%2fauth%2fdrive%20https%3a%2f%2fwww.googleapis.com%2fauth%2fdrive.photos.readonly%20https%3a%2f%2fwww.googleapis.com%2fauth%2fpeopleapi.readonly\n",
            "\n",
            "Enter your authorization code:\n",
            "··········\n",
            "Mounted at /content/gdrive\n"
          ],
          "name": "stdout"
        }
      ]
    },
    {
      "cell_type": "code",
      "metadata": {
        "id": "PsxDKinaQmyq",
        "colab_type": "code",
        "colab": {
          "base_uri": "https://localhost:8080/",
          "height": 119
        },
        "outputId": "17041d51-8f26-4a35-fe12-693ae0184e08"
      },
      "source": [
        "import sys\n",
        "import os\n",
        "folder = '/content/gdrive/My Drive/school_of_ai/chap12/'\n",
        "os.chdir(folder)\n",
        "print(os.getcwd()) \n",
        "for items in os.listdir(folder):\n",
        "   print(items)\n",
        "sys.path.append(folder)"
      ],
      "execution_count": 4,
      "outputs": [
        {
          "output_type": "stream",
          "text": [
            "/content/gdrive/My Drive/school_of_ai/chap12\n",
            "template\n",
            "tiny-imagenet-200.zip\n",
            "tiny-imagenet-200\n",
            "Trial1.ipynb\n",
            "Trial2.ipynb\n"
          ],
          "name": "stdout"
        }
      ]
    },
    {
      "cell_type": "code",
      "metadata": {
        "id": "l6ZF8b2kRBW5",
        "colab_type": "code",
        "colab": {}
      },
      "source": [
        "import os\n",
        "import requests\n",
        "from zipfile import ZipFile \n",
        "from io import StringIO\n",
        "import pandas as pd\n",
        "from torch.utils.data import Dataset\n",
        "import numpy as np\n",
        "from PIL import Image\n",
        "from torchvision import transforms, utils"
      ],
      "execution_count": 0,
      "outputs": []
    },
    {
      "cell_type": "code",
      "metadata": {
        "id": "Uq8Qag29Q7B9",
        "colab_type": "code",
        "colab": {}
      },
      "source": [
        "def download_images(url,fileName):\n",
        "    if(os.path.isfile(fileName)==False) :\n",
        "          print ('Downloading ' + url )\n",
        "          try:\n",
        "                r = requests.get(url, stream=True)\n",
        "                with open(fileName,'wb') as f: \n",
        "                  f.write(r.content) \n",
        "          except :\n",
        "                print (\"Exception to download file\",fileName)\n",
        "                return False\n",
        "    else:\n",
        "        print (fileName, \" already exists in \",os. getcwd()) \n",
        "    \n",
        "def extract_zip_file(download_folder,fileName):\n",
        "    \n",
        "    if (os.path.isdir(download_folder)==False):\n",
        "        print(download_folder,\" does not exist\")\n",
        "        return    \n",
        "    if(os.path.isfile(fileName)==False) :\n",
        "        print(fileName,\" from which to extract does not exist\")\n",
        "        return\n",
        "    \n",
        "    os.chdir(download_folder)\n",
        "    extracted_folder = download_folder + fileName.split('.')[0]\n",
        "    \n",
        "    if (os.path.isdir(extracted_folder)==True):\n",
        "        print ('Images seems to be downloaded and extracted already... to',extracted_folder)\n",
        "        return\n",
        "\n",
        "    with ZipFile(fileName, 'r') as zip: \n",
        "         try:\n",
        "              #zip.printdir() \n",
        "              print('Extracting file ' + fileName + ' now... to ',extracted_folder) \n",
        "              zip.extractall() \n",
        "              print('File Extraction Done!') \n",
        "              return \n",
        "         except:\n",
        "              print (\"Exception to Unzip file\",fileName)\n",
        "              return "
      ],
      "execution_count": 0,
      "outputs": []
    },
    {
      "cell_type": "code",
      "metadata": {
        "id": "fMHa0eZyQDX7",
        "colab_type": "code",
        "colab": {}
      },
      "source": [
        "def read_val_boxes(fileName) :\n",
        "       val_boxes_data = pd.read_csv(fileName, delim_whitespace=True, header=None, names=['Images', 'Class', '1', '2', '3', '4'])\n",
        "       return val_boxes_data\n",
        "  \n",
        "def read_val_annotations(fileName) :\n",
        "        val_annotation_data = pd.read_csv(fileName, delim_whitespace=True, header=None, names=['File', 'Class', '1', '2', '3', '4'])\n",
        "        return val_annotation_data\n",
        "    \n",
        "def get_label_from_name(data, name):\n",
        "    for row in data.iterrows():       \n",
        "        if (row['File'] == name):\n",
        "            return row['Class']  \n",
        "\n",
        "def get_classes(download_folder):\n",
        "    classes = []\n",
        "    wnids = open(os.path.join(download_folder,\"wnids.txt\"), \"r\")\n",
        "    for line in wnids:\n",
        "        classes.append(line.strip())\n",
        "    return classes\n",
        "\n",
        "def load_train_data(download_folder,classes):\n",
        "    train_data = []\n",
        "    train_target = []\n",
        "    train_folder = os.path.join(download_folder,'train')\n",
        "    for classKey in os.listdir(train_folder):\n",
        "        class_folder = os.path.join(train_folder, classKey)\n",
        "        boxes_filepath = os.path.join(class_folder , classKey+'_boxes.txt')\n",
        "        boxes_records = read_val_boxes(boxes_filepath)\n",
        "        images_folder = class_folder + '/images/'\n",
        "        for image_file in os.listdir(images_folder):\n",
        "            a = Image.open(images_folder+image_file)\n",
        "            npimg = np.asarray(a)\n",
        "            if(len(npimg.shape) ==2):\n",
        "              npimg = np.repeat(npimg[:, :, np.newaxis], 3, axis=2)\n",
        "            train_data.append(npimg)  \n",
        "            train_target.append(classes.index(classKey)) \n",
        "    return train_data,train_target\n",
        "\n",
        "def load_val_data(download_folder):\n",
        "    val_data = []\n",
        "    val_labels = []\n",
        "    val_folder = os.path.join(download_folder,'val')\n",
        "    annotations_filepath = os.path.join(val_folder , 'val_annotations.txt')\n",
        "    annotations_data = read_val_annotations(annotations_filepath)\n",
        "    images_folder = val_folder + '/images/'\n",
        "    for image_file in os.listdir(images_folder):\n",
        "        a = Image.open(images_folder+image_file)\n",
        "        npimg = np.asarray(a)\n",
        "        if(len(npimg.shape) ==2):\n",
        "              npimg = np.repeat(npimg[:, :, np.newaxis], 3, axis=2)\n",
        "        val_data.append(npimg)  \n",
        "        val_labels.append(get_label_from_name(annotations_data, image_file))\n",
        "    return val_data,val_labels\n",
        "\n",
        "\n",
        "class TintImageNetTrainDataset(Dataset):\n",
        "    \n",
        "    def __init__(self, data_root,classes):\n",
        "        self.classes = classes\n",
        "        self.train_data, self.train_target = load_train_data(data_root,classes)\n",
        "\n",
        "    def __len__(self):\n",
        "        return len(self.train_data)\n",
        "\n",
        "    def __getitem__(self, idx):\n",
        "        data = self.train_data[idx]\n",
        "        target = self.train_target[idx]\n",
        "        img = data\n",
        "        self.transform =  transforms.Compose(\n",
        "            [   \n",
        "                transforms.ToTensor(),\n",
        "                transforms.Normalize((0.5, 0.5, 0.5), (0.5, 0.5, 0.5))\n",
        "            ])\n",
        "        img = self.transform(img)\n",
        "        return img,target\n",
        "    \n",
        "class TintImageNetValDataset(Dataset):\n",
        " \n",
        "    def __init__(self, data_root, classes):\n",
        "        \n",
        "        self.classes = classes\n",
        "        self.val_data, self.val_labels = load_val_data(data_root)\n",
        "\n",
        "    def __len__(self):\n",
        "        return len(self.val_data)\n",
        "\n",
        "    def __getitem__(self, idx):\n",
        "        data = self.val_data[idx]\n",
        "        target = self.val_labels[idx]\n",
        "        img = data\n",
        "        self.transform =  transforms.Compose(\n",
        "            [   \n",
        "                transforms.ToTensor(),\n",
        "                transforms.Normalize((0.5, 0.5, 0.5), (0.5, 0.5, 0.5))\n",
        "            ])\n",
        "        img = self.transform(img)\n",
        "        return img,target"
      ],
      "execution_count": 0,
      "outputs": []
    },
    {
      "cell_type": "code",
      "metadata": {
        "id": "I_6WykjqR5oX",
        "colab_type": "code",
        "colab": {}
      },
      "source": [
        "IMAGES_URL = 'http://cs231n.stanford.edu/tiny-imagenet-200.zip'\n",
        "fileName = \"tiny-imagenet-200.zip\"\n",
        "\n",
        "download_images(IMAGES_URL)\n",
        "extract_zipfile(folder,fileName)"
      ],
      "execution_count": 0,
      "outputs": []
    },
    {
      "cell_type": "code",
      "metadata": {
        "id": "GMDCt1NTQPm_",
        "colab_type": "code",
        "colab": {
          "base_uri": "https://localhost:8080/",
          "height": 54
        },
        "outputId": "5e0f1670-c364-4bc4-c4dd-fa671520c452"
      },
      "source": [
        "download_folder = folder + 'tiny-imagenet-200/'\n",
        "if (os.path.isdir(download_folder)==False):\n",
        "    print(download_folder,\" does not exist\")\n",
        "else :    \n",
        "    classes = get_classes(download_folder)\n",
        "    print(classes)"
      ],
      "execution_count": 8,
      "outputs": [
        {
          "output_type": "stream",
          "text": [
            "['n02124075', 'n04067472', 'n04540053', 'n04099969', 'n07749582', 'n01641577', 'n02802426', 'n09246464', 'n07920052', 'n03970156', 'n03891332', 'n02106662', 'n03201208', 'n02279972', 'n02132136', 'n04146614', 'n07873807', 'n02364673', 'n04507155', 'n03854065', 'n03838899', 'n03733131', 'n01443537', 'n07875152', 'n03544143', 'n09428293', 'n03085013', 'n02437312', 'n07614500', 'n03804744', 'n04265275', 'n02963159', 'n02486410', 'n01944390', 'n09256479', 'n02058221', 'n04275548', 'n02321529', 'n02769748', 'n02099712', 'n07695742', 'n02056570', 'n02281406', 'n01774750', 'n02509815', 'n03983396', 'n07753592', 'n04254777', 'n02233338', 'n04008634', 'n02823428', 'n02236044', 'n03393912', 'n07583066', 'n04074963', 'n01629819', 'n09332890', 'n02481823', 'n03902125', 'n03404251', 'n09193705', 'n03637318', 'n04456115', 'n02666196', 'n03796401', 'n02795169', 'n02123045', 'n01855672', 'n01882714', 'n02917067', 'n02988304', 'n04398044', 'n02843684', 'n02423022', 'n02669723', 'n04465501', 'n02165456', 'n03770439', 'n02099601', 'n04486054', 'n02950826', 'n03814639', 'n04259630', 'n03424325', 'n02948072', 'n03179701', 'n03400231', 'n02206856', 'n03160309', 'n01984695', 'n03977966', 'n03584254', 'n04023962', 'n02814860', 'n01910747', 'n04596742', 'n03992509', 'n04133789', 'n03937543', 'n02927161', 'n01945685', 'n02395406', 'n02125311', 'n03126707', 'n04532106', 'n02268443', 'n02977058', 'n07734744', 'n03599486', 'n04562935', 'n03014705', 'n04251144', 'n04356056', 'n02190166', 'n03670208', 'n02002724', 'n02074367', 'n04285008', 'n04560804', 'n04366367', 'n02403003', 'n07615774', 'n04501370', 'n03026506', 'n02906734', 'n01770393', 'n04597913', 'n03930313', 'n04118538', 'n04179913', 'n04311004', 'n02123394', 'n04070727', 'n02793495', 'n02730930', 'n02094433', 'n04371430', 'n04328186', 'n03649909', 'n04417672', 'n03388043', 'n01774384', 'n02837789', 'n07579787', 'n04399382', 'n02791270', 'n03089624', 'n02814533', 'n04149813', 'n07747607', 'n03355925', 'n01983481', 'n04487081', 'n03250847', 'n03255030', 'n02892201', 'n02883205', 'n03100240', 'n02415577', 'n02480495', 'n01698640', 'n01784675', 'n04376876', 'n03444034', 'n01917289', 'n01950731', 'n03042490', 'n07711569', 'n04532670', 'n03763968', 'n07768694', 'n02999410', 'n03617480', 'n06596364', 'n01768244', 'n02410509', 'n03976657', 'n01742172', 'n03980874', 'n02808440', 'n02226429', 'n02231487', 'n02085620', 'n01644900', 'n02129165', 'n02699494', 'n03837869', 'n02815834', 'n07720875', 'n02788148', 'n02909870', 'n03706229', 'n07871810', 'n03447447', 'n02113799', 'n12267677', 'n03662601', 'n02841315', 'n07715103', 'n02504458']\n"
          ],
          "name": "stdout"
        }
      ]
    },
    {
      "cell_type": "code",
      "metadata": {
        "id": "HJOH4D2nTTVa",
        "colab_type": "code",
        "colab": {
          "base_uri": "https://localhost:8080/",
          "height": 34
        },
        "outputId": "3c24ca3e-f768-48c9-ed58-851487fa718e"
      },
      "source": [
        "print(download_folder)"
      ],
      "execution_count": 9,
      "outputs": [
        {
          "output_type": "stream",
          "text": [
            "/content/gdrive/My Drive/school_of_ai/chap12/tiny-imagenet-200/\n"
          ],
          "name": "stdout"
        }
      ]
    },
    {
      "cell_type": "code",
      "metadata": {
        "id": "WFp5ZdmeS95W",
        "colab_type": "code",
        "colab": {}
      },
      "source": [
        "train_data, train_target = load_train_data(download_folder, classes)"
      ],
      "execution_count": 0,
      "outputs": []
    },
    {
      "cell_type": "code",
      "metadata": {
        "id": "3pEUU9DZS_xb",
        "colab_type": "code",
        "colab": {}
      },
      "source": [
        "   val_data, val_target = load_val_data(download_folder)"
      ],
      "execution_count": 0,
      "outputs": []
    }
  ]
}