{
  "nbformat": 4,
  "nbformat_minor": 0,
  "metadata": {
    "colab": {
      "name": "Trial5.ipynb",
      "provenance": [],
      "collapsed_sections": [],
      "authorship_tag": "ABX9TyNtGg/DWzR3qPIrdYjf9sjx",
      "include_colab_link": true
    },
    "kernelspec": {
      "name": "python3",
      "display_name": "Python 3"
    },
    "accelerator": "GPU",
    "widgets": {
      "application/vnd.jupyter.widget-state+json": {
        "ebbbe623c51440899c03ae38a36fb1cd": {
          "model_module": "@jupyter-widgets/controls",
          "model_name": "HBoxModel",
          "state": {
            "_view_name": "HBoxView",
            "_dom_classes": [],
            "_model_name": "HBoxModel",
            "_view_module": "@jupyter-widgets/controls",
            "_model_module_version": "1.5.0",
            "_view_count": null,
            "_view_module_version": "1.5.0",
            "box_style": "",
            "layout": "IPY_MODEL_6bc0ceda73c84040954765865595374c",
            "_model_module": "@jupyter-widgets/controls",
            "children": [
              "IPY_MODEL_cce947043b4343b2b35e62c40a1135f0",
              "IPY_MODEL_eddf9364c0154d29aa88cc7e2c854149"
            ]
          }
        },
        "6bc0ceda73c84040954765865595374c": {
          "model_module": "@jupyter-widgets/base",
          "model_name": "LayoutModel",
          "state": {
            "_view_name": "LayoutView",
            "grid_template_rows": null,
            "right": null,
            "justify_content": null,
            "_view_module": "@jupyter-widgets/base",
            "overflow": null,
            "_model_module_version": "1.2.0",
            "_view_count": null,
            "flex_flow": null,
            "width": null,
            "min_width": null,
            "border": null,
            "align_items": null,
            "bottom": null,
            "_model_module": "@jupyter-widgets/base",
            "top": null,
            "grid_column": null,
            "overflow_y": null,
            "overflow_x": null,
            "grid_auto_flow": null,
            "grid_area": null,
            "grid_template_columns": null,
            "flex": null,
            "_model_name": "LayoutModel",
            "justify_items": null,
            "grid_row": null,
            "max_height": null,
            "align_content": null,
            "visibility": null,
            "align_self": null,
            "height": null,
            "min_height": null,
            "padding": null,
            "grid_auto_rows": null,
            "grid_gap": null,
            "max_width": null,
            "order": null,
            "_view_module_version": "1.2.0",
            "grid_template_areas": null,
            "object_position": null,
            "object_fit": null,
            "grid_auto_columns": null,
            "margin": null,
            "display": null,
            "left": null
          }
        },
        "cce947043b4343b2b35e62c40a1135f0": {
          "model_module": "@jupyter-widgets/controls",
          "model_name": "IntProgressModel",
          "state": {
            "_view_name": "ProgressView",
            "style": "IPY_MODEL_d7e4ad2997074f4087017b13d37d5752",
            "_dom_classes": [],
            "description": "100%",
            "_model_name": "IntProgressModel",
            "bar_style": "success",
            "max": 120609,
            "_view_module": "@jupyter-widgets/controls",
            "_model_module_version": "1.5.0",
            "value": 120609,
            "_view_count": null,
            "_view_module_version": "1.5.0",
            "orientation": "horizontal",
            "min": 0,
            "description_tooltip": null,
            "_model_module": "@jupyter-widgets/controls",
            "layout": "IPY_MODEL_9de8267f657f45499df6a43c1134e7e5"
          }
        },
        "eddf9364c0154d29aa88cc7e2c854149": {
          "model_module": "@jupyter-widgets/controls",
          "model_name": "HTMLModel",
          "state": {
            "_view_name": "HTMLView",
            "style": "IPY_MODEL_da4a4a5b285f40ecb9b3c295c6de94df",
            "_dom_classes": [],
            "description": "",
            "_model_name": "HTMLModel",
            "placeholder": "​",
            "_view_module": "@jupyter-widgets/controls",
            "_model_module_version": "1.5.0",
            "value": " 120609/120609 [24:31&lt;00:00, 81.96it/s]",
            "_view_count": null,
            "_view_module_version": "1.5.0",
            "description_tooltip": null,
            "_model_module": "@jupyter-widgets/controls",
            "layout": "IPY_MODEL_e68a0d73f6944880991d54f318b0de38"
          }
        },
        "d7e4ad2997074f4087017b13d37d5752": {
          "model_module": "@jupyter-widgets/controls",
          "model_name": "ProgressStyleModel",
          "state": {
            "_view_name": "StyleView",
            "_model_name": "ProgressStyleModel",
            "description_width": "initial",
            "_view_module": "@jupyter-widgets/base",
            "_model_module_version": "1.5.0",
            "_view_count": null,
            "_view_module_version": "1.2.0",
            "bar_color": null,
            "_model_module": "@jupyter-widgets/controls"
          }
        },
        "9de8267f657f45499df6a43c1134e7e5": {
          "model_module": "@jupyter-widgets/base",
          "model_name": "LayoutModel",
          "state": {
            "_view_name": "LayoutView",
            "grid_template_rows": null,
            "right": null,
            "justify_content": null,
            "_view_module": "@jupyter-widgets/base",
            "overflow": null,
            "_model_module_version": "1.2.0",
            "_view_count": null,
            "flex_flow": null,
            "width": null,
            "min_width": null,
            "border": null,
            "align_items": null,
            "bottom": null,
            "_model_module": "@jupyter-widgets/base",
            "top": null,
            "grid_column": null,
            "overflow_y": null,
            "overflow_x": null,
            "grid_auto_flow": null,
            "grid_area": null,
            "grid_template_columns": null,
            "flex": null,
            "_model_name": "LayoutModel",
            "justify_items": null,
            "grid_row": null,
            "max_height": null,
            "align_content": null,
            "visibility": null,
            "align_self": null,
            "height": null,
            "min_height": null,
            "padding": null,
            "grid_auto_rows": null,
            "grid_gap": null,
            "max_width": null,
            "order": null,
            "_view_module_version": "1.2.0",
            "grid_template_areas": null,
            "object_position": null,
            "object_fit": null,
            "grid_auto_columns": null,
            "margin": null,
            "display": null,
            "left": null
          }
        },
        "da4a4a5b285f40ecb9b3c295c6de94df": {
          "model_module": "@jupyter-widgets/controls",
          "model_name": "DescriptionStyleModel",
          "state": {
            "_view_name": "StyleView",
            "_model_name": "DescriptionStyleModel",
            "description_width": "",
            "_view_module": "@jupyter-widgets/base",
            "_model_module_version": "1.5.0",
            "_view_count": null,
            "_view_module_version": "1.2.0",
            "_model_module": "@jupyter-widgets/controls"
          }
        },
        "e68a0d73f6944880991d54f318b0de38": {
          "model_module": "@jupyter-widgets/base",
          "model_name": "LayoutModel",
          "state": {
            "_view_name": "LayoutView",
            "grid_template_rows": null,
            "right": null,
            "justify_content": null,
            "_view_module": "@jupyter-widgets/base",
            "overflow": null,
            "_model_module_version": "1.2.0",
            "_view_count": null,
            "flex_flow": null,
            "width": null,
            "min_width": null,
            "border": null,
            "align_items": null,
            "bottom": null,
            "_model_module": "@jupyter-widgets/base",
            "top": null,
            "grid_column": null,
            "overflow_y": null,
            "overflow_x": null,
            "grid_auto_flow": null,
            "grid_area": null,
            "grid_template_columns": null,
            "flex": null,
            "_model_name": "LayoutModel",
            "justify_items": null,
            "grid_row": null,
            "max_height": null,
            "align_content": null,
            "visibility": null,
            "align_self": null,
            "height": null,
            "min_height": null,
            "padding": null,
            "grid_auto_rows": null,
            "grid_gap": null,
            "max_width": null,
            "order": null,
            "_view_module_version": "1.2.0",
            "grid_template_areas": null,
            "object_position": null,
            "object_fit": null,
            "grid_auto_columns": null,
            "margin": null,
            "display": null,
            "left": null
          }
        },
        "5beff491df824474b2b98720398137c1": {
          "model_module": "@jupyter-widgets/controls",
          "model_name": "HBoxModel",
          "state": {
            "_view_name": "HBoxView",
            "_dom_classes": [],
            "_model_name": "HBoxModel",
            "_view_module": "@jupyter-widgets/controls",
            "_model_module_version": "1.5.0",
            "_view_count": null,
            "_view_module_version": "1.5.0",
            "box_style": "",
            "layout": "IPY_MODEL_31a3d055c2464319a218a823087fb6aa",
            "_model_module": "@jupyter-widgets/controls",
            "children": [
              "IPY_MODEL_96ac67179c564b58a7aeb019936a1b81",
              "IPY_MODEL_07a759d972bb41629ee923482cbf6f68"
            ]
          }
        },
        "31a3d055c2464319a218a823087fb6aa": {
          "model_module": "@jupyter-widgets/base",
          "model_name": "LayoutModel",
          "state": {
            "_view_name": "LayoutView",
            "grid_template_rows": null,
            "right": null,
            "justify_content": null,
            "_view_module": "@jupyter-widgets/base",
            "overflow": null,
            "_model_module_version": "1.2.0",
            "_view_count": null,
            "flex_flow": null,
            "width": null,
            "min_width": null,
            "border": null,
            "align_items": null,
            "bottom": null,
            "_model_module": "@jupyter-widgets/base",
            "top": null,
            "grid_column": null,
            "overflow_y": null,
            "overflow_x": null,
            "grid_auto_flow": null,
            "grid_area": null,
            "grid_template_columns": null,
            "flex": null,
            "_model_name": "LayoutModel",
            "justify_items": null,
            "grid_row": null,
            "max_height": null,
            "align_content": null,
            "visibility": null,
            "align_self": null,
            "height": null,
            "min_height": null,
            "padding": null,
            "grid_auto_rows": null,
            "grid_gap": null,
            "max_width": null,
            "order": null,
            "_view_module_version": "1.2.0",
            "grid_template_areas": null,
            "object_position": null,
            "object_fit": null,
            "grid_auto_columns": null,
            "margin": null,
            "display": null,
            "left": null
          }
        },
        "96ac67179c564b58a7aeb019936a1b81": {
          "model_module": "@jupyter-widgets/controls",
          "model_name": "IntProgressModel",
          "state": {
            "_view_name": "ProgressView",
            "style": "IPY_MODEL_ed97f043a4b8445cba68ca145e36a628",
            "_dom_classes": [],
            "description": "Loading Train Folder: 100%",
            "_model_name": "IntProgressModel",
            "bar_style": "success",
            "max": 200,
            "_view_module": "@jupyter-widgets/controls",
            "_model_module_version": "1.5.0",
            "value": 200,
            "_view_count": null,
            "_view_module_version": "1.5.0",
            "orientation": "horizontal",
            "min": 0,
            "description_tooltip": null,
            "_model_module": "@jupyter-widgets/controls",
            "layout": "IPY_MODEL_9591a265a9124567b2b215e5330d31b2"
          }
        },
        "07a759d972bb41629ee923482cbf6f68": {
          "model_module": "@jupyter-widgets/controls",
          "model_name": "HTMLModel",
          "state": {
            "_view_name": "HTMLView",
            "style": "IPY_MODEL_f0b2b95e30ea4cd7b15dc0e8248fbcc6",
            "_dom_classes": [],
            "description": "",
            "_model_name": "HTMLModel",
            "placeholder": "​",
            "_view_module": "@jupyter-widgets/controls",
            "_model_module_version": "1.5.0",
            "value": " 200/200 [03:14&lt;00:00,  1.03it/s]",
            "_view_count": null,
            "_view_module_version": "1.5.0",
            "description_tooltip": null,
            "_model_module": "@jupyter-widgets/controls",
            "layout": "IPY_MODEL_ac83768337fd450dbea82ff614a8e8c5"
          }
        },
        "ed97f043a4b8445cba68ca145e36a628": {
          "model_module": "@jupyter-widgets/controls",
          "model_name": "ProgressStyleModel",
          "state": {
            "_view_name": "StyleView",
            "_model_name": "ProgressStyleModel",
            "description_width": "initial",
            "_view_module": "@jupyter-widgets/base",
            "_model_module_version": "1.5.0",
            "_view_count": null,
            "_view_module_version": "1.2.0",
            "bar_color": null,
            "_model_module": "@jupyter-widgets/controls"
          }
        },
        "9591a265a9124567b2b215e5330d31b2": {
          "model_module": "@jupyter-widgets/base",
          "model_name": "LayoutModel",
          "state": {
            "_view_name": "LayoutView",
            "grid_template_rows": null,
            "right": null,
            "justify_content": null,
            "_view_module": "@jupyter-widgets/base",
            "overflow": null,
            "_model_module_version": "1.2.0",
            "_view_count": null,
            "flex_flow": null,
            "width": null,
            "min_width": null,
            "border": null,
            "align_items": null,
            "bottom": null,
            "_model_module": "@jupyter-widgets/base",
            "top": null,
            "grid_column": null,
            "overflow_y": null,
            "overflow_x": null,
            "grid_auto_flow": null,
            "grid_area": null,
            "grid_template_columns": null,
            "flex": null,
            "_model_name": "LayoutModel",
            "justify_items": null,
            "grid_row": null,
            "max_height": null,
            "align_content": null,
            "visibility": null,
            "align_self": null,
            "height": null,
            "min_height": null,
            "padding": null,
            "grid_auto_rows": null,
            "grid_gap": null,
            "max_width": null,
            "order": null,
            "_view_module_version": "1.2.0",
            "grid_template_areas": null,
            "object_position": null,
            "object_fit": null,
            "grid_auto_columns": null,
            "margin": null,
            "display": null,
            "left": null
          }
        },
        "f0b2b95e30ea4cd7b15dc0e8248fbcc6": {
          "model_module": "@jupyter-widgets/controls",
          "model_name": "DescriptionStyleModel",
          "state": {
            "_view_name": "StyleView",
            "_model_name": "DescriptionStyleModel",
            "description_width": "",
            "_view_module": "@jupyter-widgets/base",
            "_model_module_version": "1.5.0",
            "_view_count": null,
            "_view_module_version": "1.2.0",
            "_model_module": "@jupyter-widgets/controls"
          }
        },
        "ac83768337fd450dbea82ff614a8e8c5": {
          "model_module": "@jupyter-widgets/base",
          "model_name": "LayoutModel",
          "state": {
            "_view_name": "LayoutView",
            "grid_template_rows": null,
            "right": null,
            "justify_content": null,
            "_view_module": "@jupyter-widgets/base",
            "overflow": null,
            "_model_module_version": "1.2.0",
            "_view_count": null,
            "flex_flow": null,
            "width": null,
            "min_width": null,
            "border": null,
            "align_items": null,
            "bottom": null,
            "_model_module": "@jupyter-widgets/base",
            "top": null,
            "grid_column": null,
            "overflow_y": null,
            "overflow_x": null,
            "grid_auto_flow": null,
            "grid_area": null,
            "grid_template_columns": null,
            "flex": null,
            "_model_name": "LayoutModel",
            "justify_items": null,
            "grid_row": null,
            "max_height": null,
            "align_content": null,
            "visibility": null,
            "align_self": null,
            "height": null,
            "min_height": null,
            "padding": null,
            "grid_auto_rows": null,
            "grid_gap": null,
            "max_width": null,
            "order": null,
            "_view_module_version": "1.2.0",
            "grid_template_areas": null,
            "object_position": null,
            "object_fit": null,
            "grid_auto_columns": null,
            "margin": null,
            "display": null,
            "left": null
          }
        },
        "6b07d146de8a44a9b22ded3ab3412bf7": {
          "model_module": "@jupyter-widgets/controls",
          "model_name": "HBoxModel",
          "state": {
            "_view_name": "HBoxView",
            "_dom_classes": [],
            "_model_name": "HBoxModel",
            "_view_module": "@jupyter-widgets/controls",
            "_model_module_version": "1.5.0",
            "_view_count": null,
            "_view_module_version": "1.5.0",
            "box_style": "",
            "layout": "IPY_MODEL_08b4e24f541c462d918ee0e6e028d6a0",
            "_model_module": "@jupyter-widgets/controls",
            "children": [
              "IPY_MODEL_fa2c5f3044ea4388bdbe81f4d9e0fe0e",
              "IPY_MODEL_b9b45cc9fdaf4bd98a5947f538822a51"
            ]
          }
        },
        "08b4e24f541c462d918ee0e6e028d6a0": {
          "model_module": "@jupyter-widgets/base",
          "model_name": "LayoutModel",
          "state": {
            "_view_name": "LayoutView",
            "grid_template_rows": null,
            "right": null,
            "justify_content": null,
            "_view_module": "@jupyter-widgets/base",
            "overflow": null,
            "_model_module_version": "1.2.0",
            "_view_count": null,
            "flex_flow": null,
            "width": null,
            "min_width": null,
            "border": null,
            "align_items": null,
            "bottom": null,
            "_model_module": "@jupyter-widgets/base",
            "top": null,
            "grid_column": null,
            "overflow_y": null,
            "overflow_x": null,
            "grid_auto_flow": null,
            "grid_area": null,
            "grid_template_columns": null,
            "flex": null,
            "_model_name": "LayoutModel",
            "justify_items": null,
            "grid_row": null,
            "max_height": null,
            "align_content": null,
            "visibility": null,
            "align_self": null,
            "height": null,
            "min_height": null,
            "padding": null,
            "grid_auto_rows": null,
            "grid_gap": null,
            "max_width": null,
            "order": null,
            "_view_module_version": "1.2.0",
            "grid_template_areas": null,
            "object_position": null,
            "object_fit": null,
            "grid_auto_columns": null,
            "margin": null,
            "display": null,
            "left": null
          }
        },
        "fa2c5f3044ea4388bdbe81f4d9e0fe0e": {
          "model_module": "@jupyter-widgets/controls",
          "model_name": "IntProgressModel",
          "state": {
            "_view_name": "ProgressView",
            "style": "IPY_MODEL_774ea3bedee5463e875ff8d09f813b1b",
            "_dom_classes": [],
            "description": "Loading Test Folder: 100%",
            "_model_name": "IntProgressModel",
            "bar_style": "success",
            "max": 10000,
            "_view_module": "@jupyter-widgets/controls",
            "_model_module_version": "1.5.0",
            "value": 10000,
            "_view_count": null,
            "_view_module_version": "1.5.0",
            "orientation": "horizontal",
            "min": 0,
            "description_tooltip": null,
            "_model_module": "@jupyter-widgets/controls",
            "layout": "IPY_MODEL_b9fa57d7f4464dc4bbd15d86f71d1fa3"
          }
        },
        "b9b45cc9fdaf4bd98a5947f538822a51": {
          "model_module": "@jupyter-widgets/controls",
          "model_name": "HTMLModel",
          "state": {
            "_view_name": "HTMLView",
            "style": "IPY_MODEL_49abab9cfa6f4516b131f238be120c34",
            "_dom_classes": [],
            "description": "",
            "_model_name": "HTMLModel",
            "placeholder": "​",
            "_view_module": "@jupyter-widgets/controls",
            "_model_module_version": "1.5.0",
            "value": " 10000/10000 [08:30&lt;00:00, 19.61it/s]",
            "_view_count": null,
            "_view_module_version": "1.5.0",
            "description_tooltip": null,
            "_model_module": "@jupyter-widgets/controls",
            "layout": "IPY_MODEL_619028e69d6543bb9eb0b3f4569de1de"
          }
        },
        "774ea3bedee5463e875ff8d09f813b1b": {
          "model_module": "@jupyter-widgets/controls",
          "model_name": "ProgressStyleModel",
          "state": {
            "_view_name": "StyleView",
            "_model_name": "ProgressStyleModel",
            "description_width": "initial",
            "_view_module": "@jupyter-widgets/base",
            "_model_module_version": "1.5.0",
            "_view_count": null,
            "_view_module_version": "1.2.0",
            "bar_color": null,
            "_model_module": "@jupyter-widgets/controls"
          }
        },
        "b9fa57d7f4464dc4bbd15d86f71d1fa3": {
          "model_module": "@jupyter-widgets/base",
          "model_name": "LayoutModel",
          "state": {
            "_view_name": "LayoutView",
            "grid_template_rows": null,
            "right": null,
            "justify_content": null,
            "_view_module": "@jupyter-widgets/base",
            "overflow": null,
            "_model_module_version": "1.2.0",
            "_view_count": null,
            "flex_flow": null,
            "width": null,
            "min_width": null,
            "border": null,
            "align_items": null,
            "bottom": null,
            "_model_module": "@jupyter-widgets/base",
            "top": null,
            "grid_column": null,
            "overflow_y": null,
            "overflow_x": null,
            "grid_auto_flow": null,
            "grid_area": null,
            "grid_template_columns": null,
            "flex": null,
            "_model_name": "LayoutModel",
            "justify_items": null,
            "grid_row": null,
            "max_height": null,
            "align_content": null,
            "visibility": null,
            "align_self": null,
            "height": null,
            "min_height": null,
            "padding": null,
            "grid_auto_rows": null,
            "grid_gap": null,
            "max_width": null,
            "order": null,
            "_view_module_version": "1.2.0",
            "grid_template_areas": null,
            "object_position": null,
            "object_fit": null,
            "grid_auto_columns": null,
            "margin": null,
            "display": null,
            "left": null
          }
        },
        "49abab9cfa6f4516b131f238be120c34": {
          "model_module": "@jupyter-widgets/controls",
          "model_name": "DescriptionStyleModel",
          "state": {
            "_view_name": "StyleView",
            "_model_name": "DescriptionStyleModel",
            "description_width": "",
            "_view_module": "@jupyter-widgets/base",
            "_model_module_version": "1.5.0",
            "_view_count": null,
            "_view_module_version": "1.2.0",
            "_model_module": "@jupyter-widgets/controls"
          }
        },
        "619028e69d6543bb9eb0b3f4569de1de": {
          "model_module": "@jupyter-widgets/base",
          "model_name": "LayoutModel",
          "state": {
            "_view_name": "LayoutView",
            "grid_template_rows": null,
            "right": null,
            "justify_content": null,
            "_view_module": "@jupyter-widgets/base",
            "overflow": null,
            "_model_module_version": "1.2.0",
            "_view_count": null,
            "flex_flow": null,
            "width": null,
            "min_width": null,
            "border": null,
            "align_items": null,
            "bottom": null,
            "_model_module": "@jupyter-widgets/base",
            "top": null,
            "grid_column": null,
            "overflow_y": null,
            "overflow_x": null,
            "grid_auto_flow": null,
            "grid_area": null,
            "grid_template_columns": null,
            "flex": null,
            "_model_name": "LayoutModel",
            "justify_items": null,
            "grid_row": null,
            "max_height": null,
            "align_content": null,
            "visibility": null,
            "align_self": null,
            "height": null,
            "min_height": null,
            "padding": null,
            "grid_auto_rows": null,
            "grid_gap": null,
            "max_width": null,
            "order": null,
            "_view_module_version": "1.2.0",
            "grid_template_areas": null,
            "object_position": null,
            "object_fit": null,
            "grid_auto_columns": null,
            "margin": null,
            "display": null,
            "left": null
          }
        }
      }
    }
  },
  "cells": [
    {
      "cell_type": "markdown",
      "metadata": {
        "id": "view-in-github",
        "colab_type": "text"
      },
      "source": [
        "<a href=\"https://colab.research.google.com/github/seenu-g/school_of_ai/blob/master/chap12/Trial5.ipynb\" target=\"_parent\"><img src=\"https://colab.research.google.com/assets/colab-badge.svg\" alt=\"Open In Colab\"/></a>"
      ]
    },
    {
      "cell_type": "code",
      "metadata": {
        "id": "Akpbncp4oKSy",
        "colab_type": "code",
        "outputId": "5a3d3b59-7bc9-4ab0-a6ed-8d2ab569c064",
        "colab": {
          "base_uri": "https://localhost:8080/",
          "height": 102
        }
      },
      "source": [
        "!pip install -U git+https://github.com/albu/albumentations > /dev/null && echo \"Albumentation library is successfully installed!\"\n",
        "!pip install --no-cache-dir git+https://github.com/NVIDIA/apex > /dev/null && echo \"Apex library is successfully installed!\"!"
      ],
      "execution_count": 1,
      "outputs": [
        {
          "output_type": "stream",
          "text": [
            "  Running command git clone -q https://github.com/albu/albumentations /tmp/pip-req-build-ufdt949c\n",
            "Albumentation library is successfully installed!\n",
            "  Running command git clone -q https://github.com/NVIDIA/apex /tmp/pip-req-build-t81rczxj\n",
            "  Running command git submodule update --init --recursive -q\n",
            "Apex library is successfully installed!!\n"
          ],
          "name": "stdout"
        }
      ]
    },
    {
      "cell_type": "code",
      "metadata": {
        "id": "PAFp8gvMomEQ",
        "colab_type": "code",
        "outputId": "f3369bc8-41b1-4233-d065-3294ccc52aac",
        "colab": {
          "base_uri": "https://localhost:8080/",
          "height": 122
        }
      },
      "source": [
        "# mount gdrive and unzip data\n",
        "from google.colab import drive\n",
        "import sys\n",
        "%load_ext autoreload\n",
        "%autoreload 2\n",
        "drive.mount('/content/gdrive',force_remount=True)"
      ],
      "execution_count": 2,
      "outputs": [
        {
          "output_type": "stream",
          "text": [
            "Go to this URL in a browser: https://accounts.google.com/o/oauth2/auth?client_id=947318989803-6bn6qk8qdgf4n4g3pfee6491hc0brc4i.apps.googleusercontent.com&redirect_uri=urn%3aietf%3awg%3aoauth%3a2.0%3aoob&response_type=code&scope=email%20https%3a%2f%2fwww.googleapis.com%2fauth%2fdocs.test%20https%3a%2f%2fwww.googleapis.com%2fauth%2fdrive%20https%3a%2f%2fwww.googleapis.com%2fauth%2fdrive.photos.readonly%20https%3a%2f%2fwww.googleapis.com%2fauth%2fpeopleapi.readonly\n",
            "\n",
            "Enter your authorization code:\n",
            "··········\n",
            "Mounted at /content/gdrive\n"
          ],
          "name": "stdout"
        }
      ]
    },
    {
      "cell_type": "code",
      "metadata": {
        "id": "5goDAWK3oplp",
        "colab_type": "code",
        "outputId": "1447e173-495e-4815-b055-f269a9846aa6",
        "colab": {
          "base_uri": "https://localhost:8080/",
          "height": 102
        }
      },
      "source": [
        "import sys\n",
        "import os\n",
        "folder = '/content/gdrive/My Drive/school_of_ai/chap12/'\n",
        "os.chdir(folder)\n",
        "print(os.getcwd()) \n",
        "for items in os.listdir(folder):\n",
        "   print(items)\n",
        "sys.path.append(folder)"
      ],
      "execution_count": 3,
      "outputs": [
        {
          "output_type": "stream",
          "text": [
            "/content/gdrive/My Drive/school_of_ai/chap12\n",
            "template\n",
            "Trial1.ipynb\n",
            "Trial2.ipynb\n",
            "Trial5.ipynb\n"
          ],
          "name": "stdout"
        }
      ]
    },
    {
      "cell_type": "code",
      "metadata": {
        "id": "bqd1Stor3jRP",
        "colab_type": "code",
        "colab": {}
      },
      "source": [
        "import torch\n",
        "import torchvision\n",
        "from template import TinyImageNet\n",
        "from template import DatasetFromSubset\n",
        "from template import download_extract\n",
        "from template import Albumentationtransform\n",
        "from template import chap12ResNet"
      ],
      "execution_count": 0,
      "outputs": []
    },
    {
      "cell_type": "code",
      "metadata": {
        "id": "FdKrLdtVTlxI",
        "colab_type": "code",
        "outputId": "2382af51-d277-467c-d37e-b2dd82821ac5",
        "colab": {
          "base_uri": "https://localhost:8080/",
          "height": 83,
          "referenced_widgets": [
            "ebbbe623c51440899c03ae38a36fb1cd",
            "6bc0ceda73c84040954765865595374c",
            "cce947043b4343b2b35e62c40a1135f0",
            "eddf9364c0154d29aa88cc7e2c854149",
            "d7e4ad2997074f4087017b13d37d5752",
            "9de8267f657f45499df6a43c1134e7e5",
            "da4a4a5b285f40ecb9b3c295c6de94df",
            "e68a0d73f6944880991d54f318b0de38"
          ]
        }
      },
      "source": [
        "IMAGES_URL = 'http://cs231n.stanford.edu/tiny-imagenet-200.zip'\n",
        "fileName = \"tiny-imagenet-200.zip\"\n",
        "download_extract.download_images(IMAGES_URL)"
      ],
      "execution_count": 5,
      "outputs": [
        {
          "output_type": "stream",
          "text": [
            "Downloading TinyImageNet Data\n"
          ],
          "name": "stdout"
        },
        {
          "output_type": "display_data",
          "data": {
            "application/vnd.jupyter.widget-view+json": {
              "model_id": "ebbbe623c51440899c03ae38a36fb1cd",
              "version_minor": 0,
              "version_major": 2
            },
            "text/plain": [
              "HBox(children=(IntProgress(value=0, max=120609), HTML(value='')))"
            ]
          },
          "metadata": {
            "tags": []
          }
        },
        {
          "output_type": "stream",
          "text": [
            "\n"
          ],
          "name": "stdout"
        }
      ]
    },
    {
      "cell_type": "code",
      "metadata": {
        "id": "eh1yTGKqzX2Q",
        "colab_type": "code",
        "outputId": "6d62b052-d979-4851-f5db-f02f19d6461c",
        "colab": {
          "base_uri": "https://localhost:8080/",
          "height": 71
        }
      },
      "source": [
        "def get_classes(download_folder):\n",
        "    classes = []\n",
        "    wnids = open(os.path.join(download_folder,\"wnids.txt\"), \"r\")\n",
        "    for line in wnids:\n",
        "        classes.append(line.strip())\n",
        "    return classes\n",
        "\n",
        "print(folder)\n",
        "download_folder = folder + 'tiny-imagenet-200/'\n",
        "if (os.path.isdir(download_folder)==False):\n",
        "    print(download_folder,\" does not exist\")\n",
        "else :    \n",
        "    classes = get_classes(download_folder)\n",
        "    print(classes)"
      ],
      "execution_count": 6,
      "outputs": [
        {
          "output_type": "stream",
          "text": [
            "/content/gdrive/My Drive/school_of_ai/chap12/\n",
            "['n02124075', 'n04067472', 'n04540053', 'n04099969', 'n07749582', 'n01641577', 'n02802426', 'n09246464', 'n07920052', 'n03970156', 'n03891332', 'n02106662', 'n03201208', 'n02279972', 'n02132136', 'n04146614', 'n07873807', 'n02364673', 'n04507155', 'n03854065', 'n03838899', 'n03733131', 'n01443537', 'n07875152', 'n03544143', 'n09428293', 'n03085013', 'n02437312', 'n07614500', 'n03804744', 'n04265275', 'n02963159', 'n02486410', 'n01944390', 'n09256479', 'n02058221', 'n04275548', 'n02321529', 'n02769748', 'n02099712', 'n07695742', 'n02056570', 'n02281406', 'n01774750', 'n02509815', 'n03983396', 'n07753592', 'n04254777', 'n02233338', 'n04008634', 'n02823428', 'n02236044', 'n03393912', 'n07583066', 'n04074963', 'n01629819', 'n09332890', 'n02481823', 'n03902125', 'n03404251', 'n09193705', 'n03637318', 'n04456115', 'n02666196', 'n03796401', 'n02795169', 'n02123045', 'n01855672', 'n01882714', 'n02917067', 'n02988304', 'n04398044', 'n02843684', 'n02423022', 'n02669723', 'n04465501', 'n02165456', 'n03770439', 'n02099601', 'n04486054', 'n02950826', 'n03814639', 'n04259630', 'n03424325', 'n02948072', 'n03179701', 'n03400231', 'n02206856', 'n03160309', 'n01984695', 'n03977966', 'n03584254', 'n04023962', 'n02814860', 'n01910747', 'n04596742', 'n03992509', 'n04133789', 'n03937543', 'n02927161', 'n01945685', 'n02395406', 'n02125311', 'n03126707', 'n04532106', 'n02268443', 'n02977058', 'n07734744', 'n03599486', 'n04562935', 'n03014705', 'n04251144', 'n04356056', 'n02190166', 'n03670208', 'n02002724', 'n02074367', 'n04285008', 'n04560804', 'n04366367', 'n02403003', 'n07615774', 'n04501370', 'n03026506', 'n02906734', 'n01770393', 'n04597913', 'n03930313', 'n04118538', 'n04179913', 'n04311004', 'n02123394', 'n04070727', 'n02793495', 'n02730930', 'n02094433', 'n04371430', 'n04328186', 'n03649909', 'n04417672', 'n03388043', 'n01774384', 'n02837789', 'n07579787', 'n04399382', 'n02791270', 'n03089624', 'n02814533', 'n04149813', 'n07747607', 'n03355925', 'n01983481', 'n04487081', 'n03250847', 'n03255030', 'n02892201', 'n02883205', 'n03100240', 'n02415577', 'n02480495', 'n01698640', 'n01784675', 'n04376876', 'n03444034', 'n01917289', 'n01950731', 'n03042490', 'n07711569', 'n04532670', 'n03763968', 'n07768694', 'n02999410', 'n03617480', 'n06596364', 'n01768244', 'n02410509', 'n03976657', 'n01742172', 'n03980874', 'n02808440', 'n02226429', 'n02231487', 'n02085620', 'n01644900', 'n02129165', 'n02699494', 'n03837869', 'n02815834', 'n07720875', 'n02788148', 'n02909870', 'n03706229', 'n07871810', 'n03447447', 'n02113799', 'n12267677', 'n03662601', 'n02841315', 'n07715103', 'n02504458']\n"
          ],
          "name": "stdout"
        }
      ]
    },
    {
      "cell_type": "code",
      "metadata": {
        "id": "SfSif2eaxIdF",
        "colab_type": "code",
        "colab": {}
      },
      "source": [
        "from torch.utils.data import Dataset, random_split\n",
        "def TinyImageNetDataSet(train_split = 70,test_transforms = None,train_transforms = None):\n",
        "  dataset = TinyImageNet.TinyImageNet(classes,download_folder)\n",
        "  train_len = len(dataset)*train_split//100\n",
        "  test_len = len(dataset) - train_len \n",
        "  train_set, val_set = random_split(dataset, [train_len, test_len])\n",
        "  train_dataset = DatasetFromSubset.DatasetFromSubset(train_set, transform=train_transforms)\n",
        "  test_dataset = DatasetFromSubset.DatasetFromSubset(val_set, transform=test_transforms)\n",
        "  \n",
        "  return train_dataset, test_dataset,classes"
      ],
      "execution_count": 0,
      "outputs": []
    },
    {
      "cell_type": "code",
      "metadata": {
        "id": "qNJgQ2K63QEh",
        "colab_type": "code",
        "outputId": "1ba8d994-974c-40e7-f526-caa847c59355",
        "colab": {
          "base_uri": "https://localhost:8080/",
          "height": 115,
          "referenced_widgets": [
            "5beff491df824474b2b98720398137c1",
            "31a3d055c2464319a218a823087fb6aa",
            "96ac67179c564b58a7aeb019936a1b81",
            "07a759d972bb41629ee923482cbf6f68",
            "ed97f043a4b8445cba68ca145e36a628",
            "9591a265a9124567b2b215e5330d31b2",
            "f0b2b95e30ea4cd7b15dc0e8248fbcc6",
            "ac83768337fd450dbea82ff614a8e8c5",
            "6b07d146de8a44a9b22ded3ab3412bf7",
            "08b4e24f541c462d918ee0e6e028d6a0",
            "fa2c5f3044ea4388bdbe81f4d9e0fe0e",
            "b9b45cc9fdaf4bd98a5947f538822a51",
            "774ea3bedee5463e875ff8d09f813b1b",
            "b9fa57d7f4464dc4bbd15d86f71d1fa3",
            "49abab9cfa6f4516b131f238be120c34",
            "619028e69d6543bb9eb0b3f4569de1de"
          ]
        }
      },
      "source": [
        "import albumentations as A\n",
        "import cv2\n",
        "train_transform = Albumentationtransform.AlbumentationTransforms([                              \n",
        "                                      A.HorizontalFlip(p = 0.7),\n",
        "                                      A.PadIfNeeded(min_height=70, min_width=70, border_mode=4, value=None, mask_value=None, always_apply=False, p=1.0),\n",
        "                                      A.RandomCrop(64, 64, always_apply=False, p=1.0),\n",
        "                                      A.Rotate(limit=50, interpolation=1, border_mode=4, value=None, mask_value=None, always_apply=False, p=0.5),\n",
        "                                      A.Normalize(mean=(0.5, 0.5, 0.5), std=(0.5, 0.5, 0.5)),\n",
        "                                      A.Cutout(num_holes=1, max_h_size=32,max_w_size = 32,p=0.7) \n",
        "                                       ])\n",
        "test_transform = Albumentationtransform.AlbumentationTransforms([A.Normalize(mean=(0.5, 0.5, 0.5), std=(0.5, 0.5, 0.5))])\n",
        "train_dataset , test_dataset,classes = TinyImageNetDataSet(train_split = 70,test_transforms = test_transform,train_transforms = train_transform)"
      ],
      "execution_count": 8,
      "outputs": [
        {
          "output_type": "display_data",
          "data": {
            "application/vnd.jupyter.widget-view+json": {
              "model_id": "5beff491df824474b2b98720398137c1",
              "version_minor": 0,
              "version_major": 2
            },
            "text/plain": [
              "HBox(children=(IntProgress(value=0, description='Loading Train Folder', max=200, style=ProgressStyle(descripti…"
            ]
          },
          "metadata": {
            "tags": []
          }
        },
        {
          "output_type": "stream",
          "text": [
            "\n"
          ],
          "name": "stdout"
        },
        {
          "output_type": "display_data",
          "data": {
            "application/vnd.jupyter.widget-view+json": {
              "model_id": "6b07d146de8a44a9b22ded3ab3412bf7",
              "version_minor": 0,
              "version_major": 2
            },
            "text/plain": [
              "HBox(children=(IntProgress(value=0, description='Loading Test Folder', max=10000, style=ProgressStyle(descript…"
            ]
          },
          "metadata": {
            "tags": []
          }
        },
        {
          "output_type": "stream",
          "text": [
            "\n"
          ],
          "name": "stdout"
        }
      ]
    },
    {
      "cell_type": "code",
      "metadata": {
        "id": "5E10oFLc1bSJ",
        "colab_type": "code",
        "colab": {}
      },
      "source": [
        "def load(trainset,testset,seed=1,batch_size=128,num_workers=4,pin_memory=True):\n",
        "\t\n",
        "\tSEED = 1\n",
        "\tcuda = torch.cuda.is_available()\n",
        "\ttorch.manual_seed(SEED)\n",
        "\tif cuda:\n",
        "\t\t\ttorch.cuda.manual_seed(SEED)\n",
        "\tdataloader_args = dict(shuffle=True, batch_size=batch_size, num_workers=num_workers, pin_memory=pin_memory) if cuda else dict(shuffle=True, batch_size=64)\n",
        "\n",
        "\ttrainloader = torch.utils.data.DataLoader(trainset, **dataloader_args)\n",
        "\ttestloader = torch.utils.data.DataLoader(testset, **dataloader_args)\n",
        "\n",
        "\treturn  trainloader, testloader"
      ],
      "execution_count": 0,
      "outputs": []
    },
    {
      "cell_type": "code",
      "metadata": {
        "id": "VkrXPK4O3bhl",
        "colab_type": "code",
        "colab": {}
      },
      "source": [
        "trainloader, testloader = load(train_dataset,test_dataset,batch_size=256)"
      ],
      "execution_count": 0,
      "outputs": []
    },
    {
      "cell_type": "code",
      "metadata": {
        "id": "rRBAeFTth3Xl",
        "colab_type": "code",
        "outputId": "5d052c40-995f-4e82-af12-58208b6bac89",
        "colab": {
          "base_uri": "https://localhost:8080/",
          "height": 1000
        }
      },
      "source": [
        "!pip install torchsummary\n",
        "import torch.nn as nn\n",
        "import torch.nn.functional as F\n",
        "from torchsummary import summary\n",
        "use_cuda = torch.cuda.is_available()\n",
        "device = torch.device(\"cuda\" if use_cuda else \"cpu\")\n",
        "\n",
        "model = chap12ResNet.ResNet18(num_classes=200).to(device)\n",
        "summary(model, input_size=(3, 64, 64))"
      ],
      "execution_count": 20,
      "outputs": [
        {
          "output_type": "stream",
          "text": [
            "Requirement already satisfied: torchsummary in /usr/local/lib/python3.6/dist-packages (1.5.1)\n",
            "----------------------------------------------------------------\n",
            "        Layer (type)               Output Shape         Param #\n",
            "================================================================\n",
            "            Conv2d-1           [-1, 64, 64, 64]           1,728\n",
            "       BatchNorm2d-2           [-1, 64, 64, 64]             128\n",
            "            Conv2d-3           [-1, 64, 64, 64]          36,864\n",
            "       BatchNorm2d-4           [-1, 64, 64, 64]             128\n",
            "            Conv2d-5           [-1, 64, 64, 64]          36,864\n",
            "       BatchNorm2d-6           [-1, 64, 64, 64]             128\n",
            "        BasicBlock-7           [-1, 64, 64, 64]               0\n",
            "            Conv2d-8           [-1, 64, 64, 64]          36,864\n",
            "       BatchNorm2d-9           [-1, 64, 64, 64]             128\n",
            "           Conv2d-10           [-1, 64, 64, 64]          36,864\n",
            "      BatchNorm2d-11           [-1, 64, 64, 64]             128\n",
            "       BasicBlock-12           [-1, 64, 64, 64]               0\n",
            "           Conv2d-13          [-1, 128, 32, 32]          73,728\n",
            "      BatchNorm2d-14          [-1, 128, 32, 32]             256\n",
            "           Conv2d-15          [-1, 128, 32, 32]         147,456\n",
            "      BatchNorm2d-16          [-1, 128, 32, 32]             256\n",
            "           Conv2d-17          [-1, 128, 32, 32]           8,192\n",
            "      BatchNorm2d-18          [-1, 128, 32, 32]             256\n",
            "       BasicBlock-19          [-1, 128, 32, 32]               0\n",
            "           Conv2d-20          [-1, 128, 32, 32]         147,456\n",
            "      BatchNorm2d-21          [-1, 128, 32, 32]             256\n",
            "           Conv2d-22          [-1, 128, 32, 32]         147,456\n",
            "      BatchNorm2d-23          [-1, 128, 32, 32]             256\n",
            "       BasicBlock-24          [-1, 128, 32, 32]               0\n",
            "           Conv2d-25          [-1, 256, 16, 16]         294,912\n",
            "      BatchNorm2d-26          [-1, 256, 16, 16]             512\n",
            "           Conv2d-27          [-1, 256, 16, 16]         589,824\n",
            "      BatchNorm2d-28          [-1, 256, 16, 16]             512\n",
            "           Conv2d-29          [-1, 256, 16, 16]          32,768\n",
            "      BatchNorm2d-30          [-1, 256, 16, 16]             512\n",
            "       BasicBlock-31          [-1, 256, 16, 16]               0\n",
            "           Conv2d-32          [-1, 256, 16, 16]         589,824\n",
            "      BatchNorm2d-33          [-1, 256, 16, 16]             512\n",
            "           Conv2d-34          [-1, 256, 16, 16]         589,824\n",
            "      BatchNorm2d-35          [-1, 256, 16, 16]             512\n",
            "       BasicBlock-36          [-1, 256, 16, 16]               0\n",
            "           Conv2d-37            [-1, 512, 8, 8]       1,179,648\n",
            "      BatchNorm2d-38            [-1, 512, 8, 8]           1,024\n",
            "           Conv2d-39            [-1, 512, 8, 8]       2,359,296\n",
            "      BatchNorm2d-40            [-1, 512, 8, 8]           1,024\n",
            "           Conv2d-41            [-1, 512, 8, 8]         131,072\n",
            "      BatchNorm2d-42            [-1, 512, 8, 8]           1,024\n",
            "       BasicBlock-43            [-1, 512, 8, 8]               0\n",
            "           Conv2d-44            [-1, 512, 8, 8]       2,359,296\n",
            "      BatchNorm2d-45            [-1, 512, 8, 8]           1,024\n",
            "           Conv2d-46            [-1, 512, 8, 8]       2,359,296\n",
            "      BatchNorm2d-47            [-1, 512, 8, 8]           1,024\n",
            "       BasicBlock-48            [-1, 512, 8, 8]               0\n",
            "           Linear-49                  [-1, 200]         102,600\n",
            "================================================================\n",
            "Total params: 11,271,432\n",
            "Trainable params: 11,271,432\n",
            "Non-trainable params: 0\n",
            "----------------------------------------------------------------\n",
            "Input size (MB): 0.05\n",
            "Forward/backward pass size (MB): 45.00\n",
            "Params size (MB): 43.00\n",
            "Estimated Total Size (MB): 88.05\n",
            "----------------------------------------------------------------\n"
          ],
          "name": "stdout"
        }
      ]
    },
    {
      "cell_type": "code",
      "metadata": {
        "id": "KWNLzbORh7yo",
        "colab_type": "code",
        "colab": {}
      },
      "source": [
        "import torch.nn as nn\n",
        "import torch.optim as optim\n",
        "from torch.optim.lr_scheduler import OneCycleLR,StepLR\n",
        "\n",
        "optimizer = optim.SGD(model.parameters(), lr=0.01,momentum=0.9,weight_decay = 0.0001,nesterov = True ) \n",
        "criterion = nn.CrossEntropyLoss()\n",
        "scheduler = OneCycleLR(optimizer, max_lr = 0.2, total_steps=None, epochs=30, steps_per_epoch=1, pct_start=1/3, anneal_strategy='linear', cycle_momentum=True, base_momentum=0.85, max_momentum=0.95, div_factor=10.0,final_div_factor =10)"
      ],
      "execution_count": 0,
      "outputs": []
    },
    {
      "cell_type": "code",
      "metadata": {
        "id": "OOCQz4irGKtK",
        "colab_type": "code",
        "outputId": "8cd57456-3107-41c0-e84c-bd1f203e889b",
        "colab": {
          "base_uri": "https://localhost:8080/",
          "height": 1000
        }
      },
      "source": [
        "from template import train_test\n",
        "train_test.train_model(model,device,trainloader,testloader,optimizer,criterion,50,scheduler,batch_scheduler=False,best_acc = 0,path = \"/content/gdrive/My Drive/school_of_ai/chap12/newtinymodel.pt\")"
      ],
      "execution_count": 22,
      "outputs": [
        {
          "output_type": "stream",
          "text": [
            "\rLoss=1.0336960554122925 Batch_id=253 Accuracy=75.77:  84%|████████▍ | 253/301 [07:50<01:28,  1.85s/it]\u001b[A\u001b[A\n",
            "\n",
            "Loss=1.0336960554122925 Batch_id=253 Accuracy=75.77:  84%|████████▍ | 254/301 [07:50<01:26,  1.85s/it]\u001b[A\u001b[A\n",
            "\n",
            "Loss=1.0733064413070679 Batch_id=254 Accuracy=75.75:  84%|████████▍ | 254/301 [07:52<01:26,  1.85s/it]\u001b[A\u001b[A\n",
            "\n",
            "Loss=1.0733064413070679 Batch_id=254 Accuracy=75.75:  85%|████████▍ | 255/301 [07:52<01:25,  1.85s/it]\u001b[A\u001b[A\n",
            "\n",
            "Loss=0.9155145883560181 Batch_id=255 Accuracy=75.75:  85%|████████▍ | 255/301 [07:54<01:25,  1.85s/it]\u001b[A\u001b[A\n",
            "\n",
            "Loss=0.9155145883560181 Batch_id=255 Accuracy=75.75:  85%|████████▌ | 256/301 [07:54<01:23,  1.85s/it]\u001b[A\u001b[A\n",
            "\n",
            "Loss=0.9960403442382812 Batch_id=256 Accuracy=75.74:  85%|████████▌ | 256/301 [07:56<01:23,  1.85s/it]\u001b[A\u001b[A\n",
            "\n",
            "Loss=0.9960403442382812 Batch_id=256 Accuracy=75.74:  85%|████████▌ | 257/301 [07:56<01:21,  1.85s/it]\u001b[A\u001b[A\n",
            "\n",
            "Loss=0.9128283858299255 Batch_id=257 Accuracy=75.76:  85%|████████▌ | 257/301 [07:58<01:21,  1.85s/it]\u001b[A\u001b[A\n",
            "\n",
            "Loss=0.9128283858299255 Batch_id=257 Accuracy=75.76:  86%|████████▌ | 258/301 [07:58<01:19,  1.85s/it]\u001b[A\u001b[A\n",
            "\n",
            "Loss=1.0101473331451416 Batch_id=258 Accuracy=75.75:  86%|████████▌ | 258/301 [07:59<01:19,  1.85s/it]\u001b[A\u001b[A\n",
            "\n",
            "Loss=1.0101473331451416 Batch_id=258 Accuracy=75.75:  86%|████████▌ | 259/301 [07:59<01:17,  1.85s/it]\u001b[A\u001b[A\n",
            "\n",
            "Loss=0.889984130859375 Batch_id=259 Accuracy=75.75:  86%|████████▌ | 259/301 [08:01<01:17,  1.85s/it] \u001b[A\u001b[A\n",
            "\n",
            "Loss=0.889984130859375 Batch_id=259 Accuracy=75.75:  86%|████████▋ | 260/301 [08:01<01:15,  1.85s/it]\u001b[A\u001b[A\n",
            "\n",
            "Loss=1.0112107992172241 Batch_id=260 Accuracy=75.74:  86%|████████▋ | 260/301 [08:03<01:15,  1.85s/it]\u001b[A\u001b[A\n",
            "\n",
            "Loss=1.0112107992172241 Batch_id=260 Accuracy=75.74:  87%|████████▋ | 261/301 [08:03<01:13,  1.85s/it]\u001b[A\u001b[A\n",
            "\n",
            "Loss=0.822669267654419 Batch_id=261 Accuracy=75.75:  87%|████████▋ | 261/301 [08:05<01:13,  1.85s/it] \u001b[A\u001b[A\n",
            "\n",
            "Loss=0.822669267654419 Batch_id=261 Accuracy=75.75:  87%|████████▋ | 262/301 [08:05<01:12,  1.85s/it]\u001b[A\u001b[A\n",
            "\n",
            "Loss=1.2146596908569336 Batch_id=262 Accuracy=75.71:  87%|████████▋ | 262/301 [08:07<01:12,  1.85s/it]\u001b[A\u001b[A\n",
            "\n",
            "Loss=1.2146596908569336 Batch_id=262 Accuracy=75.71:  87%|████████▋ | 263/301 [08:07<01:10,  1.85s/it]\u001b[A\u001b[A\n",
            "\n",
            "Loss=1.021690011024475 Batch_id=263 Accuracy=75.71:  87%|████████▋ | 263/301 [08:09<01:10,  1.85s/it] \u001b[A\u001b[A\n",
            "\n",
            "Loss=1.021690011024475 Batch_id=263 Accuracy=75.71:  88%|████████▊ | 264/301 [08:09<01:08,  1.85s/it]\u001b[A\u001b[A\n",
            "\n",
            "Loss=0.8685200214385986 Batch_id=264 Accuracy=75.71:  88%|████████▊ | 264/301 [08:10<01:08,  1.85s/it]\u001b[A\u001b[A\n",
            "\n",
            "Loss=0.8685200214385986 Batch_id=264 Accuracy=75.71:  88%|████████▊ | 265/301 [08:10<01:06,  1.85s/it]\u001b[A\u001b[A\n",
            "\n",
            "Loss=0.8458094596862793 Batch_id=265 Accuracy=75.71:  88%|████████▊ | 265/301 [08:12<01:06,  1.85s/it]\u001b[A\u001b[A\n",
            "\n",
            "Loss=0.8458094596862793 Batch_id=265 Accuracy=75.71:  88%|████████▊ | 266/301 [08:12<01:04,  1.85s/it]\u001b[A\u001b[A\n",
            "\n",
            "Loss=0.9523746967315674 Batch_id=266 Accuracy=75.71:  88%|████████▊ | 266/301 [08:14<01:04,  1.85s/it]\u001b[A\u001b[A\n",
            "\n",
            "Loss=0.9523746967315674 Batch_id=266 Accuracy=75.71:  89%|████████▊ | 267/301 [08:14<01:02,  1.85s/it]\u001b[A\u001b[A\n",
            "\n",
            "Loss=0.8390372395515442 Batch_id=267 Accuracy=75.72:  89%|████████▊ | 267/301 [08:16<01:02,  1.85s/it]\u001b[A\u001b[A\n",
            "\n",
            "Loss=0.8390372395515442 Batch_id=267 Accuracy=75.72:  89%|████████▉ | 268/301 [08:16<01:01,  1.85s/it]\u001b[A\u001b[A\n",
            "\n",
            "Loss=1.0469690561294556 Batch_id=268 Accuracy=75.71:  89%|████████▉ | 268/301 [08:18<01:01,  1.85s/it]\u001b[A\u001b[A\n",
            "\n",
            "Loss=1.0469690561294556 Batch_id=268 Accuracy=75.71:  89%|████████▉ | 269/301 [08:18<00:59,  1.85s/it]\u001b[A\u001b[A\n",
            "\n",
            "Loss=0.9531060457229614 Batch_id=269 Accuracy=75.70:  89%|████████▉ | 269/301 [08:20<00:59,  1.85s/it]\u001b[A\u001b[A\n",
            "\n",
            "Loss=0.9531060457229614 Batch_id=269 Accuracy=75.70:  90%|████████▉ | 270/301 [08:20<00:57,  1.85s/it]\u001b[A\u001b[A\n",
            "\n",
            "Loss=1.0626511573791504 Batch_id=270 Accuracy=75.69:  90%|████████▉ | 270/301 [08:22<00:57,  1.85s/it]\u001b[A\u001b[A\n",
            "\n",
            "Loss=1.0626511573791504 Batch_id=270 Accuracy=75.69:  90%|█████████ | 271/301 [08:22<00:55,  1.85s/it]\u001b[A\u001b[A\n",
            "\n",
            "Loss=1.080977201461792 Batch_id=271 Accuracy=75.68:  90%|█████████ | 271/301 [08:23<00:55,  1.85s/it] \u001b[A\u001b[A\n",
            "\n",
            "Loss=1.080977201461792 Batch_id=271 Accuracy=75.68:  90%|█████████ | 272/301 [08:23<00:53,  1.85s/it]\u001b[A\u001b[A\n",
            "\n",
            "Loss=0.9000177979469299 Batch_id=272 Accuracy=75.67:  90%|█████████ | 272/301 [08:25<00:53,  1.85s/it]\u001b[A\u001b[A\n",
            "\n",
            "Loss=0.9000177979469299 Batch_id=272 Accuracy=75.67:  91%|█████████ | 273/301 [08:25<00:51,  1.85s/it]\u001b[A\u001b[A\n",
            "\n",
            "Loss=0.8676248788833618 Batch_id=273 Accuracy=75.67:  91%|█████████ | 273/301 [08:27<00:51,  1.85s/it]\u001b[A\u001b[A\n",
            "\n",
            "Loss=0.8676248788833618 Batch_id=273 Accuracy=75.67:  91%|█████████ | 274/301 [08:27<00:50,  1.85s/it]\u001b[A\u001b[A\n",
            "\n",
            "Loss=0.8824058771133423 Batch_id=274 Accuracy=75.67:  91%|█████████ | 274/301 [08:29<00:50,  1.85s/it]\u001b[A\u001b[A\n",
            "\n",
            "Loss=0.8824058771133423 Batch_id=274 Accuracy=75.67:  91%|█████████▏| 275/301 [08:29<00:48,  1.85s/it]\u001b[A\u001b[A\n",
            "\n",
            "Loss=0.774929404258728 Batch_id=275 Accuracy=75.68:  91%|█████████▏| 275/301 [08:31<00:48,  1.85s/it] \u001b[A\u001b[A\n",
            "\n",
            "Loss=0.774929404258728 Batch_id=275 Accuracy=75.68:  92%|█████████▏| 276/301 [08:31<00:46,  1.85s/it]\u001b[A\u001b[A\n",
            "\n",
            "Loss=0.9411281943321228 Batch_id=276 Accuracy=75.67:  92%|█████████▏| 276/301 [08:33<00:46,  1.85s/it]\u001b[A\u001b[A\n",
            "\n",
            "Loss=0.9411281943321228 Batch_id=276 Accuracy=75.67:  92%|█████████▏| 277/301 [08:33<00:44,  1.85s/it]\u001b[A\u001b[A\n",
            "\n",
            "Loss=1.029545545578003 Batch_id=277 Accuracy=75.66:  92%|█████████▏| 277/301 [08:35<00:44,  1.85s/it] \u001b[A\u001b[A\n",
            "\n",
            "Loss=1.029545545578003 Batch_id=277 Accuracy=75.66:  92%|█████████▏| 278/301 [08:35<00:42,  1.85s/it]\u001b[A\u001b[A\n",
            "\n",
            "Loss=0.9188465476036072 Batch_id=278 Accuracy=75.65:  92%|█████████▏| 278/301 [08:36<00:42,  1.85s/it]\u001b[A\u001b[A\n",
            "\n",
            "Loss=0.9188465476036072 Batch_id=278 Accuracy=75.65:  93%|█████████▎| 279/301 [08:36<00:40,  1.85s/it]\u001b[A\u001b[A\n",
            "\n",
            "Loss=0.7604540586471558 Batch_id=279 Accuracy=75.67:  93%|█████████▎| 279/301 [08:38<00:40,  1.85s/it]\u001b[A\u001b[A\n",
            "\n",
            "Loss=0.7604540586471558 Batch_id=279 Accuracy=75.67:  93%|█████████▎| 280/301 [08:38<00:38,  1.85s/it]\u001b[A\u001b[A\n",
            "\n",
            "Loss=1.1525837182998657 Batch_id=280 Accuracy=75.64:  93%|█████████▎| 280/301 [08:40<00:38,  1.85s/it]\u001b[A\u001b[A\n",
            "\n",
            "Loss=1.1525837182998657 Batch_id=280 Accuracy=75.64:  93%|█████████▎| 281/301 [08:40<00:36,  1.85s/it]\u001b[A\u001b[A\n",
            "\n",
            "Loss=1.014291763305664 Batch_id=281 Accuracy=75.65:  93%|█████████▎| 281/301 [08:42<00:36,  1.85s/it] \u001b[A\u001b[A\n",
            "\n",
            "Loss=1.014291763305664 Batch_id=281 Accuracy=75.65:  94%|█████████▎| 282/301 [08:42<00:35,  1.85s/it]\u001b[A\u001b[A\n",
            "\n",
            "Loss=0.9154242277145386 Batch_id=282 Accuracy=75.64:  94%|█████████▎| 282/301 [08:44<00:35,  1.85s/it]\u001b[A\u001b[A\n",
            "\n",
            "Loss=0.9154242277145386 Batch_id=282 Accuracy=75.64:  94%|█████████▍| 283/301 [08:44<00:33,  1.85s/it]\u001b[A\u001b[A\n",
            "\n",
            "Loss=0.8975902795791626 Batch_id=283 Accuracy=75.64:  94%|█████████▍| 283/301 [08:46<00:33,  1.85s/it]\u001b[A\u001b[A\n",
            "\n",
            "Loss=0.8975902795791626 Batch_id=283 Accuracy=75.64:  94%|█████████▍| 284/301 [08:46<00:31,  1.85s/it]\u001b[A\u001b[A\n",
            "\n",
            "Loss=1.0769068002700806 Batch_id=284 Accuracy=75.62:  94%|█████████▍| 284/301 [08:47<00:31,  1.85s/it]\u001b[A\u001b[A\n",
            "\n",
            "Loss=1.0769068002700806 Batch_id=284 Accuracy=75.62:  95%|█████████▍| 285/301 [08:47<00:29,  1.85s/it]\u001b[A\u001b[A\n",
            "\n",
            "Loss=0.8685134649276733 Batch_id=285 Accuracy=75.62:  95%|█████████▍| 285/301 [08:49<00:29,  1.85s/it]\u001b[A\u001b[A\n",
            "\n",
            "Loss=0.8685134649276733 Batch_id=285 Accuracy=75.62:  95%|█████████▌| 286/301 [08:49<00:27,  1.85s/it]\u001b[A\u001b[A\n",
            "\n",
            "Loss=0.8553726673126221 Batch_id=286 Accuracy=75.62:  95%|█████████▌| 286/301 [08:51<00:27,  1.85s/it]\u001b[A\u001b[A\n",
            "\n",
            "Loss=0.8553726673126221 Batch_id=286 Accuracy=75.62:  95%|█████████▌| 287/301 [08:51<00:25,  1.85s/it]\u001b[A\u001b[A\n",
            "\n",
            "Loss=0.949329137802124 Batch_id=287 Accuracy=75.62:  95%|█████████▌| 287/301 [08:53<00:25,  1.85s/it] \u001b[A\u001b[A\n",
            "\n",
            "Loss=0.949329137802124 Batch_id=287 Accuracy=75.62:  96%|█████████▌| 288/301 [08:53<00:24,  1.85s/it]\u001b[A\u001b[A\n",
            "\n",
            "Loss=0.9314252138137817 Batch_id=288 Accuracy=75.62:  96%|█████████▌| 288/301 [08:55<00:24,  1.85s/it]\u001b[A\u001b[A\n",
            "\n",
            "Loss=0.9314252138137817 Batch_id=288 Accuracy=75.62:  96%|█████████▌| 289/301 [08:55<00:22,  1.85s/it]\u001b[A\u001b[A\n",
            "\n",
            "Loss=0.8581523299217224 Batch_id=289 Accuracy=75.62:  96%|█████████▌| 289/301 [08:57<00:22,  1.85s/it]\u001b[A\u001b[A\n",
            "\n",
            "Loss=0.8581523299217224 Batch_id=289 Accuracy=75.62:  96%|█████████▋| 290/301 [08:57<00:20,  1.85s/it]\u001b[A\u001b[A\n",
            "\n",
            "Loss=0.8407333493232727 Batch_id=290 Accuracy=75.62:  96%|█████████▋| 290/301 [08:59<00:20,  1.85s/it]\u001b[A\u001b[A\n",
            "\n",
            "Loss=0.8407333493232727 Batch_id=290 Accuracy=75.62:  97%|█████████▋| 291/301 [08:59<00:18,  1.85s/it]\u001b[A\u001b[A\n",
            "\n",
            "Loss=0.9927951097488403 Batch_id=291 Accuracy=75.62:  97%|█████████▋| 291/301 [09:00<00:18,  1.85s/it]\u001b[A\u001b[A\n",
            "\n",
            "Loss=0.9927951097488403 Batch_id=291 Accuracy=75.62:  97%|█████████▋| 292/301 [09:00<00:16,  1.85s/it]\u001b[A\u001b[A\n",
            "\n",
            "Loss=1.024098515510559 Batch_id=292 Accuracy=75.61:  97%|█████████▋| 292/301 [09:02<00:16,  1.85s/it] \u001b[A\u001b[A\n",
            "\n",
            "Loss=1.024098515510559 Batch_id=292 Accuracy=75.61:  97%|█████████▋| 293/301 [09:02<00:14,  1.85s/it]\u001b[A\u001b[A\n",
            "\n",
            "Loss=0.8465678691864014 Batch_id=293 Accuracy=75.62:  97%|█████████▋| 293/301 [09:04<00:14,  1.85s/it]\u001b[A\u001b[A\n",
            "\n",
            "Loss=0.8465678691864014 Batch_id=293 Accuracy=75.62:  98%|█████████▊| 294/301 [09:04<00:12,  1.85s/it]\u001b[A\u001b[A\n",
            "\n",
            "Loss=0.97385174036026 Batch_id=294 Accuracy=75.61:  98%|█████████▊| 294/301 [09:06<00:12,  1.85s/it]  \u001b[A\u001b[A\n",
            "\n",
            "Loss=0.97385174036026 Batch_id=294 Accuracy=75.61:  98%|█████████▊| 295/301 [09:06<00:11,  1.84s/it]\u001b[A\u001b[A\n",
            "\n",
            "Loss=0.8814078569412231 Batch_id=295 Accuracy=75.62:  98%|█████████▊| 295/301 [09:08<00:11,  1.84s/it]\u001b[A\u001b[A\n",
            "\n",
            "Loss=0.8814078569412231 Batch_id=295 Accuracy=75.62:  98%|█████████▊| 296/301 [09:08<00:09,  1.84s/it]\u001b[A\u001b[A\n",
            "\n",
            "Loss=1.0250115394592285 Batch_id=296 Accuracy=75.60:  98%|█████████▊| 296/301 [09:10<00:09,  1.84s/it]\u001b[A\u001b[A\n",
            "\n",
            "Loss=1.0250115394592285 Batch_id=296 Accuracy=75.60:  99%|█████████▊| 297/301 [09:10<00:07,  1.85s/it]\u001b[A\u001b[A\n",
            "\n",
            "Loss=0.9037252068519592 Batch_id=297 Accuracy=75.60:  99%|█████████▊| 297/301 [09:11<00:07,  1.85s/it]\u001b[A\u001b[A\n",
            "\n",
            "Loss=0.9037252068519592 Batch_id=297 Accuracy=75.60:  99%|█████████▉| 298/301 [09:11<00:05,  1.84s/it]\u001b[A\u001b[A\n",
            "\n",
            "Loss=0.9687884449958801 Batch_id=298 Accuracy=75.59:  99%|█████████▉| 298/301 [09:13<00:05,  1.84s/it]\u001b[A\u001b[A\n",
            "\n",
            "Loss=0.9687884449958801 Batch_id=298 Accuracy=75.59:  99%|█████████▉| 299/301 [09:13<00:03,  1.85s/it]\u001b[A\u001b[A\n",
            "\n",
            "Loss=1.0440579652786255 Batch_id=299 Accuracy=75.58:  99%|█████████▉| 299/301 [09:15<00:03,  1.85s/it]\u001b[A\u001b[A\n",
            "\n",
            "Loss=1.0440579652786255 Batch_id=299 Accuracy=75.58: 100%|█████████▉| 300/301 [09:15<00:01,  1.85s/it]\u001b[A\u001b[A\n",
            "\n",
            "Loss=0.9169267416000366 Batch_id=300 Accuracy=75.58: 100%|█████████▉| 300/301 [09:17<00:01,  1.85s/it]\u001b[A\u001b[A\n",
            "\n",
            "Loss=0.9169267416000366 Batch_id=300 Accuracy=75.58: 100%|██████████| 301/301 [09:17<00:00,  1.85s/it]\n"
          ],
          "name": "stderr"
        },
        {
          "output_type": "stream",
          "text": [
            "\n",
            "Test set: Average loss: 0.0075, Accuracy: 18890/33000 (57.24%)\n",
            "\n",
            "accuracy increased, Saving model....\n"
          ],
          "name": "stdout"
        },
        {
          "output_type": "stream",
          "text": [
            "\n",
            "\n",
            "  0%|          | 0/301 [00:00<?, ?it/s]\u001b[A\u001b[A"
          ],
          "name": "stderr"
        },
        {
          "output_type": "stream",
          "text": [
            "EPOCH: 29 LR: 0.011900000000000022\n"
          ],
          "name": "stdout"
        },
        {
          "output_type": "stream",
          "text": [
            "\n",
            "\n",
            "Loss=0.865988552570343 Batch_id=0 Accuracy=75.00:   0%|          | 0/301 [00:02<?, ?it/s]\u001b[A\u001b[A\n",
            "\n",
            "Loss=0.865988552570343 Batch_id=0 Accuracy=75.00:   0%|          | 1/301 [00:02<12:17,  2.46s/it]\u001b[A\u001b[A\n",
            "\n",
            "Loss=0.7604125142097473 Batch_id=1 Accuracy=77.73:   0%|          | 1/301 [00:04<12:17,  2.46s/it]\u001b[A\u001b[A\n",
            "\n",
            "Loss=0.7604125142097473 Batch_id=1 Accuracy=77.73:   1%|          | 2/301 [00:04<11:21,  2.28s/it]\u001b[A\u001b[A\n",
            "\n",
            "Loss=0.8025633096694946 Batch_id=2 Accuracy=77.86:   1%|          | 2/301 [00:06<11:21,  2.28s/it]\u001b[A\u001b[A\n",
            "\n",
            "Loss=0.8025633096694946 Batch_id=2 Accuracy=77.86:   1%|          | 3/301 [00:06<10:40,  2.15s/it]\u001b[A\u001b[A"
          ],
          "name": "stderr"
        },
        {
          "output_type": "error",
          "ename": "KeyboardInterrupt",
          "evalue": "ignored",
          "traceback": [
            "\u001b[0;31m---------------------------------------------------------------------------\u001b[0m",
            "\u001b[0;31mKeyboardInterrupt\u001b[0m                         Traceback (most recent call last)",
            "\u001b[0;32m<ipython-input-22-0811941a5ebe>\u001b[0m in \u001b[0;36m<module>\u001b[0;34m()\u001b[0m\n\u001b[1;32m      1\u001b[0m \u001b[0;32mfrom\u001b[0m \u001b[0mtemplate\u001b[0m \u001b[0;32mimport\u001b[0m \u001b[0mtrain_test\u001b[0m\u001b[0;34m\u001b[0m\u001b[0;34m\u001b[0m\u001b[0m\n\u001b[0;32m----> 2\u001b[0;31m \u001b[0mtrain_test\u001b[0m\u001b[0;34m.\u001b[0m\u001b[0mtrain_model\u001b[0m\u001b[0;34m(\u001b[0m\u001b[0mmodel\u001b[0m\u001b[0;34m,\u001b[0m\u001b[0mdevice\u001b[0m\u001b[0;34m,\u001b[0m\u001b[0mtrainloader\u001b[0m\u001b[0;34m,\u001b[0m\u001b[0mtestloader\u001b[0m\u001b[0;34m,\u001b[0m\u001b[0moptimizer\u001b[0m\u001b[0;34m,\u001b[0m\u001b[0mcriterion\u001b[0m\u001b[0;34m,\u001b[0m\u001b[0;36m50\u001b[0m\u001b[0;34m,\u001b[0m\u001b[0mscheduler\u001b[0m\u001b[0;34m,\u001b[0m\u001b[0mbatch_scheduler\u001b[0m\u001b[0;34m=\u001b[0m\u001b[0;32mFalse\u001b[0m\u001b[0;34m,\u001b[0m\u001b[0mbest_acc\u001b[0m \u001b[0;34m=\u001b[0m \u001b[0;36m0\u001b[0m\u001b[0;34m,\u001b[0m\u001b[0mpath\u001b[0m \u001b[0;34m=\u001b[0m \u001b[0;34m\"/content/gdrive/My Drive/school_of_ai/chap12/newtinymodel.pt\"\u001b[0m\u001b[0;34m)\u001b[0m\u001b[0;34m\u001b[0m\u001b[0;34m\u001b[0m\u001b[0m\n\u001b[0m",
            "\u001b[0;32m/content/gdrive/My Drive/school_of_ai/chap12/template/train_test.py\u001b[0m in \u001b[0;36mtrain_model\u001b[0;34m(model, device, trainloader, testloader, optimizer, criterion, EPOCHS, scheduler, batch_scheduler, best_acc, path)\u001b[0m\n\u001b[1;32m     83\u001b[0m       \u001b[0;32mif\u001b[0m\u001b[0;34m(\u001b[0m\u001b[0mbatch_scheduler\u001b[0m\u001b[0;34m)\u001b[0m\u001b[0;34m:\u001b[0m\u001b[0;34m\u001b[0m\u001b[0;34m\u001b[0m\u001b[0m\n\u001b[1;32m     84\u001b[0m         \u001b[0mtrain_scheduler\u001b[0m \u001b[0;34m=\u001b[0m \u001b[0mscheduler\u001b[0m\u001b[0;34m\u001b[0m\u001b[0;34m\u001b[0m\u001b[0m\n\u001b[0;32m---> 85\u001b[0;31m       \u001b[0mtrain_loss\u001b[0m\u001b[0;34m,\u001b[0m \u001b[0mtrain_acc\u001b[0m \u001b[0;34m=\u001b[0m \u001b[0mtrain\u001b[0m\u001b[0;34m(\u001b[0m\u001b[0mmodel\u001b[0m\u001b[0;34m,\u001b[0m \u001b[0mdevice\u001b[0m\u001b[0;34m,\u001b[0m \u001b[0mtrainloader\u001b[0m\u001b[0;34m,\u001b[0m \u001b[0moptimizer\u001b[0m\u001b[0;34m,\u001b[0m \u001b[0mcriterion\u001b[0m\u001b[0;34m,\u001b[0m \u001b[0mepoch\u001b[0m\u001b[0;34m,\u001b[0m\u001b[0mtrain_scheduler\u001b[0m\u001b[0;34m)\u001b[0m\u001b[0;34m\u001b[0m\u001b[0;34m\u001b[0m\u001b[0m\n\u001b[0m\u001b[1;32m     86\u001b[0m       \u001b[0;32mif\u001b[0m\u001b[0;34m(\u001b[0m\u001b[0;32mnot\u001b[0m \u001b[0mbatch_scheduler\u001b[0m\u001b[0;34m)\u001b[0m\u001b[0;34m:\u001b[0m\u001b[0;34m\u001b[0m\u001b[0;34m\u001b[0m\u001b[0m\n\u001b[1;32m     87\u001b[0m         \u001b[0mscheduler\u001b[0m\u001b[0;34m.\u001b[0m\u001b[0mstep\u001b[0m\u001b[0;34m(\u001b[0m\u001b[0;34m)\u001b[0m\u001b[0;34m\u001b[0m\u001b[0;34m\u001b[0m\u001b[0m\n",
            "\u001b[0;32m/content/gdrive/My Drive/school_of_ai/chap12/template/train_test.py\u001b[0m in \u001b[0;36mtrain\u001b[0;34m(model, device, train_loader, optimizer, criterion, epoch, scheduler)\u001b[0m\n\u001b[1;32m     32\u001b[0m \u001b[0;34m\u001b[0m\u001b[0m\n\u001b[1;32m     33\u001b[0m     \u001b[0;31m# Backpropagation\u001b[0m\u001b[0;34m\u001b[0m\u001b[0;34m\u001b[0m\u001b[0;34m\u001b[0m\u001b[0m\n\u001b[0;32m---> 34\u001b[0;31m     \u001b[0mloss\u001b[0m\u001b[0;34m.\u001b[0m\u001b[0mbackward\u001b[0m\u001b[0;34m(\u001b[0m\u001b[0;34m)\u001b[0m\u001b[0;34m\u001b[0m\u001b[0;34m\u001b[0m\u001b[0m\n\u001b[0m\u001b[1;32m     35\u001b[0m     \u001b[0moptimizer\u001b[0m\u001b[0;34m.\u001b[0m\u001b[0mstep\u001b[0m\u001b[0;34m(\u001b[0m\u001b[0;34m)\u001b[0m\u001b[0;34m\u001b[0m\u001b[0;34m\u001b[0m\u001b[0m\n\u001b[1;32m     36\u001b[0m     \u001b[0;32mif\u001b[0m\u001b[0;34m(\u001b[0m\u001b[0mscheduler\u001b[0m\u001b[0;34m)\u001b[0m\u001b[0;34m:\u001b[0m\u001b[0;34m\u001b[0m\u001b[0;34m\u001b[0m\u001b[0m\n",
            "\u001b[0;32m/usr/local/lib/python3.6/dist-packages/torch/tensor.py\u001b[0m in \u001b[0;36mbackward\u001b[0;34m(self, gradient, retain_graph, create_graph)\u001b[0m\n\u001b[1;32m    193\u001b[0m                 \u001b[0mproducts\u001b[0m\u001b[0;34m.\u001b[0m \u001b[0mDefaults\u001b[0m \u001b[0mto\u001b[0m\u001b[0;31m \u001b[0m\u001b[0;31m`\u001b[0m\u001b[0;31m`\u001b[0m\u001b[0;32mFalse\u001b[0m\u001b[0;31m`\u001b[0m\u001b[0;31m`\u001b[0m\u001b[0;34m.\u001b[0m\u001b[0;34m\u001b[0m\u001b[0;34m\u001b[0m\u001b[0m\n\u001b[1;32m    194\u001b[0m         \"\"\"\n\u001b[0;32m--> 195\u001b[0;31m         \u001b[0mtorch\u001b[0m\u001b[0;34m.\u001b[0m\u001b[0mautograd\u001b[0m\u001b[0;34m.\u001b[0m\u001b[0mbackward\u001b[0m\u001b[0;34m(\u001b[0m\u001b[0mself\u001b[0m\u001b[0;34m,\u001b[0m \u001b[0mgradient\u001b[0m\u001b[0;34m,\u001b[0m \u001b[0mretain_graph\u001b[0m\u001b[0;34m,\u001b[0m \u001b[0mcreate_graph\u001b[0m\u001b[0;34m)\u001b[0m\u001b[0;34m\u001b[0m\u001b[0;34m\u001b[0m\u001b[0m\n\u001b[0m\u001b[1;32m    196\u001b[0m \u001b[0;34m\u001b[0m\u001b[0m\n\u001b[1;32m    197\u001b[0m     \u001b[0;32mdef\u001b[0m \u001b[0mregister_hook\u001b[0m\u001b[0;34m(\u001b[0m\u001b[0mself\u001b[0m\u001b[0;34m,\u001b[0m \u001b[0mhook\u001b[0m\u001b[0;34m)\u001b[0m\u001b[0;34m:\u001b[0m\u001b[0;34m\u001b[0m\u001b[0;34m\u001b[0m\u001b[0m\n",
            "\u001b[0;32m/usr/local/lib/python3.6/dist-packages/torch/autograd/__init__.py\u001b[0m in \u001b[0;36mbackward\u001b[0;34m(tensors, grad_tensors, retain_graph, create_graph, grad_variables)\u001b[0m\n\u001b[1;32m     97\u001b[0m     Variable._execution_engine.run_backward(\n\u001b[1;32m     98\u001b[0m         \u001b[0mtensors\u001b[0m\u001b[0;34m,\u001b[0m \u001b[0mgrad_tensors\u001b[0m\u001b[0;34m,\u001b[0m \u001b[0mretain_graph\u001b[0m\u001b[0;34m,\u001b[0m \u001b[0mcreate_graph\u001b[0m\u001b[0;34m,\u001b[0m\u001b[0;34m\u001b[0m\u001b[0;34m\u001b[0m\u001b[0m\n\u001b[0;32m---> 99\u001b[0;31m         allow_unreachable=True)  # allow_unreachable flag\n\u001b[0m\u001b[1;32m    100\u001b[0m \u001b[0;34m\u001b[0m\u001b[0m\n\u001b[1;32m    101\u001b[0m \u001b[0;34m\u001b[0m\u001b[0m\n",
            "\u001b[0;31mKeyboardInterrupt\u001b[0m: "
          ]
        }
      ]
    },
    {
      "cell_type": "code",
      "metadata": {
        "id": "bU7TCSO293iI",
        "colab_type": "code",
        "outputId": "ebe1d813-ce57-42e4-b00e-6fbcbc7fe299",
        "colab": {
          "base_uri": "https://localhost:8080/",
          "height": 34
        }
      },
      "source": [
        "from template import evaluate\n",
        "evaluate.evaluate_accuracy(model, device, testloader)"
      ],
      "execution_count": 23,
      "outputs": [
        {
          "output_type": "stream",
          "text": [
            "Accuracy of the network on the 10000 test images: 55 %\n"
          ],
          "name": "stdout"
        }
      ]
    },
    {
      "cell_type": "code",
      "metadata": {
        "id": "WXqR8FpI8qX3",
        "colab_type": "code",
        "outputId": "cbd6e4d0-bd87-431c-f64b-44f5b0d53ca2",
        "colab": {
          "base_uri": "https://localhost:8080/",
          "height": 390
        }
      },
      "source": [
        "import matplotlib.pyplot as plt\n",
        "def plot_curve(curves,title,Figsize = (7,7)):\n",
        "    fig = plt.figure(figsize=Figsize)\n",
        "    ax = plt.subplot()\n",
        "    for curve in curves:\n",
        "        ax.plot(curve[0], label=curve[1])\n",
        "        plt.title(title)\n",
        "    ax.legend()\n",
        "    plt.show()\n",
        "curves = [(train_test.test_acc,\"test_acc\"),(train_test.train_acc,\"train_acc\")]\n",
        "plot_curve(curves,\"Accuracy Change\",Figsize = (9,6))"
      ],
      "execution_count": 0,
      "outputs": [
        {
          "output_type": "display_data",
          "data": {
            "image/png": "[encoded data removed]",
            "text/plain": [
              "<Figure size 648x432 with 1 Axes>"
            ]
          },
          "metadata": {
            "tags": [],
            "needs_background": "light"
          }
        }
      ]
    }
  ]
}