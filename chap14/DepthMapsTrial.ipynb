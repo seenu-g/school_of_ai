{
  "nbformat": 4,
  "nbformat_minor": 0,
  "metadata": {
    "colab": {
      "name": "DepthMapsTrial.ipynb",
      "provenance": [],
      "collapsed_sections": [],
      "authorship_tag": "ABX9TyMmxCPNLB+OaeU+UPJiIVWF",
      "include_colab_link": true
    },
    "kernelspec": {
      "name": "python3",
      "display_name": "Python 3"
    }
  },
  "cells": [
    {
      "cell_type": "markdown",
      "metadata": {
        "id": "view-in-github",
        "colab_type": "text"
      },
      "source": [
        "<a href=\"https://colab.research.google.com/github/seenu-g/school_of_ai/blob/master/chap14/DepthMapsTrial.ipynb\" target=\"_parent\"><img src=\"https://colab.research.google.com/assets/colab-badge.svg\" alt=\"Open In Colab\"/></a>"
      ]
    },
    {
      "cell_type": "code",
      "metadata": {
        "id": "Ycw9poFF7UHs",
        "colab_type": "code",
        "outputId": "47f88771-0699-47a9-9701-b1bd50353ffb",
        "colab": {
          "base_uri": "https://localhost:8080/",
          "height": 34
        }
      },
      "source": [
        "from google.colab import drive\n",
        "drive.mount('/content/gdrive')"
      ],
      "execution_count": 0,
      "outputs": [
        {
          "output_type": "stream",
          "text": [
            "Drive already mounted at /content/gdrive; to attempt to forcibly remount, call drive.mount(\"/content/gdrive\", force_remount=True).\n"
          ],
          "name": "stdout"
        }
      ]
    },
    {
      "cell_type": "code",
      "metadata": {
        "id": "YFftXrGWBQhh",
        "colab_type": "code",
        "outputId": "28e5dc6f-96e6-4514-9e48-4f39080089db",
        "colab": {
          "base_uri": "https://localhost:8080/",
          "height": 204
        }
      },
      "source": [
        "import sys\n",
        "import os\n",
        "folder = '/content/gdrive/My Drive/school_of_ai/chap14/'\n",
        "os.chdir(folder)\n",
        "print(os.getcwd()) \n",
        "for items in os.listdir(folder):\n",
        "   print(items)\n",
        "sys.path.append(folder)"
      ],
      "execution_count": 0,
      "outputs": [
        {
          "output_type": "stream",
          "text": [
            "/content/gdrive/My Drive/school_of_ai/chap14\n",
            "Detectron2 Tutorial.ipynb\n",
            "collect_data\n",
            "Background\n",
            "Foreground\n",
            "Mask\n",
            "Overlap_and_mask_Trial.ipynb\n",
            "DepthMapsTrial.ipynb\n",
            "DepthModel\n",
            "Fg-Bg-Mask\n",
            "Fg-Bg\n"
          ],
          "name": "stdout"
        }
      ]
    },
    {
      "cell_type": "code",
      "metadata": {
        "id": "lZdozIv67QK5",
        "colab_type": "code",
        "outputId": "a553da76-f4bb-4a67-c0fd-678005abcc76",
        "colab": {
          "base_uri": "https://localhost:8080/",
          "height": 34
        }
      },
      "source": [
        "!git clone https://github.com/seenu-g/DepthModel.git"
      ],
      "execution_count": 0,
      "outputs": [
        {
          "output_type": "stream",
          "text": [
            "fatal: destination path 'DepthModel' already exists and is not an empty directory.\n"
          ],
          "name": "stdout"
        }
      ]
    },
    {
      "cell_type": "code",
      "metadata": {
        "id": "anXXAZpS7IdJ",
        "colab_type": "code",
        "outputId": "40d0f641-8c85-41fa-f28a-f394edc9812d",
        "colab": {
          "base_uri": "https://localhost:8080/",
          "height": 204
        }
      },
      "source": [
        "!wget https://s3-eu-west-1.amazonaws.com/densedepth/nyu.h5 -O ./DepthModel/nyu.h5"
      ],
      "execution_count": 0,
      "outputs": [
        {
          "output_type": "stream",
          "text": [
            "--2020-05-03 09:38:18--  https://s3-eu-west-1.amazonaws.com/densedepth/nyu.h5\n",
            "Resolving s3-eu-west-1.amazonaws.com (s3-eu-west-1.amazonaws.com)... 52.218.102.27\n",
            "Connecting to s3-eu-west-1.amazonaws.com (s3-eu-west-1.amazonaws.com)|52.218.102.27|:443... connected.\n",
            "HTTP request sent, awaiting response... 200 OK\n",
            "Length: 172897376 (165M) [application/h5]\n",
            "Saving to: ‘./DepthModel/nyu.h5’\n",
            "\n",
            "./DepthModel/nyu.h5 100%[===================>] 164.89M  25.9MB/s    in 9.8s    \n",
            "\n",
            "2020-05-03 09:38:29 (16.7 MB/s) - ‘./DepthModel/nyu.h5’ saved [172897376/172897376]\n",
            "\n"
          ],
          "name": "stdout"
        }
      ]
    },
    {
      "cell_type": "code",
      "metadata": {
        "id": "UrMDEqMh8YkE",
        "colab_type": "code",
        "outputId": "b98a8ff5-c2f6-4aee-aa35-452570f2f14a",
        "colab": {
          "base_uri": "https://localhost:8080/",
          "height": 102
        }
      },
      "source": [
        "ls DepthModel"
      ],
      "execution_count": 0,
      "outputs": [
        {
          "output_type": "stream",
          "text": [
            "augment.py      demo_rgb.npy      LICENSE   \u001b[0m\u001b[01;34m__pycache__\u001b[0m/  train.py\n",
            "callbacks.py    DenseDepth.ipynb  loss.py   \u001b[01;34mPyTorch\u001b[0m/      utils.py\n",
            "data.py         evaluate.py       model.py  README.md\n",
            "demo_depth.npy  \u001b[01;34mexamples\u001b[0m/         nyu.h5    \u001b[01;34mTensorflow\u001b[0m/\n",
            "demo.py         layers.py         \u001b[01;34moutput\u001b[0m/   test.py\n"
          ],
          "name": "stdout"
        }
      ]
    },
    {
      "cell_type": "code",
      "metadata": {
        "id": "rR6tGv5B7arj",
        "colab_type": "code",
        "outputId": "05f6ac49-b796-484d-8d2f-65ebfdac12c6",
        "colab": {
          "base_uri": "https://localhost:8080/",
          "height": 561
        }
      },
      "source": [
        "#!cd DepthModel; python test.py --input \"/content/gdrive/My Drive/school_of_ai/chap14/DepthModel/examples/*.png\"\n",
        "!cd DepthModel; python test.py --input \"/content/gdrive/My Drive/school_of_ai/chap14/Fg-Bg/fg-bg24000[1-9].jpg\" --start 240001 --end 240009\n",
        "#!cd DepthModel; python test.py --input \"/content/gdrive/My Drive/school_of_ai/chap14/Fg-Bg/fg-bg240[0-9][0-9][0-9].jpg\" --start 240001 --end 240999 --output \"/content/gdrive/My Drive/school_of_ai/chap14/DepthModel/output/\"\n"
      ],
      "execution_count": 0,
      "outputs": [
        {
          "output_type": "stream",
          "text": [
            "Using TensorFlow backend.\n",
            "Loading model...\n",
            "\n",
            "Model loaded (nyu.h5).\n",
            "\n",
            "Loaded (9) images of size (224, 224, 3).\n",
            "(112, 112, 3)\n",
            "(112, 112)\n",
            "(112, 112)\n",
            "240002\n",
            "(112, 112)\n",
            "(112, 112)\n",
            "240003\n",
            "(112, 112)\n",
            "(112, 112)\n",
            "240004\n",
            "(112, 112)\n",
            "(112, 112)\n",
            "240005\n",
            "(112, 112)\n",
            "(112, 112)\n",
            "240006\n",
            "(112, 112)\n",
            "(112, 112)\n",
            "240007\n",
            "(112, 112)\n",
            "(112, 112)\n",
            "240008\n",
            "(112, 112)\n",
            "(112, 112)\n",
            "240009\n",
            "done\n"
          ],
          "name": "stdout"
        }
      ]
    },
    {
      "cell_type": "code",
      "metadata": {
        "id": "Lw6WhVuz7eKE",
        "colab_type": "code",
        "colab": {}
      },
      "source": [
        "from matplotlib import pyplot as plt\n",
        "from skimage import io\n",
        "\n",
        "plt.figure(figsize=(20,20))\n",
        "a = io.imread('/content/gdrive/My Drive/school_of_ai/chap14/DepthModel/output/test240001.jpg')\n",
        "plt.imshow( io.imread('/content/gdrive/My Drive/school_of_ai/chap14/DepthModel/output/test240001.jpg') )\n",
        "a.shape"
      ],
      "execution_count": 0,
      "outputs": []
    },
    {
      "cell_type": "code",
      "metadata": {
        "id": "QwmmUYnPAMw6",
        "colab_type": "code",
        "colab": {}
      },
      "source": [
        "#fg-bg240001.jpg\n",
        "import glob \n",
        "count = 1 ,start = 240 , end = 250\n",
        "for index in range(start,end):\n",
        "     for name in glob.glob('/content/gdrive/My Drive/school_of_ai/chap14/Fg-Bg/fg-bg'+ str(index)+'[0-9][0-9][0-9].jpg'): \n",
        "      print(count, name)\n",
        "      count = count + 1 "
      ],
      "execution_count": 0,
      "outputs": []
    },
    {
      "cell_type": "code",
      "metadata": {
        "id": "Pet_0bszt-nK",
        "colab_type": "code",
        "outputId": "53941dad-b65a-48d1-c048-957e30eab5c9",
        "colab": {
          "base_uri": "https://localhost:8080/",
          "height": 34
        }
      },
      "source": [
        "print(index)"
      ],
      "execution_count": 0,
      "outputs": [
        {
          "output_type": "stream",
          "text": [
            "249\n"
          ],
          "name": "stdout"
        }
      ]
    },
    {
      "cell_type": "code",
      "metadata": {
        "id": "uMquFL8EqXWJ",
        "colab_type": "code",
        "colab": {}
      },
      "source": [
        "ls -l  \"/content/gdrive/My Drive/school_of_ai/chap14/DepthModel/output/\" ! wc -l"
      ],
      "execution_count": 0,
      "outputs": []
    },
    {
      "cell_type": "code",
      "metadata": {
        "id": "LRK7U6ZJD32B",
        "colab_type": "code",
        "colab": {}
      },
      "source": [
        "\"\"\"\n",
        "    This function will save the predicted output array as JPEG image under '/content/test'\n",
        "    Inputs\n",
        "        outputs: output array \n",
        "        input_names_list: list of the filenames of the images\n",
        "    Output:\n",
        "        Colormapped JPEG files of depth images generated under '/content/test'\n",
        "    Can be called after the 'predict' function.\n",
        "    By default it uses the colormap as 'plasma'\n",
        "\"\"\"\n",
        "\n",
        "def display_images_new(outputs, input_names_list,output_dir='/content/test/' ):\n",
        "    is_colormap=True \n",
        "    is_rescale=True\n",
        "    plasma = plt.get_cmap('plasma')\n",
        "    shape = (outputs[0].shape[0], outputs[0].shape[1], 3)\n",
        "    \n",
        "    all_images = []\n",
        "\n",
        "    for i in range(outputs.shape[0]):\n",
        "        imgs = []        \n",
        "        if is_colormap:\n",
        "            rescaled = outputs[i][:,:,0]\n",
        "            if is_rescale:\n",
        "                rescaled = rescaled - np.min(rescaled)\n",
        "                rescaled = rescaled / np.max(rescaled)\n",
        "            imgs.append(plasma(rescaled)[:,:,:3])\n",
        "        else:\n",
        "            imgs.append(to_multichannel(outputs[i]))\n",
        "\n",
        "        img_set = np.hstack(imgs)\n",
        "        #print(\"Shape:{}\".format(np.array(img_set).shape))\n",
        "        file_name = os.path.join(output_dir,\"depth_\"+os.path.basename(input_names_list[i]))\n",
        "        Image.fromarray(np.uint8(np.array(img_set)*255)).save(file_name, 'JPEG',quality=100)\n",
        "        all_images.append(img_set)\n",
        "\n",
        "# Helper function to load images from a ZipFile\n",
        "def load_execute_names(model, zipfile_orig, name_list,output_dir=\"/content/test\"):\n",
        "    image_list = [Image.open(BytesIO((zipfile_orig.read(name)))) for name in name_list ]   \n",
        "    inputs = load_images_local(image_list)\n",
        "    print('Loaded ({0}) images of size {1}.'.format(inputs.shape[0], inputs.shape[1:]))\n",
        "    outputs = predict(model, inputs)\n",
        "    converted_img = display_images_new(outputs.copy(),name_list,output_dir=output_dir)\n",
        "    print(\"Received output shape:{} converted:{}\".format(outputs.shape, converted_img.shape))\n",
        "    \n",
        "#### Sample workflow ######\n",
        "\n",
        "from DenseDepth import utils    #### load_execute_names\n",
        "from keras.models import load_model\n",
        "from layers import BilinearUpSampling2D\n",
        "\n",
        "os.environ['TF_CPP_MIN_LOG_LEVEL'] = '5'\n",
        "\n",
        "\n",
        "input_zip = ZipFile(\"/content/drive/My Drive/EVA4/base_images.zip\") ### You can directly read the file from Google-Drive path or from colab. Could't go beyond 300-400 files at a time\n",
        "file_list = [ name for name in depth_zip.namelist()][:200]\n",
        "\n",
        "custom_objects = {'BilinearUpSampling2D': BilinearUpSampling2D, 'depth_loss_function': None}\n",
        "print('Loading model...')\n",
        "# Load model into GPU / CPU\n",
        "model = load_model('/content/nyu.h5', custom_objects=custom_objects, compile=False)\n",
        "utils.load_execute_names(model, input_zip, file_list)"
      ],
      "execution_count": 0,
      "outputs": []
    }
  ]
}