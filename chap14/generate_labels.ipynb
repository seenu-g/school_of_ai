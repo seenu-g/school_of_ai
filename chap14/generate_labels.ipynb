{
  "nbformat": 4,
  "nbformat_minor": 0,
  "metadata": {
    "colab": {
      "name": "generate_labels.ipynb",
      "provenance": [],
      "authorship_tag": "ABX9TyPglV9ywwAqKCnBLwqjlJtW",
      "include_colab_link": true
    },
    "kernelspec": {
      "name": "python3",
      "display_name": "Python 3"
    }
  },
  "cells": [
    {
      "cell_type": "markdown",
      "metadata": {
        "id": "view-in-github",
        "colab_type": "text"
      },
      "source": [
        "<a href=\"https://colab.research.google.com/github/seenu-g/school_of_ai/blob/master/chap14/generate_labels.ipynb\" target=\"_parent\"><img src=\"https://colab.research.google.com/assets/colab-badge.svg\" alt=\"Open In Colab\"/></a>"
      ]
    },
    {
      "cell_type": "code",
      "metadata": {
        "id": "2MmBZ8SkEAg5",
        "colab_type": "code",
        "outputId": "e0e28df5-6acd-42f0-9b78-864773810d7c",
        "colab": {
          "base_uri": "https://localhost:8080/",
          "height": 54
        }
      },
      "source": [
        "from google.colab import drive\n",
        "drive.mount('/content/gdrive')"
      ],
      "execution_count": 18,
      "outputs": [
        {
          "output_type": "stream",
          "text": [
            "Drive already mounted at /content/gdrive; to attempt to forcibly remount, call drive.mount(\"/content/gdrive\", force_remount=True).\n"
          ],
          "name": "stdout"
        }
      ]
    },
    {
      "cell_type": "code",
      "metadata": {
        "id": "FX2T2ub8EFga",
        "colab_type": "code",
        "outputId": "38879736-cc1f-48cf-8541-abb8bd79c96f",
        "colab": {
          "base_uri": "https://localhost:8080/",
          "height": 119
        }
      },
      "source": [
        "ls -l '/content/gdrive/My Drive/school_of_ai/archive'"
      ],
      "execution_count": 0,
      "outputs": [
        {
          "output_type": "stream",
          "text": [
            "total 4120086\n",
            "-rw------- 1 root root 848369153 May 10 08:28 data_part1.zip\n",
            "-rw------- 1 root root 842619263 May 10 08:29 data_part2.zip\n",
            "-rw------- 1 root root 836649001 May 10 08:28 data_part3.zip\n",
            "-rw------- 1 root root 845657216 May 10 10:14 data_part4.zip\n",
            "-rw------- 1 root root 845671487 May 10 08:28 data_part5.zip\n"
          ],
          "name": "stdout"
        }
      ]
    },
    {
      "cell_type": "code",
      "metadata": {
        "id": "7HH-tSVsEPS5",
        "colab_type": "code",
        "outputId": "eb3f23f4-8fef-46d9-b290-bab169d84530",
        "colab": {
          "base_uri": "https://localhost:8080/",
          "height": 102
        }
      },
      "source": [
        "# extract files to perform calculations\n",
        "import zipfile\n",
        "import os.path\n",
        "for i in range(5):\n",
        "  if(os.path.isfile(f'/content/gdrive/My Drive/school_of_ai/archive/data_part{str(i+1)}.zip')):\n",
        "    print(f'Extract from data_part{str(i+1)}.zip to folder data_{str(i+1)}')\n",
        "    archive = zipfile.ZipFile(f'/content/gdrive/My Drive/school_of_ai/archive/data_part{str(i+1)}.zip')\n",
        "    for file in archive.namelist():\n",
        "            archive.extract(file, '/content/')"
      ],
      "execution_count": 0,
      "outputs": [
        {
          "output_type": "stream",
          "text": [
            "Extract from data_part1.zip to folder data_1\n",
            "Extract from data_part2.zip to folder data_2\n",
            "Extract from data_part3.zip to folder data_3\n",
            "Extract from data_part4.zip to folder data_4\n",
            "Extract from data_part5.zip to folder data_5\n"
          ],
          "name": "stdout"
        }
      ]
    },
    {
      "cell_type": "code",
      "metadata": {
        "id": "n6LqrOBgLsle",
        "colab_type": "code",
        "colab": {
          "base_uri": "https://localhost:8080/",
          "height": 34
        },
        "outputId": "961b129d-a1ea-4467-841e-85e2d4bb4b50"
      },
      "source": [
        "ls '/content/gdrive/My Drive/Mask_Rcnn/Sushmitha'"
      ],
      "execution_count": 27,
      "outputs": [
        {
          "output_type": "stream",
          "text": [
            "ls: cannot access '/content/gdrive/My Drive/Mask_Rcnn/Sushmitha': No such file or directory\n"
          ],
          "name": "stdout"
        }
      ]
    },
    {
      "cell_type": "code",
      "metadata": {
        "id": "nhdyARk7FNU-",
        "colab_type": "code",
        "colab": {}
      },
      "source": [
        "bg_folder = '/content/gdrive/My Drive/school_of_ai/chap14/Background'\n",
        "fg_folder = '/content/gdrive/My Drive/school_of_ai/chap14/Foreground'\n",
        "data_folder = '/content'"
      ],
      "execution_count": 0,
      "outputs": []
    },
    {
      "cell_type": "code",
      "metadata": {
        "id": "sYnCV3bIEJDG",
        "colab_type": "code",
        "outputId": "118186ba-0409-42ef-a2b5-1537fb7d16c5",
        "colab": {
          "base_uri": "https://localhost:8080/",
          "height": 102
        }
      },
      "source": [
        "from pathlib import Path\n",
        "start =1 \n",
        "file = open(\"labels.txt\",\"w\")\n",
        "for part in range(1,6): #5 sets\n",
        "  for i in range(1,101): #background\n",
        "      if(Path(bg_folder +'/' + f'bg{i}.jpg').exists()):\n",
        "        for j in  range(1,21): #foreground\n",
        "            if(Path(fg_folder +'/' + f'fg{i}.png').exists()):\n",
        "              for k in range(1,21):  \n",
        "                if(Path(data_folder + '/' + f'data_{part}/Fg-Bg/fg-bg{start}.jpg') and \n",
        "                   Path(data_folder + '/' + f'data_{part}/Fg-Bg-Mask/fg-bg-mask{start}.jpg') and\n",
        "                   Path(data_folder + '/' + f'data_{part}/Depth/depth{start}.jpg')):\n",
        "                  file.write(f\"Background/bg{i}.jpg\\tForeground/fg{j}.png\\tdata_{part}/Fg-Bg/fg-bg{start}.jpg\\tdata_{part}/Fg-Bg-Mask/fg-bg-mask{start}.jpg\\tdata_{part}/Depth/depth{start}.jpg\\n\")\n",
        "                  start+=1\n",
        "                  file.write(f\"Background/bg{i}.jpg\\tForeground/fg{j}.png\\tdata_{part}/Fg-Bg/fg-bg{start}.jpg\\tdata_{part}/Fg-Bg-Mask/fg-bg-mask{start}.jpg\\tdata_{part}/Depth/depth{start}.jpg\\n\")\n",
        "                  start+=1\n",
        "\n",
        "  print(start)\n",
        "file.close()"
      ],
      "execution_count": 30,
      "outputs": [
        {
          "output_type": "stream",
          "text": [
            "80001\n",
            "160001\n",
            "240001\n",
            "320001\n",
            "400001\n"
          ],
          "name": "stdout"
        }
      ]
    },
    {
      "cell_type": "code",
      "metadata": {
        "id": "hviB_37TM-sU",
        "colab_type": "code",
        "colab": {}
      },
      "source": [
        "!mv labels.txt \"/content/gdrive/My Drive/school_of_ai/archive\""
      ],
      "execution_count": 0,
      "outputs": []
    },
    {
      "cell_type": "code",
      "metadata": {
        "id": "ojIdhgG9H8iE",
        "colab_type": "code",
        "outputId": "cf104c40-f17e-484f-aa5c-745186c73496",
        "colab": {
          "base_uri": "https://localhost:8080/",
          "height": 102
        }
      },
      "source": [
        "if(Path(bg_folder +'/' + f'bg1.jpg').exists()):\n",
        "  print(\"File exists bg\")\n",
        "if(Path(fg_folder +'/' + f'fg1.png').exists()):\n",
        "  print(\"File exists fg\")\n",
        "if(Path(data_folder +'/' + f'data_1/Fg-Bg/fg-bg1.jpg')):\n",
        "  print(\"File exists fg-bg\")\n",
        "if(Path(data_folder +'/' + f'data_1/Fg-Bg-Mask/fg-bg-mask1.jpg')):\n",
        "  print(\"File exists fg-bg-mask\")\n",
        "if(Path(data_folder +'/' + f'data_1/Depth/depth1.jpg')):\n",
        "  print(\"File exists depth\")"
      ],
      "execution_count": 28,
      "outputs": [
        {
          "output_type": "stream",
          "text": [
            "File exists bg\n",
            "File exists fg\n",
            "File exists fg-bg\n",
            "File exists fg-bg-mask\n",
            "File exists depth\n"
          ],
          "name": "stdout"
        }
      ]
    }
  ]
}