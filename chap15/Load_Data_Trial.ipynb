{
  "nbformat": 4,
  "nbformat_minor": 0,
  "metadata": {
    "colab": {
      "name": "Load_Data.ipynb",
      "provenance": [],
      "collapsed_sections": [],
      "authorship_tag": "ABX9TyNMhutNJGd2yl0srzrCtXBK",
      "include_colab_link": true
    },
    "kernelspec": {
      "name": "python3",
      "display_name": "Python 3"
    }
  },
  "cells": [
    {
      "cell_type": "markdown",
      "metadata": {
        "id": "view-in-github",
        "colab_type": "text"
      },
      "source": [
        "<a href=\"https://colab.research.google.com/github/seenu-g/school_of_ai/blob/master/chap15/Load_Data_Trial.ipynb\" target=\"_parent\"><img src=\"https://colab.research.google.com/assets/colab-badge.svg\" alt=\"Open In Colab\"/></a>"
      ]
    },
    {
      "cell_type": "code",
      "metadata": {
        "id": "rTWKsLsv1H2P",
        "colab_type": "code",
        "outputId": "9b26ebc7-dae1-4109-9297-1f2650599e60",
        "colab": {
          "base_uri": "https://localhost:8080/",
          "height": 122
        }
      },
      "source": [
        "from google.colab import drive\n",
        "drive.mount('/content/gdrive/')"
      ],
      "execution_count": 1,
      "outputs": [
        {
          "output_type": "stream",
          "text": [
            "Go to this URL in a browser: https://accounts.google.com/o/oauth2/auth?client_id=947318989803-6bn6qk8qdgf4n4g3pfee6491hc0brc4i.apps.googleusercontent.com&redirect_uri=urn%3aietf%3awg%3aoauth%3a2.0%3aoob&response_type=code&scope=email%20https%3a%2f%2fwww.googleapis.com%2fauth%2fdocs.test%20https%3a%2f%2fwww.googleapis.com%2fauth%2fdrive%20https%3a%2f%2fwww.googleapis.com%2fauth%2fdrive.photos.readonly%20https%3a%2f%2fwww.googleapis.com%2fauth%2fpeopleapi.readonly\n",
            "\n",
            "Enter your authorization code:\n",
            "··········\n",
            "Mounted at /content/gdrive/\n"
          ],
          "name": "stdout"
        }
      ]
    },
    {
      "cell_type": "code",
      "metadata": {
        "id": "l-XPduWg1hyZ",
        "colab_type": "code",
        "outputId": "1ffb1b15-7ff1-42a3-d279-6a33df234dc4",
        "colab": {
          "base_uri": "https://localhost:8080/",
          "height": 34
        }
      },
      "source": [
        "cd '/content/gdrive/My Drive/school_of_ai/chap15/'"
      ],
      "execution_count": 2,
      "outputs": [
        {
          "output_type": "stream",
          "text": [
            "/content/gdrive/My Drive/school_of_ai/chap15\n"
          ],
          "name": "stdout"
        }
      ]
    },
    {
      "cell_type": "code",
      "metadata": {
        "id": "q5KLFztYPmrt",
        "colab_type": "code",
        "colab": {}
      },
      "source": [
        "from torch.utils.data import Dataset, random_split\n",
        "from PIL import Image\n",
        "import numpy as np\n",
        "import torch\n",
        "import os\n",
        "import torchvision.transforms as transforms\n",
        "from tqdm import notebook"
      ],
      "execution_count": 0,
      "outputs": []
    },
    {
      "cell_type": "code",
      "metadata": {
        "id": "-8Mn0t0n8R-k",
        "colab_type": "code",
        "colab": {}
      },
      "source": [
        "class RawDataSet(Dataset):\n",
        "    def __init__(self,url):\n",
        "        self.fg = []\n",
        "        self.mask = []\n",
        "        self.url = url\n",
        "        self.bg = []\n",
        "\n",
        "        for file_name in os.listdir(url+'Background/'):\n",
        "            bg = Image.open(url+'Background/'+ file_name)\n",
        "            bg_npimg = np.asarray(bg)\n",
        "            \n",
        "            if(len(bg_npimg.shape) ==2):  \n",
        "               bg_npimg = np.repeat(bg_npimg[:, :, np.newaxis], 3, axis=2)\n",
        "            self.bg.append(bg_npimg)  \n",
        "\n",
        "        for file_name in os.listdir(url+'Foreground/'):\n",
        "            fg = Image.open(url+'Foreground/'+ file_name)\n",
        "            fg_npimg = np.asarray(fg)\n",
        "            \n",
        "            if(len(fg_npimg.shape) ==2):  \n",
        "               fg_npimg = np.repeat(fg_npimg[:, :, np.newaxis], 3, axis=\n",
        "            self.fg.append(fg_npimg) \n",
        "\n",
        "        for file_name in os.listdir(url+'Fg-Mask/'):\n",
        "            mask = Image.open(url+'Fg-Mask/'+ file_name)\n",
        "            mask_npimg = np.asarray(mask)\n",
        "            \n",
        "            if(len(fg_npimg.shape) ==2):  \n",
        "               mask_npimg = np.repeat(mask_npimg[:, :, np.newaxis], 3, axis=2)\n",
        "            self.mask.append(mask_npimg)   \n",
        "            \n",
        "    def __len__(self):\n",
        "        return len(self.fg)\n",
        "\n",
        "    def __getitem__(self, idx):\n",
        "        bg = self.bg[idx]\n",
        "        fg = self.fg[idx]\n",
        "        mask = self.mask[idx]\n",
        "        return bg,fg,mask"
      ],
      "execution_count": 0,
      "outputs": []
    },
    {
      "cell_type": "code",
      "metadata": {
        "id": "1Pk9dLTk_nGZ",
        "colab_type": "code",
        "outputId": "ad25cfb0-acf7-41df-db34-c006b0fc3795",
        "colab": {
          "base_uri": "https://localhost:8080/",
          "height": 122
        }
      },
      "source": [
        "  raw_folder = '/content/gdrive/My Drive/school_of_ai/archive/'\n",
        "  raw_dataset = RawDataSet(raw_folder)\n",
        "  print(len(raw_dataset))\n",
        "  raw_dataloaders = torch.utils.data.DataLoader(raw_dataset)\n",
        "  raw_dataiter = iter(raw_dataloaders)\n",
        "  bg_images,fg_images,mask_images = raw_dataiter.next()\n",
        "  bg_images = bg_images.numpy()\n",
        "  fg_images = fg_images.numpy()\n",
        "  mask_images = mask_images.numpy()\n",
        "  print(bg_images.shape)\n",
        "  print(fg_images.shape)\n",
        "  print(mask_images.shape)"
      ],
      "execution_count": 6,
      "outputs": [
        {
          "output_type": "stream",
          "text": [
            "100\n",
            "(1, 224, 224, 3)\n",
            "(1, 90, 33, 4)\n",
            "(1, 120, 45, 3)\n"
          ],
          "name": "stdout"
        },
        {
          "output_type": "stream",
          "text": [
            "/pytorch/torch/csrc/utils/tensor_numpy.cpp:141: UserWarning: The given NumPy array is not writeable, and PyTorch does not support non-writeable tensors. This means you can write to the underlying (supposedly non-writeable) NumPy array using the tensor. You may want to copy the array to protect its data or make it writeable before converting it to a tensor. This type of warning will be suppressed for the rest of this program.\n"
          ],
          "name": "stderr"
        }
      ]
    },
    {
      "cell_type": "code",
      "metadata": {
        "id": "kcPOJrYy3oTP",
        "colab_type": "code",
        "colab": {}
      },
      "source": [
        "import zipfile\n",
        "import os.path\n",
        "for i in range(5):\n",
        "  if(os.path.isfile(f'/content/gdrive/My Drive/school_of_ai/archive/data_part{str(i+1)}.zip')):\n",
        "    print(f'Extract from data_part{str(i+1)}.zip to folder data_{str(i+1)}')\n",
        "    archive = zipfile.ZipFile(f'/content/gdrive/My Drive/school_of_ai/archive/data_part{str(i+1)}.zip')\n",
        "    for file in archive.namelist():\n",
        "        archive.extract(file, '/content/')"
      ],
      "execution_count": 0,
      "outputs": []
    },
    {
      "cell_type": "code",
      "metadata": {
        "id": "kE57ug-KPxhF",
        "colab_type": "code",
        "colab": {}
      },
      "source": [
        "class InputDataSet(Dataset):\n",
        "    def __init__(self,url):\n",
        "        self.fg_bg = []\n",
        "        self.fg_bg_mask = []\n",
        "        self.depth = []\n",
        "        self.url = url\n",
        "\n",
        "        for file_name in os.listdir(url+'Fg-Bg/'):\n",
        "            fg_bg = Image.open(url+'Fg-Bg/'+ file_name)\n",
        "            fg_bg_npimg = np.asarray(bg)\n",
        "            \n",
        "            if(len(fg_bg_npimg.shape) ==2):  \n",
        "               fg_bg_npimg = np.repeat(fg_bg_npimg[:, :, np.newaxis], 3, axis=2)\n",
        "            self.fg_bg.append(fg_bg_npimg)  \n",
        "\n",
        "        for file_name in os.listdir(url+'Fg-Bg-Mask/'):\n",
        "            fg_bg_mask = Image.open(url+'Fg-Bg-Mask/'+ file_name)\n",
        "            fg_bg_mask_npimg = np.asarray(fg_bg_mask)\n",
        "            \n",
        "            if(len(fg_bg_mask_npimg.shape) ==2):  \n",
        "               fg_bg_mask_npimg = np.repeat(fg_bg_mask_npimg[:, :, np.newaxis], 3, axis=2)\n",
        "            self.fg_bg_mask.append(fg_bg_mask_npimg) \n",
        "\n",
        "        for file_name in os.listdir(url+'Depth/'):\n",
        "            depth = Image.open(url+'Depth/'+ file_name)\n",
        "            depth_npimg = np.asarray(depth)\n",
        "            \n",
        "            if(len(depth_npimg.shape) ==2):  \n",
        "               depth_npimg = np.repeat(depth_npimg[:, :, np.newaxis], 3, axis=2)\n",
        "            self.depth.append(depth_npimg)   \n",
        "            \n",
        "    def __len__(self):\n",
        "        return len(self.depth_npimg)\n",
        "\n",
        "    def __getitem__(self, idx):\n",
        "        fg_bg = self.fg_bg[idx]\n",
        "        fg_bg_mask = self.fg_bg_mask[idx]\n",
        "        depth = self.depth[idx]\n",
        "        return fg_bg,fg_bg_mask,depth"
      ],
      "execution_count": 0,
      "outputs": []
    },
    {
      "cell_type": "code",
      "metadata": {
        "id": "oP-kl7H-R7J_",
        "colab_type": "code",
        "colab": {}
      },
      "source": [
        "data1_folder = '/content/data_1/'\n",
        "data2_folder = '/content/data_2/'\n",
        "data3_folder = '/content/data_3/'\n",
        "data4_folder = '/content/data_4/'\n",
        "data5_folder = '/content/data_5/'\n",
        "\n",
        "input_dataset = InputDataSet(input_folder)\n",
        "print(len(input_dataset))\n",
        "input_dataloaders = torch.utils.data.DataLoader(input_dataset)\n",
        "input_dataiter = iter(input_dataloaders)\n",
        "fg_bg_images,fg_bg_mask_images,depth_images = input_dataiter.next()\n",
        "fg_bg_images = fg_bg_images.numpy()\n",
        "fg_bg_mask_images = fg_bg_mask_images.numpy()\n",
        "depth_images = depth_images.numpy()\n",
        "print(fg_bg_images.shape)\n",
        "print(fg_bg_mask_images.shape)\n",
        "print(depth_images.shape)"
      ],
      "execution_count": 0,
      "outputs": []
    },
    {
      "cell_type": "code",
      "metadata": {
        "id": "GaFQ4CJYPNhW",
        "colab_type": "code",
        "colab": {}
      },
      "source": [
        "ls   /content/data_1/Fg-Bg | wc -l\n",
        "!ls  /content/data_1/Fg-Bg-Mask | wc -l\n",
        "!ls  /content/data_1/Depth | wc -l\n",
        "!ls   /content/data_2/Fg-Bg | wc -l\n",
        "!ls   /content/data_2/Fg-Bg-Mask | wc -l\n",
        "!ls   /content/data_2/Depth | wc -l\n",
        "!ls   /content/data_3/Fg-Bg | wc -l\n",
        "!ls   /content/data_3/Fg-Bg-Mask | wc -l\n",
        "!ls   /content/data_3/Depth | wc -l\n",
        "!ls   /content/data_4/Fg-Bg | wc -l\n",
        "!ls   /content/data_4/Fg-Bg-Mask | wc -l\n",
        "!ls   /content/data_4/Depth | wc -l\n",
        "!ls   /content/data_5/Fg-Bg | wc -l\n",
        "!ls   /content/data_5/Fg-Bg-Mask | wc -l\n",
        "!ls   /content/data_5/Depth | wc -l"
      ],
      "execution_count": 0,
      "outputs": []
    },
    {
      "cell_type": "code",
      "metadata": {
        "id": "PXGGcSt-PguY",
        "colab_type": "code",
        "colab": {}
      },
      "source": [
        ""
      ],
      "execution_count": 0,
      "outputs": []
    },
    {
      "cell_type": "code",
      "metadata": {
        "id": "qfWqrkmMKJKh",
        "colab_type": "code",
        "outputId": "ba48accf-788b-420f-86f4-e00ffa6c2ebe",
        "colab": {
          "base_uri": "https://localhost:8080/",
          "height": 200
        }
      },
      "source": [
        "%matplotlib inline\n",
        "import matplotlib.pyplot as plt\n",
        "import matplotlib.image as mpimg\n",
        "folder = '/content/gdrive/My Drive/school_of_ai/school_of_ai/archive/'\n",
        "fig = plt.figure()\n",
        "img1 = mpimg.imread(folder+'Foreground/fg61.png')\n",
        "a = fig.add_subplot(1,5,1)\n",
        "imgplot = plt.imshow(img1)\n",
        "img2 = mpimg.imread(folder+'Foreground/fg62.png')\n",
        "a = fig.add_subplot(1,5,2)\n",
        "imgplot = plt.imshow(img2)\n",
        "img3 = mpimg.imread(folder+'Foreground/fg63.png')\n",
        "a = fig.add_subplot(1,5,3)\n",
        "imgplot = plt.imshow(img3)\n",
        "img4 = mpimg.imread(folder+'Foreground/fg64.png')\n",
        "a = fig.add_subplot(1,5,4)\n",
        "imgplot = plt.imshow(img4)\n",
        "img5 = mpimg.imread(folder+'Foreground/fg65.png')\n",
        "a = fig.add_subplot(1,5,5)\n",
        "imgplot = plt.imshow(img5)\n",
        "img4 = mpimg.imread(folder+'Foreground/fg66.png')\n",
        "a = fig.add_subplot(2,5,1)\n",
        "imgplot = plt.imshow(img4)\n",
        "img5 = mpimg.imread(folder+'Foreground/fg67.png')\n",
        "a = fig.add_subplot(2,5,2)\n",
        "imgplot = plt.imshow(img5)\n",
        "img5 = mpimg.imread(folder+'Foreground/fg68.png')\n",
        "a = fig.add_subplot(2,5,3)\n",
        "imgplot = plt.imshow(img5)\n",
        "img4 = mpimg.imread(folder+'Foreground/fg69.png')\n",
        "a = fig.add_subplot(2,5,4)\n",
        "imgplot = plt.imshow(img4)\n",
        "img5 = mpimg.imread(folder+'Foreground/fg70.png')\n",
        "a = fig.add_subplot(2,5,5)\n",
        "imgplot = plt.imshow(img5)"
      ],
      "execution_count": 0,
      "outputs": [
        {
          "output_type": "display_data",
          "data": {
            "image/png": "[encoded data removed]",
            "text/plain": [
              "<Figure size 432x288 with 10 Axes>"
            ]
          },
          "metadata": {
            "tags": [],
            "needs_background": "light"
          }
        }
      ]
    }
  ]
}