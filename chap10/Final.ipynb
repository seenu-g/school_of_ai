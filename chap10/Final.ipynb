{
  "nbformat": 4,
  "nbformat_minor": 0,
  "metadata": {
    "colab": {
      "name": "Trial.ipynb",
      "provenance": [],
      "authorship_tag": "ABX9TyMQIzUn2t7Q4BqvmbEFfMe1",
      "include_colab_link": true
    },
    "kernelspec": {
      "name": "python3",
      "display_name": "Python 3"
    },
    "accelerator": "GPU",
    "widgets": {
      "application/vnd.jupyter.widget-state+json": {
        "42b0e495d70e416c8ce1f4dfd693fddd": {
          "model_module": "@jupyter-widgets/controls",
          "model_name": "HBoxModel",
          "state": {
            "_view_name": "HBoxView",
            "_dom_classes": [],
            "_model_name": "HBoxModel",
            "_view_module": "@jupyter-widgets/controls",
            "_model_module_version": "1.5.0",
            "_view_count": null,
            "_view_module_version": "1.5.0",
            "box_style": "",
            "layout": "IPY_MODEL_06794814928e4fa982d81dc2fc5b6319",
            "_model_module": "@jupyter-widgets/controls",
            "children": [
              "IPY_MODEL_647b97abd764486098bd2df9f4e8ea1b",
              "IPY_MODEL_a12cc7691d88430593d5f3d7b51ccfe5"
            ]
          }
        },
        "06794814928e4fa982d81dc2fc5b6319": {
          "model_module": "@jupyter-widgets/base",
          "model_name": "LayoutModel",
          "state": {
            "_view_name": "LayoutView",
            "grid_template_rows": null,
            "right": null,
            "justify_content": null,
            "_view_module": "@jupyter-widgets/base",
            "overflow": null,
            "_model_module_version": "1.2.0",
            "_view_count": null,
            "flex_flow": null,
            "width": null,
            "min_width": null,
            "border": null,
            "align_items": null,
            "bottom": null,
            "_model_module": "@jupyter-widgets/base",
            "top": null,
            "grid_column": null,
            "overflow_y": null,
            "overflow_x": null,
            "grid_auto_flow": null,
            "grid_area": null,
            "grid_template_columns": null,
            "flex": null,
            "_model_name": "LayoutModel",
            "justify_items": null,
            "grid_row": null,
            "max_height": null,
            "align_content": null,
            "visibility": null,
            "align_self": null,
            "height": null,
            "min_height": null,
            "padding": null,
            "grid_auto_rows": null,
            "grid_gap": null,
            "max_width": null,
            "order": null,
            "_view_module_version": "1.2.0",
            "grid_template_areas": null,
            "object_position": null,
            "object_fit": null,
            "grid_auto_columns": null,
            "margin": null,
            "display": null,
            "left": null
          }
        },
        "647b97abd764486098bd2df9f4e8ea1b": {
          "model_module": "@jupyter-widgets/controls",
          "model_name": "IntProgressModel",
          "state": {
            "_view_name": "ProgressView",
            "style": "IPY_MODEL_bb64794417fb45d585fcf8f3d138ee44",
            "_dom_classes": [],
            "description": "100%",
            "_model_name": "IntProgressModel",
            "bar_style": "success",
            "max": 600,
            "_view_module": "@jupyter-widgets/controls",
            "_model_module_version": "1.5.0",
            "value": 600,
            "_view_count": null,
            "_view_module_version": "1.5.0",
            "orientation": "horizontal",
            "min": 0,
            "description_tooltip": null,
            "_model_module": "@jupyter-widgets/controls",
            "layout": "IPY_MODEL_efb68aef66394b4ab27dd60b52f85a28"
          }
        },
        "a12cc7691d88430593d5f3d7b51ccfe5": {
          "model_module": "@jupyter-widgets/controls",
          "model_name": "HTMLModel",
          "state": {
            "_view_name": "HTMLView",
            "style": "IPY_MODEL_4467c268b6ab4050832d37024513de30",
            "_dom_classes": [],
            "description": "",
            "_model_name": "HTMLModel",
            "placeholder": "​",
            "_view_module": "@jupyter-widgets/controls",
            "_model_module_version": "1.5.0",
            "value": " 600/600 [2:37:48&lt;00:00, 15.78s/it]",
            "_view_count": null,
            "_view_module_version": "1.5.0",
            "description_tooltip": null,
            "_model_module": "@jupyter-widgets/controls",
            "layout": "IPY_MODEL_9aadb85d79944f1aa04c0055e15e79b6"
          }
        },
        "bb64794417fb45d585fcf8f3d138ee44": {
          "model_module": "@jupyter-widgets/controls",
          "model_name": "ProgressStyleModel",
          "state": {
            "_view_name": "StyleView",
            "_model_name": "ProgressStyleModel",
            "description_width": "initial",
            "_view_module": "@jupyter-widgets/base",
            "_model_module_version": "1.5.0",
            "_view_count": null,
            "_view_module_version": "1.2.0",
            "bar_color": null,
            "_model_module": "@jupyter-widgets/controls"
          }
        },
        "efb68aef66394b4ab27dd60b52f85a28": {
          "model_module": "@jupyter-widgets/base",
          "model_name": "LayoutModel",
          "state": {
            "_view_name": "LayoutView",
            "grid_template_rows": null,
            "right": null,
            "justify_content": null,
            "_view_module": "@jupyter-widgets/base",
            "overflow": null,
            "_model_module_version": "1.2.0",
            "_view_count": null,
            "flex_flow": null,
            "width": null,
            "min_width": null,
            "border": null,
            "align_items": null,
            "bottom": null,
            "_model_module": "@jupyter-widgets/base",
            "top": null,
            "grid_column": null,
            "overflow_y": null,
            "overflow_x": null,
            "grid_auto_flow": null,
            "grid_area": null,
            "grid_template_columns": null,
            "flex": null,
            "_model_name": "LayoutModel",
            "justify_items": null,
            "grid_row": null,
            "max_height": null,
            "align_content": null,
            "visibility": null,
            "align_self": null,
            "height": null,
            "min_height": null,
            "padding": null,
            "grid_auto_rows": null,
            "grid_gap": null,
            "max_width": null,
            "order": null,
            "_view_module_version": "1.2.0",
            "grid_template_areas": null,
            "object_position": null,
            "object_fit": null,
            "grid_auto_columns": null,
            "margin": null,
            "display": null,
            "left": null
          }
        },
        "4467c268b6ab4050832d37024513de30": {
          "model_module": "@jupyter-widgets/controls",
          "model_name": "DescriptionStyleModel",
          "state": {
            "_view_name": "StyleView",
            "_model_name": "DescriptionStyleModel",
            "description_width": "",
            "_view_module": "@jupyter-widgets/base",
            "_model_module_version": "1.5.0",
            "_view_count": null,
            "_view_module_version": "1.2.0",
            "_model_module": "@jupyter-widgets/controls"
          }
        },
        "9aadb85d79944f1aa04c0055e15e79b6": {
          "model_module": "@jupyter-widgets/base",
          "model_name": "LayoutModel",
          "state": {
            "_view_name": "LayoutView",
            "grid_template_rows": null,
            "right": null,
            "justify_content": null,
            "_view_module": "@jupyter-widgets/base",
            "overflow": null,
            "_model_module_version": "1.2.0",
            "_view_count": null,
            "flex_flow": null,
            "width": null,
            "min_width": null,
            "border": null,
            "align_items": null,
            "bottom": null,
            "_model_module": "@jupyter-widgets/base",
            "top": null,
            "grid_column": null,
            "overflow_y": null,
            "overflow_x": null,
            "grid_auto_flow": null,
            "grid_area": null,
            "grid_template_columns": null,
            "flex": null,
            "_model_name": "LayoutModel",
            "justify_items": null,
            "grid_row": null,
            "max_height": null,
            "align_content": null,
            "visibility": null,
            "align_self": null,
            "height": null,
            "min_height": null,
            "padding": null,
            "grid_auto_rows": null,
            "grid_gap": null,
            "max_width": null,
            "order": null,
            "_view_module_version": "1.2.0",
            "grid_template_areas": null,
            "object_position": null,
            "object_fit": null,
            "grid_auto_columns": null,
            "margin": null,
            "display": null,
            "left": null
          }
        }
      }
    }
  },
  "cells": [
    {
      "cell_type": "markdown",
      "metadata": {
        "id": "view-in-github",
        "colab_type": "text"
      },
      "source": [
        "<a href=\"https://colab.research.google.com/github/seenu-g/school_of_ai/blob/master/chap10/Final.ipynb\" target=\"_parent\"><img src=\"https://colab.research.google.com/assets/colab-badge.svg\" alt=\"Open In Colab\"/></a>"
      ]
    },
    {
      "cell_type": "code",
      "metadata": {
        "id": "R7-rOJ3B5ehK",
        "colab_type": "code",
        "outputId": "5fb920ed-efb6-4369-b35c-96de390772aa",
        "colab": {
          "base_uri": "https://localhost:8080/",
          "height": 102
        }
      },
      "source": [
        "!pip install -U git+https://github.com/albu/albumentations > /dev/null && echo \"Albumentation library is successfully installed!\"\n",
        "!pip install -U git+https://github.com/NVIDIA/apex > /dev/null && echo \"Apex library is successfully installed!\""
      ],
      "execution_count": 3,
      "outputs": [
        {
          "output_type": "stream",
          "text": [
            "  Running command git clone -q https://github.com/albu/albumentations /tmp/pip-req-build-bdqf7sdi\n",
            "Albumentation library is successfully installed!\n",
            "  Running command git clone -q https://github.com/NVIDIA/apex /tmp/pip-req-build-zu934lje\n",
            "  Running command git submodule update --init --recursive -q\n",
            "Apex library is successfully installed!\n"
          ],
          "name": "stdout"
        }
      ]
    },
    {
      "cell_type": "code",
      "metadata": {
        "id": "2o4Q1c6n59CZ",
        "colab_type": "code",
        "outputId": "a51635ee-83df-4648-8ec8-0c7c7af856a0",
        "colab": {
          "base_uri": "https://localhost:8080/",
          "height": 122
        }
      },
      "source": [
        "# mount gdrive and unzip data\n",
        "from google.colab import drive\n",
        "import sys\n",
        "%load_ext autoreload\n",
        "%autoreload 2\n",
        "drive.mount('/content/gdrive',force_remount=True)"
      ],
      "execution_count": 4,
      "outputs": [
        {
          "output_type": "stream",
          "text": [
            "Go to this URL in a browser: https://accounts.google.com/o/oauth2/auth?client_id=947318989803-6bn6qk8qdgf4n4g3pfee6491hc0brc4i.apps.googleusercontent.com&redirect_uri=urn%3aietf%3awg%3aoauth%3a2.0%3aoob&response_type=code&scope=email%20https%3a%2f%2fwww.googleapis.com%2fauth%2fdocs.test%20https%3a%2f%2fwww.googleapis.com%2fauth%2fdrive%20https%3a%2f%2fwww.googleapis.com%2fauth%2fdrive.photos.readonly%20https%3a%2f%2fwww.googleapis.com%2fauth%2fpeopleapi.readonly\n",
            "\n",
            "Enter your authorization code:\n",
            "··········\n",
            "Mounted at /content/gdrive\n"
          ],
          "name": "stdout"
        }
      ]
    },
    {
      "cell_type": "code",
      "metadata": {
        "id": "9sJFwoeA6DwV",
        "colab_type": "code",
        "outputId": "9ae6b18c-6b2d-4c29-f766-b7c2e5695bc6",
        "colab": {
          "base_uri": "https://localhost:8080/",
          "height": 374
        }
      },
      "source": [
        "import sys\n",
        "import os\n",
        "folder = '/content/gdrive/My Drive/school_of_ai/chap10/'\n",
        "os.chdir(folder)\n",
        "print(os.getcwd()) \n",
        "for root, dirs, files in os.walk(\".\"):\n",
        "    for filename in files:\n",
        "        print(filename)\n",
        "sys.path.append(folder)"
      ],
      "execution_count": 5,
      "outputs": [
        {
          "output_type": "stream",
          "text": [
            "/content/gdrive/My Drive/school_of_ai/chap10\n",
            "Trial.ipynb\n",
            "gradcam.py\n",
            "load_data.py\n",
            "model.py\n",
            "show_images.py\n",
            "train_test.py\n",
            "__init__.py\n",
            "transforms.py\n",
            "lr_finder.py\n",
            "evaluate.py\n",
            "plot.py\n",
            "cifar-10-python.tar.gz\n",
            "test_batch\n",
            "data_batch_3\n",
            "data_batch_2\n",
            "data_batch_5\n",
            "data_batch_1\n",
            "data_batch_4\n",
            "batches.meta\n",
            "readme.html\n"
          ],
          "name": "stdout"
        }
      ]
    },
    {
      "cell_type": "code",
      "metadata": {
        "id": "L-H3Tuz96RUn",
        "colab_type": "code",
        "colab": {}
      },
      "source": [
        "%matplotlib inline\n",
        "import torch\n",
        "from template import load_data\n",
        "from template import show_images\n",
        "from template import model\n",
        "from template import train_test\n",
        "from template import evaluate\n",
        "from template import transforms\n",
        "from template import gradcam\n",
        "from template import lr_finder\n",
        "from template import plot"
      ],
      "execution_count": 0,
      "outputs": []
    },
    {
      "cell_type": "code",
      "metadata": {
        "id": "2zSCUx_P6VlX",
        "colab_type": "code",
        "colab": {}
      },
      "source": [
        "import albumentations as A\n",
        "train_transform_list = [\n",
        "                          A.Rotate((-30.0, 30.0)),\n",
        "                          A.HorizontalFlip(),\n",
        "                          A.RGBShift(r_shift_limit=50, g_shift_limit=50, b_shift_limit=50, p=0.5),\n",
        "                          A.Normalize(mean=(0.5, 0.5, 0.5), std=(0.5, 0.5, 0.5)),\n",
        "                          A.Cutout(num_holes=1, max_h_size=16,max_w_size = 16,p=1) # fillvalue is 0 after normalizing as mean is 0\n",
        "                       ]\n",
        "test_transform_list = [A.Normalize(mean=(0.5, 0.5, 0.5), std=(0.5, 0.5, 0.5))]\n",
        "train_transform = transforms.AlbumentationTransforms(train_transform_list)\n",
        "test_transform = transforms.AlbumentationTransforms(test_transform_list)"
      ],
      "execution_count": 0,
      "outputs": []
    },
    {
      "cell_type": "code",
      "metadata": {
        "id": "afc5HoHh6YjM",
        "colab_type": "code",
        "outputId": "9c0e4da6-6351-440f-fb34-49a05b2305d2",
        "colab": {
          "base_uri": "https://localhost:8080/",
          "height": 68
        }
      },
      "source": [
        "classes, trainloader, testloader = load_data.load(train_transform,test_transform)"
      ],
      "execution_count": 8,
      "outputs": [
        {
          "output_type": "stream",
          "text": [
            "Files already downloaded and verified\n",
            "Files already downloaded and verified\n",
            "CUDA Available? True\n"
          ],
          "name": "stdout"
        }
      ]
    },
    {
      "cell_type": "markdown",
      "metadata": {
        "id": "2JnNDBfDFNsm",
        "colab_type": "text"
      },
      "source": [
        "**Some Training Data**"
      ]
    },
    {
      "cell_type": "code",
      "metadata": {
        "id": "B32MN8Tt6ba4",
        "colab_type": "code",
        "outputId": "68880af1-1638-4ef9-9d68-7c69704129a7",
        "colab": {
          "base_uri": "https://localhost:8080/",
          "height": 121
        }
      },
      "source": [
        "show_images.show_images(trainloader, classes)"
      ],
      "execution_count": 9,
      "outputs": [
        {
          "output_type": "display_data",
          "data": {
            "image/png": "[encoded data removed]",
            "text/plain": [
              "<Figure size 432x288 with 1 Axes>"
            ]
          },
          "metadata": {
            "tags": []
          }
        }
      ]
    },
    {
      "cell_type": "markdown",
      "metadata": {
        "id": "tziciUBiFkyw",
        "colab_type": "text"
      },
      "source": [
        "**Print Model Summary**"
      ]
    },
    {
      "cell_type": "code",
      "metadata": {
        "id": "tp8bYC4-6emy",
        "colab_type": "code",
        "outputId": "05c0f2b9-2978-4bc5-870a-55df5b9df9cf",
        "colab": {
          "base_uri": "https://localhost:8080/",
          "height": 1000
        }
      },
      "source": [
        "!pip install torchsummary\n",
        "from torchsummary import summary\n",
        "use_cuda = torch.cuda.is_available()\n",
        "device = torch.device(\"cuda\" if use_cuda else \"cpu\")\n",
        "print(device)\n",
        "model = model.ResNet18().to(device)\n",
        "summary(model, input_size=(3, 32, 32))"
      ],
      "execution_count": 10,
      "outputs": [
        {
          "output_type": "stream",
          "text": [
            "Requirement already satisfied: torchsummary in /usr/local/lib/python3.6/dist-packages (1.5.1)\n",
            "cuda\n",
            "----------------------------------------------------------------\n",
            "        Layer (type)               Output Shape         Param #\n",
            "================================================================\n",
            "            Conv2d-1           [-1, 64, 32, 32]           1,728\n",
            "       BatchNorm2d-2           [-1, 64, 32, 32]             128\n",
            "            Conv2d-3           [-1, 64, 32, 32]          36,864\n",
            "       BatchNorm2d-4           [-1, 64, 32, 32]             128\n",
            "            Conv2d-5           [-1, 64, 32, 32]          36,864\n",
            "       BatchNorm2d-6           [-1, 64, 32, 32]             128\n",
            "        BasicBlock-7           [-1, 64, 32, 32]               0\n",
            "            Conv2d-8           [-1, 64, 32, 32]          36,864\n",
            "       BatchNorm2d-9           [-1, 64, 32, 32]             128\n",
            "           Conv2d-10           [-1, 64, 32, 32]          36,864\n",
            "      BatchNorm2d-11           [-1, 64, 32, 32]             128\n",
            "       BasicBlock-12           [-1, 64, 32, 32]               0\n",
            "           Conv2d-13          [-1, 128, 16, 16]          73,728\n",
            "      BatchNorm2d-14          [-1, 128, 16, 16]             256\n",
            "           Conv2d-15          [-1, 128, 16, 16]         147,456\n",
            "      BatchNorm2d-16          [-1, 128, 16, 16]             256\n",
            "           Conv2d-17          [-1, 128, 16, 16]           8,192\n",
            "      BatchNorm2d-18          [-1, 128, 16, 16]             256\n",
            "       BasicBlock-19          [-1, 128, 16, 16]               0\n",
            "           Conv2d-20          [-1, 128, 16, 16]         147,456\n",
            "      BatchNorm2d-21          [-1, 128, 16, 16]             256\n",
            "           Conv2d-22          [-1, 128, 16, 16]         147,456\n",
            "      BatchNorm2d-23          [-1, 128, 16, 16]             256\n",
            "       BasicBlock-24          [-1, 128, 16, 16]               0\n",
            "           Conv2d-25            [-1, 256, 8, 8]         294,912\n",
            "      BatchNorm2d-26            [-1, 256, 8, 8]             512\n",
            "           Conv2d-27            [-1, 256, 8, 8]         589,824\n",
            "      BatchNorm2d-28            [-1, 256, 8, 8]             512\n",
            "           Conv2d-29            [-1, 256, 8, 8]          32,768\n",
            "      BatchNorm2d-30            [-1, 256, 8, 8]             512\n",
            "       BasicBlock-31            [-1, 256, 8, 8]               0\n",
            "           Conv2d-32            [-1, 256, 8, 8]         589,824\n",
            "      BatchNorm2d-33            [-1, 256, 8, 8]             512\n",
            "           Conv2d-34            [-1, 256, 8, 8]         589,824\n",
            "      BatchNorm2d-35            [-1, 256, 8, 8]             512\n",
            "       BasicBlock-36            [-1, 256, 8, 8]               0\n",
            "           Conv2d-37            [-1, 512, 4, 4]       1,179,648\n",
            "      BatchNorm2d-38            [-1, 512, 4, 4]           1,024\n",
            "           Conv2d-39            [-1, 512, 4, 4]       2,359,296\n",
            "      BatchNorm2d-40            [-1, 512, 4, 4]           1,024\n",
            "           Conv2d-41            [-1, 512, 4, 4]         131,072\n",
            "      BatchNorm2d-42            [-1, 512, 4, 4]           1,024\n",
            "       BasicBlock-43            [-1, 512, 4, 4]               0\n",
            "           Conv2d-44            [-1, 512, 4, 4]       2,359,296\n",
            "      BatchNorm2d-45            [-1, 512, 4, 4]           1,024\n",
            "           Conv2d-46            [-1, 512, 4, 4]       2,359,296\n",
            "      BatchNorm2d-47            [-1, 512, 4, 4]           1,024\n",
            "       BasicBlock-48            [-1, 512, 4, 4]               0\n",
            "           Linear-49                   [-1, 10]           5,130\n",
            "================================================================\n",
            "Total params: 11,173,962\n",
            "Trainable params: 11,173,962\n",
            "Non-trainable params: 0\n",
            "----------------------------------------------------------------\n",
            "Input size (MB): 0.01\n",
            "Forward/backward pass size (MB): 11.25\n",
            "Params size (MB): 42.63\n",
            "Estimated Total Size (MB): 53.89\n",
            "----------------------------------------------------------------\n"
          ],
          "name": "stdout"
        }
      ]
    },
    {
      "cell_type": "markdown",
      "metadata": {
        "id": "9CyhI2znbPQO",
        "colab_type": "text"
      },
      "source": [
        "**LR Finder - Finds the best possible LR**\n"
      ]
    },
    {
      "cell_type": "code",
      "metadata": {
        "id": "bLEkea_gO9qp",
        "colab_type": "code",
        "outputId": "25df91b4-f7b6-4971-f076-de5d6f0195e8",
        "colab": {
          "base_uri": "https://localhost:8080/",
          "height": 83,
          "referenced_widgets": [
            "42b0e495d70e416c8ce1f4dfd693fddd",
            "06794814928e4fa982d81dc2fc5b6319",
            "647b97abd764486098bd2df9f4e8ea1b",
            "a12cc7691d88430593d5f3d7b51ccfe5",
            "bb64794417fb45d585fcf8f3d138ee44",
            "efb68aef66394b4ab27dd60b52f85a28",
            "4467c268b6ab4050832d37024513de30",
            "9aadb85d79944f1aa04c0055e15e79b6"
          ]
        }
      },
      "source": [
        "import torch.nn as nn\n",
        "import torch.optim as optim\n",
        "from torch.optim.lr_scheduler import StepLR , MultiStepLR\n",
        "\n",
        "criterion = nn.CrossEntropyLoss()\n",
        "optimiser = optim.SGD(model.parameters(), lr=0.00001,momentum=0.9 ,weight_decay = 0.0001)\n",
        "#scheduler = StepLR(optimizer, step_size=12, gamma=0.1)\n",
        "lrfinder = lr_finder.LRFinder(model, optimiser, criterion, device=\"cuda\")\n",
        "lrfinder.range_test(trainloader, val_loader=testloader, end_lr=1, num_iter=600 ,step_mode=\"exp\")"
      ],
      "execution_count": 12,
      "outputs": [
        {
          "output_type": "display_data",
          "data": {
            "application/vnd.jupyter.widget-view+json": {
              "model_id": "42b0e495d70e416c8ce1f4dfd693fddd",
              "version_minor": 0,
              "version_major": 2
            },
            "text/plain": [
              "HBox(children=(IntProgress(value=0, max=600), HTML(value='')))"
            ]
          },
          "metadata": {
            "tags": []
          }
        },
        {
          "output_type": "stream",
          "text": [
            "\n",
            "Learning rate search finished. See the graph with {finder_name}.plot()\n"
          ],
          "name": "stdout"
        }
      ]
    },
    {
      "cell_type": "code",
      "metadata": {
        "id": "PmNTt9w6PCkr",
        "colab_type": "code",
        "outputId": "b95f02ed-9cc9-44b6-a970-0f29b6fe22a9",
        "colab": {
          "base_uri": "https://localhost:8080/",
          "height": 300
        }
      },
      "source": [
        "lrfinder.plot()"
      ],
      "execution_count": 13,
      "outputs": [
        {
          "output_type": "display_data",
          "data": {
            "image/png": "[encoded data removed]",
            "text/plain": [
              "<Figure size 432x288 with 1 Axes>"
            ]
          },
          "metadata": {
            "tags": []
          }
        },
        {
          "output_type": "execute_result",
          "data": {
            "text/plain": [
              "<matplotlib.axes._subplots.AxesSubplot at 0x7feefde1cf28>"
            ]
          },
          "metadata": {
            "tags": []
          },
          "execution_count": 13
        }
      ]
    },
    {
      "cell_type": "code",
      "metadata": {
        "id": "Br_WX-XxPJ1t",
        "colab_type": "code",
        "colab": {}
      },
      "source": [
        "best_lr = lrfinder.history['lr'][lrfinder.history['loss'].index(lrfinder.best_loss)]"
      ],
      "execution_count": 0,
      "outputs": []
    },
    {
      "cell_type": "code",
      "metadata": {
        "id": "XeWd7A67PGtR",
        "colab_type": "code",
        "colab": {}
      },
      "source": [
        "lrfinder.reset()"
      ],
      "execution_count": 0,
      "outputs": []
    },
    {
      "cell_type": "code",
      "metadata": {
        "id": "pKLa3Iz7Mxk3",
        "colab_type": "code",
        "colab": {
          "base_uri": "https://localhost:8080/",
          "height": 34
        },
        "outputId": "6f639cb3-cd1c-448a-f3d5-6ddc6249a066"
      },
      "source": [
        "print(best_lr)"
      ],
      "execution_count": 16,
      "outputs": [
        {
          "output_type": "stream",
          "text": [
            "0.004466835921509632\n"
          ],
          "name": "stdout"
        }
      ]
    },
    {
      "cell_type": "code",
      "metadata": {
        "id": "_-PIV9sn6i9I",
        "colab_type": "code",
        "colab": {}
      },
      "source": [
        "import torch.nn as nn\n",
        "import torch.optim as optim\n",
        "from torch.optim.lr_scheduler import StepLR , MultiStepLR, ReduceLROnPlateau\n",
        "criterion = nn.CrossEntropyLoss()\n",
        "optimizer = optim.SGD(model.parameters(), lr=best_lr,momentum=0.9 ,weight_decay = 0.0001)\n",
        "scheduler = ReduceLROnPlateau(optimizer, patience = 3,min_lr=1e-4)"
      ],
      "execution_count": 0,
      "outputs": []
    },
    {
      "cell_type": "code",
      "metadata": {
        "id": "_BX1klaq6k0Q",
        "colab_type": "code",
        "colab": {}
      },
      "source": [
        "testLoss = []\n",
        "testAcc = []\n",
        "EPOCHS = 50\n",
        "best_acc = 0\n",
        "for epoch in range(EPOCHS):\n",
        "     print(\"EPOCH:\", epoch+1,'LR:',optimizer.param_groups[0]['lr'])\n",
        "     train_loss, train_acc = train_test.train(model, device, trainloader, optimizer, criterion, epoch)\n",
        "     test_loss , test_acc = train_test.test(model, device, criterion, testloader)\n",
        "     scheduler.step(test_loss[-1])\n",
        "     if(test_acc[-1]>best_acc):\n",
        "       print(\"accuracy increased, Saving model....\")\n",
        "       best_acc = test_acc[-1]\n",
        "       torch.save({\n",
        "            'epoch': epoch,\n",
        "            'model_state_dict': model.state_dict(),\n",
        "            'optimizer_state_dict': optimizer.state_dict(),\n",
        "            'loss': test_loss[-1],\n",
        "            }, \"/content/gdrive/My Drive/school_of_ai/chap10/bestmodel.pt\")"
      ],
      "execution_count": 0,
      "outputs": []
    },
    {
      "cell_type": "markdown",
      "metadata": {
        "id": "ZbKgXXGJ7qDW",
        "colab_type": "text"
      },
      "source": [
        "**Load the Best Accuracy Model**\n"
      ]
    },
    {
      "cell_type": "code",
      "metadata": {
        "id": "-hu6LCfg7oVt",
        "colab_type": "code",
        "colab": {
          "base_uri": "https://localhost:8080/",
          "height": 34
        },
        "outputId": "4c121076-2653-418e-ae75-68d37470e656"
      },
      "source": [
        "optimizer = optim.SGD(model.parameters(), lr=best_lr,momentum=0.9 ,weight_decay = 0.0005)\n",
        "checkpoint = torch.load(\"/content/gdrive/My Drive/school_of_ai/chap10/bestmodel.pt\")\n",
        "model.load_state_dict(checkpoint['model_state_dict'])\n",
        "optimizer.load_state_dict(checkpoint['optimizer_state_dict'])\n",
        "epoch = checkpoint['epoch']\n",
        "loss = checkpoint['loss']\n",
        "\n",
        "model.eval()\n",
        "print(\"Loaded the best model\")"
      ],
      "execution_count": 30,
      "outputs": [
        {
          "output_type": "stream",
          "text": [
            "Loaded the best model\n"
          ],
          "name": "stdout"
        }
      ]
    },
    {
      "cell_type": "code",
      "metadata": {
        "id": "mLE_tf2ILjbn",
        "colab_type": "code",
        "colab": {
          "base_uri": "https://localhost:8080/",
          "height": 34
        },
        "outputId": "309f62f4-c892-4e4c-8657-6f5b49161b14"
      },
      "source": [
        "evaluate.evaluate_accuracy(model, device, testloader)"
      ],
      "execution_count": 31,
      "outputs": [
        {
          "output_type": "stream",
          "text": [
            "Accuracy of the network on the 10000 test images: 91 %\n"
          ],
          "name": "stdout"
        }
      ]
    },
    {
      "cell_type": "code",
      "metadata": {
        "id": "OLvZO2W3Lozj",
        "colab_type": "code",
        "colab": {
          "base_uri": "https://localhost:8080/",
          "height": 187
        },
        "outputId": "484c7ba6-8cd8-4022-b7c5-506f3e2db0bd"
      },
      "source": [
        "evaluate.evaluate_classwise_accuracy(model, device, classes, testloader)"
      ],
      "execution_count": 32,
      "outputs": [
        {
          "output_type": "stream",
          "text": [
            "Accuracy of plane : 90 %\n",
            "Accuracy of   car : 93 %\n",
            "Accuracy of  bird : 83 %\n",
            "Accuracy of   cat : 72 %\n",
            "Accuracy of  deer : 94 %\n",
            "Accuracy of   dog : 91 %\n",
            "Accuracy of  frog : 100 %\n",
            "Accuracy of horse : 89 %\n",
            "Accuracy of  ship : 91 %\n",
            "Accuracy of truck : 94 %\n"
          ],
          "name": "stdout"
        }
      ]
    },
    {
      "cell_type": "markdown",
      "metadata": {
        "id": "99UC7EWy94RH",
        "colab_type": "text"
      },
      "source": [
        "**Plot Loss Change in test**\n"
      ]
    },
    {
      "cell_type": "code",
      "metadata": {
        "id": "K0FyxLbYNWMA",
        "colab_type": "code",
        "colab": {
          "base_uri": "https://localhost:8080/",
          "height": 624
        },
        "outputId": "d8ae8731-ee1f-4a1c-a276-073088bf1e43"
      },
      "source": [
        "import matplotlib.pyplot as plt\n",
        "\n",
        "fig, axs = plt.subplots(1,2, figsize=(20,10))\n",
        "\n",
        "axs[0].plot(test_loss)\n",
        "axs[0].set_title(\"Test Loss\")\n",
        "\n",
        "axs[1].plot(test_acc)\n",
        "axs[1].set_title(\"Test Accuracy\")"
      ],
      "execution_count": 33,
      "outputs": [
        {
          "output_type": "execute_result",
          "data": {
            "text/plain": [
              "Text(0.5, 1.0, 'Test Accuracy')"
            ]
          },
          "metadata": {
            "tags": []
          },
          "execution_count": 33
        },
        {
          "output_type": "display_data",
          "data": {
            "image/png": "[encoded data removed]",
            "text/plain": [
              "<Figure size 1440x720 with 2 Axes>"
            ]
          },
          "metadata": {
            "tags": []
          }
        }
      ]
    },
    {
      "cell_type": "markdown",
      "metadata": {
        "id": "i1y6AUAU906G",
        "colab_type": "text"
      },
      "source": [
        "**Plot Loss Change in train**\n"
      ]
    },
    {
      "cell_type": "code",
      "metadata": {
        "id": "OQQQH3L89qyH",
        "colab_type": "code",
        "colab": {
          "base_uri": "https://localhost:8080/",
          "height": 811
        },
        "outputId": "827f8ac3-0a0b-4277-db0f-a29dcb2c1140"
      },
      "source": [
        "import matplotlib.pyplot as plt\n",
        "\n",
        "fig, axs = plt.subplots(1,2, figsize=(20,10))\n",
        "\n",
        "axs[0].plot(train_loss)\n",
        "axs[0].set_title(\"Train Loss\")\n",
        "\n",
        "axs[1].plot(train_acc)\n",
        "axs[1].set_title(\"Train Accuracy\")"
      ],
      "execution_count": 34,
      "outputs": [
        {
          "output_type": "error",
          "ename": "NameError",
          "evalue": "ignored",
          "traceback": [
            "\u001b[0;31m---------------------------------------------------------------------------\u001b[0m",
            "\u001b[0;31mNameError\u001b[0m                                 Traceback (most recent call last)",
            "\u001b[0;32m<ipython-input-34-a819f243fba7>\u001b[0m in \u001b[0;36m<module>\u001b[0;34m()\u001b[0m\n\u001b[1;32m      3\u001b[0m \u001b[0mfig\u001b[0m\u001b[0;34m,\u001b[0m \u001b[0maxs\u001b[0m \u001b[0;34m=\u001b[0m \u001b[0mplt\u001b[0m\u001b[0;34m.\u001b[0m\u001b[0msubplots\u001b[0m\u001b[0;34m(\u001b[0m\u001b[0;36m1\u001b[0m\u001b[0;34m,\u001b[0m\u001b[0;36m2\u001b[0m\u001b[0;34m,\u001b[0m \u001b[0mfigsize\u001b[0m\u001b[0;34m=\u001b[0m\u001b[0;34m(\u001b[0m\u001b[0;36m20\u001b[0m\u001b[0;34m,\u001b[0m\u001b[0;36m10\u001b[0m\u001b[0;34m)\u001b[0m\u001b[0;34m)\u001b[0m\u001b[0;34m\u001b[0m\u001b[0;34m\u001b[0m\u001b[0m\n\u001b[1;32m      4\u001b[0m \u001b[0;34m\u001b[0m\u001b[0m\n\u001b[0;32m----> 5\u001b[0;31m \u001b[0maxs\u001b[0m\u001b[0;34m[\u001b[0m\u001b[0;36m0\u001b[0m\u001b[0;34m]\u001b[0m\u001b[0;34m.\u001b[0m\u001b[0mplot\u001b[0m\u001b[0;34m(\u001b[0m\u001b[0mtrain_loss\u001b[0m\u001b[0;34m)\u001b[0m\u001b[0;34m\u001b[0m\u001b[0;34m\u001b[0m\u001b[0m\n\u001b[0m\u001b[1;32m      6\u001b[0m \u001b[0maxs\u001b[0m\u001b[0;34m[\u001b[0m\u001b[0;36m0\u001b[0m\u001b[0;34m]\u001b[0m\u001b[0;34m.\u001b[0m\u001b[0mset_title\u001b[0m\u001b[0;34m(\u001b[0m\u001b[0;34m\"Train Loss\"\u001b[0m\u001b[0;34m)\u001b[0m\u001b[0;34m\u001b[0m\u001b[0;34m\u001b[0m\u001b[0m\n\u001b[1;32m      7\u001b[0m \u001b[0;34m\u001b[0m\u001b[0m\n",
            "\u001b[0;31mNameError\u001b[0m: name 'train_loss' is not defined"
          ]
        },
        {
          "output_type": "display_data",
          "data": {
            "image/png": "[encoded data removed]",
            "text/plain": [
              "<Figure size 1440x720 with 2 Axes>"
            ]
          },
          "metadata": {
            "tags": []
          }
        }
      ]
    },
    {
      "cell_type": "code",
      "metadata": {
        "id": "3tblRp9TLqSA",
        "colab_type": "code",
        "colab": {}
      },
      "source": [
        "import shutil\n",
        "def save_checkpoint(state, is_best, filename='checkpoint.pth.tar'):\n",
        "    torch.save(state, filename)\n",
        "    if is_best:\n",
        "        shutil.copyfile(filename, 'model_best.pth.tar')"
      ],
      "execution_count": 0,
      "outputs": []
    },
    {
      "cell_type": "code",
      "metadata": {
        "id": "BdZo4xyA6te6",
        "colab_type": "code",
        "colab": {}
      },
      "source": [
        "misclassified_images = evaluate.show_misclassified_images(model, device, testloader, classes)"
      ],
      "execution_count": 0,
      "outputs": []
    },
    {
      "cell_type": "markdown",
      "metadata": {
        "id": "nRkFdVOCBTDB",
        "colab_type": "text"
      },
      "source": [
        "**GradCam View of misclassified images(for all 4 layers)**\n"
      ]
    },
    {
      "cell_type": "code",
      "metadata": {
        "id": "QCDy3GEfRprQ",
        "colab_type": "code",
        "colab": {}
      },
      "source": [
        "import numpy as np\n",
        "import matplotlib.pyplot as plt\n",
        "import copy\n",
        "from torchvision.utils import make_grid, save_image\n",
        "fig = plt.figure(figsize=(23,30))\n",
        "for i,k in enumerate(misclassified_images):\n",
        "  images1 = [misclassified_images[i][0].cpu()/2+0.5]\n",
        "  images2 =  [misclassified_images[i][0].cpu()/2+0.5]\n",
        "  b = model.to(device)\n",
        "  # output = model(misclassified_images[i][0])\n",
        "  # _, predicted = torch.max(output.data, 1)\n",
        "  #print(classes[int(predicted)])\n",
        "  layers =  [model.layer1,model.layer2,model.layer3,model.layer4]\n",
        "  for j in layers:\n",
        "    g = gradcam.GradCAM(b,j)\n",
        "    mask, _= g(misclassified_images[i][0].clone().unsqueeze_(0))\n",
        "    heatmap, result = gradcam.visualize_cam(mask,misclassified_images[i][0].clone().unsqueeze_(0)/2+0.5 )\n",
        "    images1.extend([heatmap])\n",
        "    images2.extend([result])\n",
        "  grid_image = make_grid(images1+images2,nrow=5,pad_value=1)\n",
        "  npimg = grid_image.numpy()\n",
        "  sub = fig.add_subplot(9, 3, i+1) \n",
        " \n",
        "  # fig.subplots_adjust(wspace=0)\n",
        "  plt.imshow(np.transpose(npimg, (1, 2, 0)))\n",
        "  sub.set_title('P = '+classes[int(misclassified_images[i][1])]+\" A = \"+classes[int(misclassified_images[i][2])],fontweight=\"bold\",fontsize=18)\n",
        "  sub.axis(\"off\")\n",
        "plt.tight_layout()\n",
        "fig.subplots_adjust(wspace=0)"
      ],
      "execution_count": 0,
      "outputs": []
    }
  ]
}