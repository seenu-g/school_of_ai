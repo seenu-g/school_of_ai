{
  "nbformat": 4,
  "nbformat_minor": 0,
  "metadata": {
    "colab": {
      "name": "EVA4 - Session 2.ipynb",
      "provenance": [],
      "toc_visible": true,
      "include_colab_link": true
    },
    "kernelspec": {
      "name": "python3",
      "display_name": "Python 3"
    },
    "accelerator": "GPU"
  },
  "cells": [
    {
      "cell_type": "markdown",
      "metadata": {
        "id": "view-in-github",
        "colab_type": "text"
      },
      "source": [
        "<a href=\"https://colab.research.google.com/github/seenu-g/school_of_ai/blob/master/c2/EVA4_Session_2.ipynb\" target=\"_parent\"><img src=\"https://colab.research.google.com/assets/colab-badge.svg\" alt=\"Open In Colab\"/></a>"
      ]
    },
    {
      "cell_type": "code",
      "metadata": {
        "id": "0m2JWFliFfKT",
        "colab_type": "code",
        "colab": {}
      },
      "source": [
        "from __future__ import print_function\n",
        "import torch\n",
        "import torch.nn as nn #Base class for all neural network modules.\n",
        "import torch.nn.functional as F\n",
        "import torch.optim as optim\n",
        "from torchvision import datasets, transforms"
      ],
      "execution_count": 0,
      "outputs": []
    },
    {
      "cell_type": "code",
      "metadata": {
        "id": "h_Cx9q2QFgM7",
        "colab_type": "code",
        "colab": {}
      },
      "source": [
        "class Net(nn.Module): \n",
        "    def __init__(self):\n",
        "        super(Net, self).__init__()\n",
        "        \n",
        "        #Applies a 2D convolution over an input signal composed of several input planes.  https://pytorch.org/docs/stable/nn.html#conv2d\n",
        "        # torch.nn.Conv2d(in_channels, out_channels, kernel_size, stride=1, padding=0, dilation=1, groups=1, bias=True, padding_mode='zeros')\n",
        "            # in_channels (python:int) – Number of channels in the input image\n",
        "            # out_channels (python:int) – Number of channels produced by the convolution\n",
        "            # kernel_size (python:int or tuple) – Size of the convolving kernel\n",
        "        self.conv1 = nn.Conv2d(1, 32, 3, padding=1) #input -? OUtput? RF\n",
        "        self.conv2 = nn.Conv2d(32, 64, 3, padding=1)\n",
        "        \n",
        "        #Applies a 2D max pooling over an input signal composed of several input planes.\n",
        "        #torch.nn.MaxPool2d(kernel_size, stride=None, padding=0, dilation=1, return_indices=False, ceil_mode=False)\n",
        "            #kernel_size – the size of the window to take a max over\n",
        "            #stride – the stride of the window. Default value is kernel_size\n",
        "            #padding – implicit zero padding to be added on both sides\n",
        "            #dilation – a parameter that controls the stride of elements in the window\n",
        "        self.pool1 = nn.MaxPool2d(2, 2)\n",
        "\n",
        "        self.conv3 = nn.Conv2d(64, 128, 3, padding=1)\n",
        "        self.conv4 = nn.Conv2d(128, 256, 3, padding=1)\n",
        "        self.pool2 = nn.MaxPool2d(2, 2)\n",
        "        self.conv5 = nn.Conv2d(256, 512, 3)\n",
        "        self.conv6 = nn.Conv2d(512, 1024, 3)\n",
        "        self.conv7 = nn.Conv2d(1024, 10, 3)\n",
        "\n",
        "    def forward(self, x):\n",
        "        #Applies the rectified linear unit function element-wise:\n",
        "        #ReLU(x)=max(0,x) #Input: (N, *)(N,∗) #Output: (N, *)(N,∗) \n",
        "        #torch.nn.ReLU(inplace=False) #inplace – can optionally do the operation in-place. \n",
        "        x = self.pool1(F.relu(self.conv2(F.relu(self.conv1(x)))))\n",
        "        x = self.pool2(F.relu(self.conv4(F.relu(self.conv3(x)))))\n",
        "        x = F.relu(self.conv6(F.relu(self.conv5(x))))\n",
        "        x = F.relu(self.conv7(x))\n",
        "        \n",
        "        # Returns a new tensor with the same data as the self tensor but of a different shape.\n",
        "        x = x.view(-1, 10) #shape (torch.Size or python:int...) – the desired size\n",
        "\n",
        "        #Applies a softmax followed by a logarithm. #equivalent to log(softmax(x))\n",
        "        # This function uses an alternative formulation to compute the output and gradient correctly\n",
        "        return F.log_softmax(x)"
      ],
      "execution_count": 0,
      "outputs": []
    },
    {
      "cell_type": "code",
      "metadata": {
        "colab_type": "code",
        "id": "xdydjYTZFyi3",
        "colab": {
          "base_uri": "https://localhost:8080/",
          "height": 445
        },
        "outputId": "db9cc352-ae0d-4a90-ffe6-29f4884c9200"
      },
      "source": [
        "!pip install torchsummary\n",
        "from torchsummary import summary\n",
        "use_cuda = torch.cuda.is_available()  #Returns a bool indicating if CUDA is currently available.\n",
        "device = torch.device(\"cuda\" if use_cuda else \"cpu\") #Context-manager that changes the selected device.\n",
        "model = Net().to(device) # recursively go over all modules and convert their parameters and buffers to CUDA tensors:\n",
        "#summary(your_model, input_size=(channels, H, W))\n",
        "# view the visualization of the model which is very helpful while debugging your network.\n",
        "summary(model, input_size=(1, 28, 28)) #model: pytorch model object"
      ],
      "execution_count": 20,
      "outputs": [
        {
          "output_type": "stream",
          "text": [
            "Requirement already satisfied: torchsummary in /usr/local/lib/python3.6/dist-packages (1.5.1)\n",
            "----------------------------------------------------------------\n",
            "        Layer (type)               Output Shape         Param #\n",
            "================================================================\n",
            "            Conv2d-1           [-1, 32, 28, 28]             320\n",
            "            Conv2d-2           [-1, 64, 28, 28]          18,496\n",
            "         MaxPool2d-3           [-1, 64, 14, 14]               0\n",
            "            Conv2d-4          [-1, 128, 14, 14]          73,856\n",
            "            Conv2d-5          [-1, 256, 14, 14]         295,168\n",
            "         MaxPool2d-6            [-1, 256, 7, 7]               0\n",
            "            Conv2d-7            [-1, 512, 5, 5]       1,180,160\n",
            "            Conv2d-8           [-1, 1024, 3, 3]       4,719,616\n",
            "            Conv2d-9             [-1, 10, 1, 1]          92,170\n",
            "================================================================\n",
            "Total params: 6,379,786\n",
            "Trainable params: 6,379,786\n",
            "Non-trainable params: 0\n",
            "----------------------------------------------------------------\n",
            "Input size (MB): 0.00\n",
            "Forward/backward pass size (MB): 1.51\n",
            "Params size (MB): 24.34\n",
            "Estimated Total Size (MB): 25.85\n",
            "----------------------------------------------------------------\n"
          ],
          "name": "stdout"
        },
        {
          "output_type": "stream",
          "text": [
            "/usr/local/lib/python3.6/dist-packages/ipykernel_launcher.py:42: UserWarning: Implicit dimension choice for log_softmax has been deprecated. Change the call to include dim=X as an argument.\n"
          ],
          "name": "stderr"
        }
      ]
    },
    {
      "cell_type": "code",
      "metadata": {
        "id": "DqTWLaM5GHgH",
        "colab_type": "code",
        "colab": {}
      },
      "source": [
        "\n",
        "\n",
        "torch.manual_seed(1) #seed the RNG for all devices (both CPU and CUDA)\n",
        "batch_size = 128\n",
        "kwargs = {'num_workers': 1, 'pin_memory': True} if use_cuda else {}\n",
        "#Dataloader Combines a dataset and a sampler, and provides an iterable over the given dataset.\n",
        "#supports both map-style and iterable-style datasets with single- or multi-process loading, customizing loading order and optional automatic batching (collation) and memory pinning.\n",
        "train_loader = torch.utils.data.DataLoader(   #dataset from which to load the data.\n",
        "    datasets.MNIST('../data',                 # If true, downloads the dataset and puts it in root directory. If downloaded, it is not downloaded again.           \n",
        "                   train=True, download=True, # If True, creates dataset from ``training.pt``, otherwise from ``test.pt``\n",
        "                   transform=transforms.Compose( # A function/transform that  takes in an PIL image and returns a transformed version\n",
        "                    [transforms.ToTensor(),\n",
        "                     transforms.Normalize((0.1307,), (0.3081,))]\n",
        "                   )),\n",
        "    batch_size=batch_size, shuffle=True, **kwargs) #batch_size (python:int, optional) – how many samples per batch to load (default: 1).\n",
        "\n",
        "test_loader = torch.utils.data.DataLoader(   #dataset from which to load the data.\n",
        "    datasets.MNIST('../data', \n",
        "                   train=False, \n",
        "                   transform=transforms.Compose(\n",
        "                   [transforms.ToTensor(),                       #Convert a PIL Image or numpy.ndarray to tensor.\n",
        "                    transforms.Normalize((0.1307,), (0.3081,))]   # Normalize a tensor image with mean and standard deviation. \n",
        "                        # Given mean: (M1,...,Mn) and std: (S1,..,Sn) for n channels, this transform will normalize each channel of the input \n",
        "                  )),\n",
        "    batch_size=batch_size, shuffle=True, **kwargs) #shuffle (bool, optional) – set to True to have the data reshuffled at every epoch (default: False).\n"
      ],
      "execution_count": 0,
      "outputs": []
    },
    {
      "cell_type": "code",
      "metadata": {
        "id": "8fDefDhaFlwH",
        "colab_type": "code",
        "colab": {}
      },
      "source": [
        "from tqdm import tqdm  # Instantly make your loops show a smart progress meter - just wrap any iterable with tqdm(iterable)\n",
        "def train(model, device, train_loader, optimizer, epoch):\n",
        "    model.train() #By default all the modules are initialized to train mode (self.training = True).\n",
        "                  #model.train() tells your model that you are training the model. model knows it has to learn the layers\n",
        "    pbar = tqdm(train_loader)\n",
        "    for batch_idx, (data, target) in enumerate(pbar):\n",
        "        data, target = data.to(device), target.to(device)\n",
        "        optimizer.zero_grad() # zero_grad clears old gradients from the last step (otherwise you’d just accumulate the gradients from all loss.backward() calls)\n",
        "        output = model(data)\n",
        "        loss = F.nll_loss(output, target) #The negative log likelihood loss. nll_loss(input, target, weight=None, size_average=None, ignore_index=-100, reduce=None, reduction='mean')\n",
        "        loss.backward() # computes the derivative of the loss w.r.t. the parameters (or anything requiring gradients) using backpropagation.\n",
        "        optimizer.step() # causes the optimizer to take a step based on the gradients of the parameters\n",
        "        pbar.set_description(desc= f'loss={loss.item()} batch_id={batch_idx}')\n",
        "\n",
        "\n",
        "def test(model, device, test_loader):\n",
        "    model.eval() # when we use model.eval() it indicates the model that nothing new is to be learnt and the model is used for testing.\n",
        "    test_loss = 0\n",
        "    correct = 0\n",
        "    with torch.no_grad():\n",
        "        for data, target in test_loader:\n",
        "            data, target = data.to(device), target.to(device)\n",
        "            output = model(data)\n",
        "            test_loss += F.nll_loss(output, target, reduction='sum').item()  # sum up batch loss\n",
        "            pred = output.argmax(dim=1, keepdim=True)  # get the index of the max log-probability\n",
        "            correct += pred.eq(target.view_as(pred)).sum().item()\n",
        "\n",
        "    test_loss /= len(test_loader.dataset)\n",
        "\n",
        "    print('\\nTest set: Average loss: {:.4f}, Accuracy: {}/{} ({:.0f}%)\\n'.format(\n",
        "        test_loss, correct, len(test_loader.dataset),\n",
        "        100. * correct / len(test_loader.dataset)))"
      ],
      "execution_count": 0,
      "outputs": []
    },
    {
      "cell_type": "code",
      "metadata": {
        "id": "MMWbLWO6FuHb",
        "colab_type": "code",
        "colab": {}
      },
      "source": [
        "\n",
        "model = Net().to(device)\n",
        "# optim is a a package implementing various optimization algorithms.\n",
        "optimizer = optim.SGD(model.parameters(), lr=0.01, momentum=0.9) #Implements stochastic gradient descent\n",
        "\n",
        "for epoch in range(1, 2):\n",
        "    train(model, device, train_loader, optimizer, epoch)\n",
        "    test(model, device, test_loader)"
      ],
      "execution_count": 0,
      "outputs": []
    },
    {
      "cell_type": "code",
      "metadata": {
        "id": "So5uk4EkHW6R",
        "colab_type": "code",
        "colab": {}
      },
      "source": [
        ""
      ],
      "execution_count": 0,
      "outputs": []
    }
  ]
}