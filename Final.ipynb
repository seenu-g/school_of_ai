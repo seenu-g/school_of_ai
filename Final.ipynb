{
  "nbformat": 4,
  "nbformat_minor": 0,
  "metadata": {
    "kernelspec": {
      "name": "python3",
      "display_name": "Python 3"
    },
    "language_info": {
      "codemirror_mode": {
        "name": "ipython",
        "version": 3
      },
      "file_extension": ".py",
      "mimetype": "text/x-python",
      "name": "python",
      "nbconvert_exporter": "python",
      "pygments_lexer": "ipython3",
      "version": "3.6.6"
    },
    "colab": {
      "name": "Final.ipynb",
      "provenance": [],
      "include_colab_link": true
    },
    "accelerator": "GPU",
    "widgets": {
      "application/vnd.jupyter.widget-state+json": {
        "7e845032af134d78b1acd02587b4ac4b": {
          "model_module": "@jupyter-widgets/controls",
          "model_name": "HBoxModel",
          "state": {
            "_view_name": "HBoxView",
            "_dom_classes": [],
            "_model_name": "HBoxModel",
            "_view_module": "@jupyter-widgets/controls",
            "_model_module_version": "1.5.0",
            "_view_count": null,
            "_view_module_version": "1.5.0",
            "box_style": "",
            "layout": "IPY_MODEL_642d438002e248679e20b685629b53bd",
            "_model_module": "@jupyter-widgets/controls",
            "children": [
              "IPY_MODEL_a68e05e30c4f4795bd5aa3804357d1e1",
              "IPY_MODEL_7f3d3347dd1745958d555dc3e0e22381"
            ]
          }
        },
        "642d438002e248679e20b685629b53bd": {
          "model_module": "@jupyter-widgets/base",
          "model_name": "LayoutModel",
          "state": {
            "_view_name": "LayoutView",
            "grid_template_rows": null,
            "right": null,
            "justify_content": null,
            "_view_module": "@jupyter-widgets/base",
            "overflow": null,
            "_model_module_version": "1.2.0",
            "_view_count": null,
            "flex_flow": null,
            "width": null,
            "min_width": null,
            "border": null,
            "align_items": null,
            "bottom": null,
            "_model_module": "@jupyter-widgets/base",
            "top": null,
            "grid_column": null,
            "overflow_y": null,
            "overflow_x": null,
            "grid_auto_flow": null,
            "grid_area": null,
            "grid_template_columns": null,
            "flex": null,
            "_model_name": "LayoutModel",
            "justify_items": null,
            "grid_row": null,
            "max_height": null,
            "align_content": null,
            "visibility": null,
            "align_self": null,
            "height": null,
            "min_height": null,
            "padding": null,
            "grid_auto_rows": null,
            "grid_gap": null,
            "max_width": null,
            "order": null,
            "_view_module_version": "1.2.0",
            "grid_template_areas": null,
            "object_position": null,
            "object_fit": null,
            "grid_auto_columns": null,
            "margin": null,
            "display": null,
            "left": null
          }
        },
        "a68e05e30c4f4795bd5aa3804357d1e1": {
          "model_module": "@jupyter-widgets/controls",
          "model_name": "IntProgressModel",
          "state": {
            "_view_name": "ProgressView",
            "style": "IPY_MODEL_5812e3e0635f4125812e069c392d4f91",
            "_dom_classes": [],
            "description": "",
            "_model_name": "IntProgressModel",
            "bar_style": "success",
            "max": 1,
            "_view_module": "@jupyter-widgets/controls",
            "_model_module_version": "1.5.0",
            "value": 1,
            "_view_count": null,
            "_view_module_version": "1.5.0",
            "orientation": "horizontal",
            "min": 0,
            "description_tooltip": null,
            "_model_module": "@jupyter-widgets/controls",
            "layout": "IPY_MODEL_5a210be52d7b458497bb25678d6ca4a8"
          }
        },
        "7f3d3347dd1745958d555dc3e0e22381": {
          "model_module": "@jupyter-widgets/controls",
          "model_name": "HTMLModel",
          "state": {
            "_view_name": "HTMLView",
            "style": "IPY_MODEL_a607b44d054c48368952e033bc0c83ee",
            "_dom_classes": [],
            "description": "",
            "_model_name": "HTMLModel",
            "placeholder": "​",
            "_view_module": "@jupyter-widgets/controls",
            "_model_module_version": "1.5.0",
            "value": "170500096it [00:06, 26802931.68it/s]",
            "_view_count": null,
            "_view_module_version": "1.5.0",
            "description_tooltip": null,
            "_model_module": "@jupyter-widgets/controls",
            "layout": "IPY_MODEL_84c92d3dca7d4dd1b0965cc5d7cb81e4"
          }
        },
        "5812e3e0635f4125812e069c392d4f91": {
          "model_module": "@jupyter-widgets/controls",
          "model_name": "ProgressStyleModel",
          "state": {
            "_view_name": "StyleView",
            "_model_name": "ProgressStyleModel",
            "description_width": "",
            "_view_module": "@jupyter-widgets/base",
            "_model_module_version": "1.5.0",
            "_view_count": null,
            "_view_module_version": "1.2.0",
            "bar_color": null,
            "_model_module": "@jupyter-widgets/controls"
          }
        },
        "5a210be52d7b458497bb25678d6ca4a8": {
          "model_module": "@jupyter-widgets/base",
          "model_name": "LayoutModel",
          "state": {
            "_view_name": "LayoutView",
            "grid_template_rows": null,
            "right": null,
            "justify_content": null,
            "_view_module": "@jupyter-widgets/base",
            "overflow": null,
            "_model_module_version": "1.2.0",
            "_view_count": null,
            "flex_flow": null,
            "width": null,
            "min_width": null,
            "border": null,
            "align_items": null,
            "bottom": null,
            "_model_module": "@jupyter-widgets/base",
            "top": null,
            "grid_column": null,
            "overflow_y": null,
            "overflow_x": null,
            "grid_auto_flow": null,
            "grid_area": null,
            "grid_template_columns": null,
            "flex": null,
            "_model_name": "LayoutModel",
            "justify_items": null,
            "grid_row": null,
            "max_height": null,
            "align_content": null,
            "visibility": null,
            "align_self": null,
            "height": null,
            "min_height": null,
            "padding": null,
            "grid_auto_rows": null,
            "grid_gap": null,
            "max_width": null,
            "order": null,
            "_view_module_version": "1.2.0",
            "grid_template_areas": null,
            "object_position": null,
            "object_fit": null,
            "grid_auto_columns": null,
            "margin": null,
            "display": null,
            "left": null
          }
        },
        "a607b44d054c48368952e033bc0c83ee": {
          "model_module": "@jupyter-widgets/controls",
          "model_name": "DescriptionStyleModel",
          "state": {
            "_view_name": "StyleView",
            "_model_name": "DescriptionStyleModel",
            "description_width": "",
            "_view_module": "@jupyter-widgets/base",
            "_model_module_version": "1.5.0",
            "_view_count": null,
            "_view_module_version": "1.2.0",
            "_model_module": "@jupyter-widgets/controls"
          }
        },
        "84c92d3dca7d4dd1b0965cc5d7cb81e4": {
          "model_module": "@jupyter-widgets/base",
          "model_name": "LayoutModel",
          "state": {
            "_view_name": "LayoutView",
            "grid_template_rows": null,
            "right": null,
            "justify_content": null,
            "_view_module": "@jupyter-widgets/base",
            "overflow": null,
            "_model_module_version": "1.2.0",
            "_view_count": null,
            "flex_flow": null,
            "width": null,
            "min_width": null,
            "border": null,
            "align_items": null,
            "bottom": null,
            "_model_module": "@jupyter-widgets/base",
            "top": null,
            "grid_column": null,
            "overflow_y": null,
            "overflow_x": null,
            "grid_auto_flow": null,
            "grid_area": null,
            "grid_template_columns": null,
            "flex": null,
            "_model_name": "LayoutModel",
            "justify_items": null,
            "grid_row": null,
            "max_height": null,
            "align_content": null,
            "visibility": null,
            "align_self": null,
            "height": null,
            "min_height": null,
            "padding": null,
            "grid_auto_rows": null,
            "grid_gap": null,
            "max_width": null,
            "order": null,
            "_view_module_version": "1.2.0",
            "grid_template_areas": null,
            "object_position": null,
            "object_fit": null,
            "grid_auto_columns": null,
            "margin": null,
            "display": null,
            "left": null
          }
        }
      }
    }
  },
  "cells": [
    {
      "cell_type": "markdown",
      "metadata": {
        "id": "view-in-github",
        "colab_type": "text"
      },
      "source": [
        "<a href=\"https://colab.research.google.com/github/seenu-g/school_of_ai/blob/master/Final.ipynb\" target=\"_parent\"><img src=\"https://colab.research.google.com/assets/colab-badge.svg\" alt=\"Open In Colab\"/></a>"
      ]
    },
    {
      "cell_type": "code",
      "metadata": {
        "id": "XOJ8IiQWYc6v",
        "colab_type": "code",
        "outputId": "05cf39ae-c25c-49ee-d511-0a57287c49d2",
        "colab": {
          "base_uri": "https://localhost:8080/",
          "height": 122
        }
      },
      "source": [
        "# mount gdrive and unzip data\n",
        "from google.colab import drive\n",
        "drive.mount('/content/gdrive',force_remount=True)"
      ],
      "execution_count": 1,
      "outputs": [
        {
          "output_type": "stream",
          "text": [
            "Go to this URL in a browser: https://accounts.google.com/o/oauth2/auth?client_id=947318989803-6bn6qk8qdgf4n4g3pfee6491hc0brc4i.apps.googleusercontent.com&redirect_uri=urn%3aietf%3awg%3aoauth%3a2.0%3aoob&response_type=code&scope=email%20https%3a%2f%2fwww.googleapis.com%2fauth%2fdocs.test%20https%3a%2f%2fwww.googleapis.com%2fauth%2fdrive%20https%3a%2f%2fwww.googleapis.com%2fauth%2fdrive.photos.readonly%20https%3a%2f%2fwww.googleapis.com%2fauth%2fpeopleapi.readonly\n",
            "\n",
            "Enter your authorization code:\n",
            "··········\n",
            "Mounted at /content/gdrive\n"
          ],
          "name": "stdout"
        }
      ]
    },
    {
      "cell_type": "code",
      "metadata": {
        "id": "Mmwasqq3YltE",
        "colab_type": "code",
        "colab": {
          "base_uri": "https://localhost:8080/",
          "height": 136
        },
        "outputId": "2b038252-4760-49a8-b25c-1342b057507a"
      },
      "source": [
        "import sys\n",
        "import os\n",
        "folder = '/content/gdrive/My Drive/school_of_ai/chap7/'\n",
        "os.chdir(folder)\n",
        "print(os.getcwd()) \n",
        "for root, dirs, files in os.walk(\".\"):\n",
        "    for filename in files:\n",
        "        print(filename)\n",
        "sys.path.append(folder)"
      ],
      "execution_count": 2,
      "outputs": [
        {
          "output_type": "stream",
          "text": [
            "/content/gdrive/My Drive/school_of_ai/chap7\n",
            "evaluate.py\n",
            "model.py\n",
            "load_data.py\n",
            "train_test.py\n",
            "show_images.py\n",
            "Final.ipynb\n"
          ],
          "name": "stdout"
        }
      ]
    },
    {
      "cell_type": "code",
      "metadata": {
        "id": "-yVpodAMpoCi",
        "colab_type": "code",
        "colab": {}
      },
      "source": [
        "%matplotlib inline\n",
        "import torch\n",
        "import load_data\n",
        "import show_images\n",
        "import model\n",
        "import train_test\n",
        "import evaluate"
      ],
      "execution_count": 0,
      "outputs": []
    },
    {
      "cell_type": "code",
      "metadata": {
        "id": "nOw2uksWZVoO",
        "colab_type": "code",
        "colab": {
          "base_uri": "https://localhost:8080/",
          "height": 134,
          "referenced_widgets": [
            "7e845032af134d78b1acd02587b4ac4b",
            "642d438002e248679e20b685629b53bd",
            "a68e05e30c4f4795bd5aa3804357d1e1",
            "7f3d3347dd1745958d555dc3e0e22381",
            "5812e3e0635f4125812e069c392d4f91",
            "5a210be52d7b458497bb25678d6ca4a8",
            "a607b44d054c48368952e033bc0c83ee",
            "84c92d3dca7d4dd1b0965cc5d7cb81e4"
          ]
        },
        "outputId": "93a97a43-fbda-423c-a159-f55321b61a81"
      },
      "source": [
        "classes, trainloader, testloader = load_data.load()"
      ],
      "execution_count": 5,
      "outputs": [
        {
          "output_type": "stream",
          "text": [
            "Downloading https://www.cs.toronto.edu/~kriz/cifar-10-python.tar.gz to ./data/cifar-10-python.tar.gz\n"
          ],
          "name": "stdout"
        },
        {
          "output_type": "display_data",
          "data": {
            "application/vnd.jupyter.widget-view+json": {
              "model_id": "7e845032af134d78b1acd02587b4ac4b",
              "version_minor": 0,
              "version_major": 2
            },
            "text/plain": [
              "HBox(children=(IntProgress(value=1, bar_style='info', max=1), HTML(value='')))"
            ]
          },
          "metadata": {
            "tags": []
          }
        },
        {
          "output_type": "stream",
          "text": [
            "\n",
            "Extracting ./data/cifar-10-python.tar.gz to ./data\n",
            "Files already downloaded and verified\n",
            "CUDA Available? True\n"
          ],
          "name": "stdout"
        }
      ]
    },
    {
      "cell_type": "code",
      "metadata": {
        "id": "sD4uaoDXZpW7",
        "colab_type": "code",
        "colab": {
          "base_uri": "https://localhost:8080/",
          "height": 138
        },
        "outputId": "f1c0d9e8-0d6b-482e-dc1f-93e466dfef1a"
      },
      "source": [
        "show_images.show_random_images(trainloader, classes)"
      ],
      "execution_count": 6,
      "outputs": [
        {
          "output_type": "stream",
          "text": [
            "shape: torch.Size([128, 3, 32, 32])\n"
          ],
          "name": "stdout"
        },
        {
          "output_type": "display_data",
          "data": {
            "image/png": "[encoded data removed]",
            "text/plain": [
              "<Figure size 432x288 with 1 Axes>"
            ]
          },
          "metadata": {
            "tags": []
          }
        }
      ]
    },
    {
      "cell_type": "code",
      "metadata": {
        "id": "3SJXKO7lTCzk",
        "colab_type": "code",
        "colab": {
          "base_uri": "https://localhost:8080/",
          "height": 1000
        },
        "outputId": "c32c70c6-abe3-4ae4-a51f-5c25e37b62eb"
      },
      "source": [
        "import model\n",
        "!pip install torchsummary\n",
        "from torchsummary import summary\n",
        "use_cuda = torch.cuda.is_available()\n",
        "device = torch.device(\"cuda\" if use_cuda else \"cpu\")\n",
        "print(device)\n",
        "my_model = model.Net().to(device)\n",
        "summary(my_model, input_size=(3, 32, 32))"
      ],
      "execution_count": 24,
      "outputs": [
        {
          "output_type": "stream",
          "text": [
            "Requirement already satisfied: torchsummary in /usr/local/lib/python3.6/dist-packages (1.5.1)\n",
            "cuda\n",
            "----------------------------------------------------------------\n",
            "        Layer (type)               Output Shape         Param #\n",
            "================================================================\n",
            "            Conv2d-1           [-1, 16, 30, 30]             432\n",
            "              ReLU-2           [-1, 16, 30, 30]               0\n",
            "       BatchNorm2d-3           [-1, 16, 30, 30]              32\n",
            "           Dropout-4           [-1, 16, 30, 30]               0\n",
            "            Conv2d-5           [-1, 32, 30, 30]           4,608\n",
            "              ReLU-6           [-1, 32, 30, 30]               0\n",
            "       BatchNorm2d-7           [-1, 32, 30, 30]              64\n",
            "           Dropout-8           [-1, 32, 30, 30]               0\n",
            "            Conv2d-9           [-1, 64, 30, 30]          18,432\n",
            "             ReLU-10           [-1, 64, 30, 30]               0\n",
            "      BatchNorm2d-11           [-1, 64, 30, 30]             128\n",
            "          Dropout-12           [-1, 64, 30, 30]               0\n",
            "           Conv2d-13          [-1, 128, 30, 30]          73,728\n",
            "             ReLU-14          [-1, 128, 30, 30]               0\n",
            "      BatchNorm2d-15          [-1, 128, 30, 30]             256\n",
            "          Dropout-16          [-1, 128, 30, 30]               0\n",
            "           Conv2d-17          [-1, 256, 30, 30]         294,912\n",
            "             ReLU-18          [-1, 256, 30, 30]               0\n",
            "      BatchNorm2d-19          [-1, 256, 30, 30]             512\n",
            "          Dropout-20          [-1, 256, 30, 30]               0\n",
            "        MaxPool2d-21          [-1, 256, 15, 15]               0\n",
            "           Conv2d-22           [-1, 16, 13, 13]          36,864\n",
            "             ReLU-23           [-1, 16, 13, 13]               0\n",
            "      BatchNorm2d-24           [-1, 16, 13, 13]              32\n",
            "          Dropout-25           [-1, 16, 13, 13]               0\n",
            "           Conv2d-26           [-1, 32, 13, 13]           4,608\n",
            "             ReLU-27           [-1, 32, 13, 13]               0\n",
            "      BatchNorm2d-28           [-1, 32, 13, 13]              64\n",
            "          Dropout-29           [-1, 32, 13, 13]               0\n",
            "           Conv2d-30           [-1, 64, 13, 13]          18,432\n",
            "             ReLU-31           [-1, 64, 13, 13]               0\n",
            "      BatchNorm2d-32           [-1, 64, 13, 13]             128\n",
            "          Dropout-33           [-1, 64, 13, 13]               0\n",
            "           Conv2d-34          [-1, 128, 13, 13]          73,728\n",
            "             ReLU-35          [-1, 128, 13, 13]               0\n",
            "      BatchNorm2d-36          [-1, 128, 13, 13]             256\n",
            "          Dropout-37          [-1, 128, 13, 13]               0\n",
            "        MaxPool2d-38            [-1, 128, 6, 6]               0\n",
            "           Conv2d-39             [-1, 16, 6, 6]          18,432\n",
            "             ReLU-40             [-1, 16, 6, 6]               0\n",
            "      BatchNorm2d-41             [-1, 16, 6, 6]              32\n",
            "          Dropout-42             [-1, 16, 6, 6]               0\n",
            "           Conv2d-43             [-1, 32, 6, 6]             288\n",
            "             ReLU-44             [-1, 32, 6, 6]               0\n",
            "      BatchNorm2d-45             [-1, 32, 6, 6]              64\n",
            "          Dropout-46             [-1, 32, 6, 6]               0\n",
            "           Conv2d-47             [-1, 64, 6, 6]             576\n",
            "             ReLU-48             [-1, 64, 6, 6]               0\n",
            "      BatchNorm2d-49             [-1, 64, 6, 6]             128\n",
            "          Dropout-50             [-1, 64, 6, 6]               0\n",
            "           Conv2d-51            [-1, 128, 6, 6]           1,152\n",
            "             ReLU-52            [-1, 128, 6, 6]               0\n",
            "      BatchNorm2d-53            [-1, 128, 6, 6]             256\n",
            "          Dropout-54            [-1, 128, 6, 6]               0\n",
            "        MaxPool2d-55            [-1, 128, 3, 3]               0\n",
            "           Conv2d-56             [-1, 16, 3, 3]          18,432\n",
            "             ReLU-57             [-1, 16, 3, 3]               0\n",
            "      BatchNorm2d-58             [-1, 16, 3, 3]              32\n",
            "          Dropout-59             [-1, 16, 3, 3]               0\n",
            "           Conv2d-60             [-1, 32, 3, 3]           4,608\n",
            "             ReLU-61             [-1, 32, 3, 3]               0\n",
            "      BatchNorm2d-62             [-1, 32, 3, 3]              64\n",
            "          Dropout-63             [-1, 32, 3, 3]               0\n",
            "           Conv2d-64             [-1, 64, 3, 3]          18,432\n",
            "             ReLU-65             [-1, 64, 3, 3]               0\n",
            "      BatchNorm2d-66             [-1, 64, 3, 3]             128\n",
            "          Dropout-67             [-1, 64, 3, 3]               0\n",
            "           Conv2d-68            [-1, 128, 3, 3]          73,728\n",
            "             ReLU-69            [-1, 128, 3, 3]               0\n",
            "      BatchNorm2d-70            [-1, 128, 3, 3]             256\n",
            "          Dropout-71            [-1, 128, 3, 3]               0\n",
            "AdaptiveAvgPool2d-72            [-1, 128, 1, 1]               0\n",
            "           Conv2d-73             [-1, 10, 1, 1]           1,280\n",
            "================================================================\n",
            "Total params: 665,104\n",
            "Trainable params: 665,104\n",
            "Non-trainable params: 0\n",
            "----------------------------------------------------------------\n",
            "Input size (MB): 0.01\n",
            "Forward/backward pass size (MB): 15.67\n",
            "Params size (MB): 2.54\n",
            "Estimated Total Size (MB): 18.22\n",
            "----------------------------------------------------------------\n"
          ],
          "name": "stdout"
        }
      ]
    },
    {
      "cell_type": "code",
      "metadata": {
        "id": "FYXTvB47aTjn",
        "colab_type": "code",
        "colab": {}
      },
      "source": [
        "import torch.nn as nn\n",
        "import torch.optim as optim\n",
        "from torch.optim.lr_scheduler import StepLR\n",
        "\n",
        "criterion = nn.CrossEntropyLoss()\n",
        "optimizer = optim.SGD(my_model.parameters(), lr=0.1, momentum=0.9)"
      ],
      "execution_count": 0,
      "outputs": []
    },
    {
      "cell_type": "code",
      "metadata": {
        "id": "O59HW2KFaX5L",
        "colab_type": "code",
        "colab": {
          "base_uri": "https://localhost:8080/",
          "height": 1000
        },
        "outputId": "da163bce-aee4-4250-a15e-8aae856e7a53"
      },
      "source": [
        "EPOCHS = 50\n",
        "for epoch in range(EPOCHS):\n",
        "    print(\"EPOCH:\", epoch+1)\n",
        "    train_test.train(my_model, device, trainloader, optimizer, criterion, epoch)\n",
        "    train_test.test(my_model, device, criterion, testloader)"
      ],
      "execution_count": 34,
      "outputs": [
        {
          "output_type": "stream",
          "text": [
            "\r  0%|          | 0/391 [00:00<?, ?it/s]"
          ],
          "name": "stderr"
        },
        {
          "output_type": "stream",
          "text": [
            "EPOCH: 1\n"
          ],
          "name": "stdout"
        },
        {
          "output_type": "stream",
          "text": [
            "Loss=1.1704617738723755 Batch_id=390 Accuracy=62.54: 100%|██████████| 391/391 [00:28<00:00, 14.76it/s]\n",
            "  0%|          | 0/391 [00:00<?, ?it/s]"
          ],
          "name": "stderr"
        },
        {
          "output_type": "stream",
          "text": [
            "\n",
            "Test set: Average loss: 0.0160, Accuracy: 3728/10000 (37.28%)\n",
            "\n",
            "EPOCH: 2\n"
          ],
          "name": "stdout"
        },
        {
          "output_type": "stream",
          "text": [
            "Loss=0.8580783605575562 Batch_id=390 Accuracy=65.79: 100%|██████████| 391/391 [00:28<00:00, 14.50it/s]\n",
            "  0%|          | 0/391 [00:00<?, ?it/s]"
          ],
          "name": "stderr"
        },
        {
          "output_type": "stream",
          "text": [
            "\n",
            "Test set: Average loss: 0.0105, Accuracy: 5340/10000 (53.40%)\n",
            "\n",
            "EPOCH: 3\n"
          ],
          "name": "stdout"
        },
        {
          "output_type": "stream",
          "text": [
            "Loss=0.8874930143356323 Batch_id=390 Accuracy=68.71: 100%|██████████| 391/391 [00:28<00:00, 14.40it/s]\n",
            "  0%|          | 0/391 [00:00<?, ?it/s]"
          ],
          "name": "stderr"
        },
        {
          "output_type": "stream",
          "text": [
            "\n",
            "Test set: Average loss: 0.0122, Accuracy: 4779/10000 (47.79%)\n",
            "\n",
            "EPOCH: 4\n"
          ],
          "name": "stdout"
        },
        {
          "output_type": "stream",
          "text": [
            "Loss=0.7949024438858032 Batch_id=390 Accuracy=71.12: 100%|██████████| 391/391 [00:28<00:00, 14.41it/s]\n",
            "  0%|          | 0/391 [00:00<?, ?it/s]"
          ],
          "name": "stderr"
        },
        {
          "output_type": "stream",
          "text": [
            "\n",
            "Test set: Average loss: 0.0095, Accuracy: 5951/10000 (59.51%)\n",
            "\n",
            "EPOCH: 5\n"
          ],
          "name": "stdout"
        },
        {
          "output_type": "stream",
          "text": [
            "Loss=0.7866171598434448 Batch_id=390 Accuracy=72.98: 100%|██████████| 391/391 [00:29<00:00, 14.36it/s]\n",
            "  0%|          | 0/391 [00:00<?, ?it/s]"
          ],
          "name": "stderr"
        },
        {
          "output_type": "stream",
          "text": [
            "\n",
            "Test set: Average loss: 0.0103, Accuracy: 5666/10000 (56.66%)\n",
            "\n",
            "EPOCH: 6\n"
          ],
          "name": "stdout"
        },
        {
          "output_type": "stream",
          "text": [
            "Loss=0.7228531837463379 Batch_id=390 Accuracy=74.41: 100%|██████████| 391/391 [00:29<00:00, 14.05it/s]\n",
            "  0%|          | 0/391 [00:00<?, ?it/s]"
          ],
          "name": "stderr"
        },
        {
          "output_type": "stream",
          "text": [
            "\n",
            "Test set: Average loss: 0.0097, Accuracy: 5885/10000 (58.85%)\n",
            "\n",
            "EPOCH: 7\n"
          ],
          "name": "stdout"
        },
        {
          "output_type": "stream",
          "text": [
            "Loss=0.7511176466941833 Batch_id=390 Accuracy=76.00: 100%|██████████| 391/391 [00:29<00:00, 14.09it/s]\n",
            "  0%|          | 0/391 [00:00<?, ?it/s]"
          ],
          "name": "stderr"
        },
        {
          "output_type": "stream",
          "text": [
            "\n",
            "Test set: Average loss: 0.0096, Accuracy: 5963/10000 (59.63%)\n",
            "\n",
            "EPOCH: 8\n"
          ],
          "name": "stdout"
        },
        {
          "output_type": "stream",
          "text": [
            "Loss=0.4336184859275818 Batch_id=390 Accuracy=77.23: 100%|██████████| 391/391 [00:29<00:00, 14.04it/s]\n",
            "  0%|          | 0/391 [00:00<?, ?it/s]"
          ],
          "name": "stderr"
        },
        {
          "output_type": "stream",
          "text": [
            "\n",
            "Test set: Average loss: 0.0090, Accuracy: 6228/10000 (62.28%)\n",
            "\n",
            "EPOCH: 9\n"
          ],
          "name": "stdout"
        },
        {
          "output_type": "stream",
          "text": [
            "Loss=0.6723741888999939 Batch_id=390 Accuracy=78.49: 100%|██████████| 391/391 [00:29<00:00, 14.17it/s]\n",
            "  0%|          | 0/391 [00:00<?, ?it/s]"
          ],
          "name": "stderr"
        },
        {
          "output_type": "stream",
          "text": [
            "\n",
            "Test set: Average loss: 0.0086, Accuracy: 6390/10000 (63.90%)\n",
            "\n",
            "EPOCH: 10\n"
          ],
          "name": "stdout"
        },
        {
          "output_type": "stream",
          "text": [
            "Loss=0.6246336698532104 Batch_id=390 Accuracy=79.21: 100%|██████████| 391/391 [00:29<00:00, 14.05it/s]\n",
            "  0%|          | 0/391 [00:00<?, ?it/s]"
          ],
          "name": "stderr"
        },
        {
          "output_type": "stream",
          "text": [
            "\n",
            "Test set: Average loss: 0.0069, Accuracy: 6918/10000 (69.18%)\n",
            "\n",
            "EPOCH: 11\n"
          ],
          "name": "stdout"
        },
        {
          "output_type": "stream",
          "text": [
            "Loss=0.647334098815918 Batch_id=390 Accuracy=79.91: 100%|██████████| 391/391 [00:29<00:00, 14.07it/s]\n",
            "  0%|          | 0/391 [00:00<?, ?it/s]"
          ],
          "name": "stderr"
        },
        {
          "output_type": "stream",
          "text": [
            "\n",
            "Test set: Average loss: 0.0071, Accuracy: 6986/10000 (69.86%)\n",
            "\n",
            "EPOCH: 12\n"
          ],
          "name": "stdout"
        },
        {
          "output_type": "stream",
          "text": [
            "Loss=0.5445614457130432 Batch_id=390 Accuracy=80.95: 100%|██████████| 391/391 [00:29<00:00, 14.02it/s]\n",
            "  0%|          | 0/391 [00:00<?, ?it/s]"
          ],
          "name": "stderr"
        },
        {
          "output_type": "stream",
          "text": [
            "\n",
            "Test set: Average loss: 0.0072, Accuracy: 6817/10000 (68.17%)\n",
            "\n",
            "EPOCH: 13\n"
          ],
          "name": "stdout"
        },
        {
          "output_type": "stream",
          "text": [
            "Loss=0.3363100588321686 Batch_id=390 Accuracy=81.85: 100%|██████████| 391/391 [00:29<00:00, 14.00it/s]\n",
            "  0%|          | 0/391 [00:00<?, ?it/s]"
          ],
          "name": "stderr"
        },
        {
          "output_type": "stream",
          "text": [
            "\n",
            "Test set: Average loss: 0.0080, Accuracy: 6675/10000 (66.75%)\n",
            "\n",
            "EPOCH: 14\n"
          ],
          "name": "stdout"
        },
        {
          "output_type": "stream",
          "text": [
            "Loss=0.42694729566574097 Batch_id=390 Accuracy=82.35: 100%|██████████| 391/391 [00:29<00:00, 14.05it/s]\n",
            "  0%|          | 0/391 [00:00<?, ?it/s]"
          ],
          "name": "stderr"
        },
        {
          "output_type": "stream",
          "text": [
            "\n",
            "Test set: Average loss: 0.0071, Accuracy: 6889/10000 (68.89%)\n",
            "\n",
            "EPOCH: 15\n"
          ],
          "name": "stdout"
        },
        {
          "output_type": "stream",
          "text": [
            "Loss=0.41923466324806213 Batch_id=390 Accuracy=82.81: 100%|██████████| 391/391 [00:29<00:00, 14.13it/s]\n",
            "  0%|          | 0/391 [00:00<?, ?it/s]"
          ],
          "name": "stderr"
        },
        {
          "output_type": "stream",
          "text": [
            "\n",
            "Test set: Average loss: 0.0070, Accuracy: 6968/10000 (69.68%)\n",
            "\n",
            "EPOCH: 16\n"
          ],
          "name": "stdout"
        },
        {
          "output_type": "stream",
          "text": [
            "Loss=0.7105323076248169 Batch_id=390 Accuracy=83.44: 100%|██████████| 391/391 [00:29<00:00, 13.96it/s]\n",
            "  0%|          | 0/391 [00:00<?, ?it/s]"
          ],
          "name": "stderr"
        },
        {
          "output_type": "stream",
          "text": [
            "\n",
            "Test set: Average loss: 0.0062, Accuracy: 7312/10000 (73.12%)\n",
            "\n",
            "EPOCH: 17\n"
          ],
          "name": "stdout"
        },
        {
          "output_type": "stream",
          "text": [
            "Loss=0.5272663831710815 Batch_id=390 Accuracy=83.89: 100%|██████████| 391/391 [00:29<00:00, 14.09it/s]\n",
            "  0%|          | 0/391 [00:00<?, ?it/s]"
          ],
          "name": "stderr"
        },
        {
          "output_type": "stream",
          "text": [
            "\n",
            "Test set: Average loss: 0.0074, Accuracy: 6911/10000 (69.11%)\n",
            "\n",
            "EPOCH: 18\n"
          ],
          "name": "stdout"
        },
        {
          "output_type": "stream",
          "text": [
            "Loss=0.4100606441497803 Batch_id=390 Accuracy=84.55: 100%|██████████| 391/391 [00:29<00:00, 13.96it/s]\n",
            "  0%|          | 0/391 [00:00<?, ?it/s]"
          ],
          "name": "stderr"
        },
        {
          "output_type": "stream",
          "text": [
            "\n",
            "Test set: Average loss: 0.0058, Accuracy: 7485/10000 (74.85%)\n",
            "\n",
            "EPOCH: 19\n"
          ],
          "name": "stdout"
        },
        {
          "output_type": "stream",
          "text": [
            "Loss=0.410559743642807 Batch_id=390 Accuracy=85.11: 100%|██████████| 391/391 [00:29<00:00, 14.09it/s]\n",
            "  0%|          | 0/391 [00:00<?, ?it/s]"
          ],
          "name": "stderr"
        },
        {
          "output_type": "stream",
          "text": [
            "\n",
            "Test set: Average loss: 0.0063, Accuracy: 7292/10000 (72.92%)\n",
            "\n",
            "EPOCH: 20\n"
          ],
          "name": "stdout"
        },
        {
          "output_type": "stream",
          "text": [
            "Loss=0.3443106412887573 Batch_id=390 Accuracy=85.35: 100%|██████████| 391/391 [00:29<00:00, 13.95it/s]\n",
            "  0%|          | 0/391 [00:00<?, ?it/s]"
          ],
          "name": "stderr"
        },
        {
          "output_type": "stream",
          "text": [
            "\n",
            "Test set: Average loss: 0.0056, Accuracy: 7665/10000 (76.65%)\n",
            "\n",
            "EPOCH: 21\n"
          ],
          "name": "stdout"
        },
        {
          "output_type": "stream",
          "text": [
            "Loss=0.3808744549751282 Batch_id=390 Accuracy=85.94: 100%|██████████| 391/391 [00:29<00:00, 13.07it/s]\n",
            "  0%|          | 0/391 [00:00<?, ?it/s]"
          ],
          "name": "stderr"
        },
        {
          "output_type": "stream",
          "text": [
            "\n",
            "Test set: Average loss: 0.0052, Accuracy: 7755/10000 (77.55%)\n",
            "\n",
            "EPOCH: 22\n"
          ],
          "name": "stdout"
        },
        {
          "output_type": "stream",
          "text": [
            "Loss=0.5304169654846191 Batch_id=390 Accuracy=86.05: 100%|██████████| 391/391 [00:29<00:00, 13.96it/s]\n",
            "  0%|          | 0/391 [00:00<?, ?it/s]"
          ],
          "name": "stderr"
        },
        {
          "output_type": "stream",
          "text": [
            "\n",
            "Test set: Average loss: 0.0056, Accuracy: 7652/10000 (76.52%)\n",
            "\n",
            "EPOCH: 23\n"
          ],
          "name": "stdout"
        },
        {
          "output_type": "stream",
          "text": [
            "Loss=0.3875771760940552 Batch_id=390 Accuracy=86.70: 100%|██████████| 391/391 [00:29<00:00, 14.16it/s]\n",
            "  0%|          | 0/391 [00:00<?, ?it/s]"
          ],
          "name": "stderr"
        },
        {
          "output_type": "stream",
          "text": [
            "\n",
            "Test set: Average loss: 0.0054, Accuracy: 7714/10000 (77.14%)\n",
            "\n",
            "EPOCH: 24\n"
          ],
          "name": "stdout"
        },
        {
          "output_type": "stream",
          "text": [
            "Loss=0.38708069920539856 Batch_id=390 Accuracy=87.00: 100%|██████████| 391/391 [00:29<00:00, 13.96it/s]\n",
            "  0%|          | 0/391 [00:00<?, ?it/s]"
          ],
          "name": "stderr"
        },
        {
          "output_type": "stream",
          "text": [
            "\n",
            "Test set: Average loss: 0.0064, Accuracy: 7170/10000 (71.70%)\n",
            "\n",
            "EPOCH: 25\n"
          ],
          "name": "stdout"
        },
        {
          "output_type": "stream",
          "text": [
            "Loss=0.29591822624206543 Batch_id=390 Accuracy=87.46: 100%|██████████| 391/391 [00:29<00:00, 14.02it/s]\n",
            "  0%|          | 0/391 [00:00<?, ?it/s]"
          ],
          "name": "stderr"
        },
        {
          "output_type": "stream",
          "text": [
            "\n",
            "Test set: Average loss: 0.0047, Accuracy: 8011/10000 (80.11%)\n",
            "\n",
            "EPOCH: 26\n"
          ],
          "name": "stdout"
        },
        {
          "output_type": "stream",
          "text": [
            "Loss=0.46043309569358826 Batch_id=390 Accuracy=87.70: 100%|██████████| 391/391 [00:29<00:00, 13.96it/s]\n",
            "  0%|          | 0/391 [00:00<?, ?it/s]"
          ],
          "name": "stderr"
        },
        {
          "output_type": "stream",
          "text": [
            "\n",
            "Test set: Average loss: 0.0056, Accuracy: 7651/10000 (76.51%)\n",
            "\n",
            "EPOCH: 27\n"
          ],
          "name": "stdout"
        },
        {
          "output_type": "stream",
          "text": [
            "Loss=0.41959190368652344 Batch_id=390 Accuracy=87.79: 100%|██████████| 391/391 [00:29<00:00, 14.06it/s]\n",
            "  0%|          | 0/391 [00:00<?, ?it/s]"
          ],
          "name": "stderr"
        },
        {
          "output_type": "stream",
          "text": [
            "\n",
            "Test set: Average loss: 0.0047, Accuracy: 8035/10000 (80.35%)\n",
            "\n",
            "EPOCH: 28\n"
          ],
          "name": "stdout"
        },
        {
          "output_type": "stream",
          "text": [
            "Loss=0.35994189977645874 Batch_id=390 Accuracy=88.38: 100%|██████████| 391/391 [00:29<00:00, 13.97it/s]\n",
            "  0%|          | 0/391 [00:00<?, ?it/s]"
          ],
          "name": "stderr"
        },
        {
          "output_type": "stream",
          "text": [
            "\n",
            "Test set: Average loss: 0.0053, Accuracy: 7827/10000 (78.27%)\n",
            "\n",
            "EPOCH: 29\n"
          ],
          "name": "stdout"
        },
        {
          "output_type": "stream",
          "text": [
            "Loss=0.4593057632446289 Batch_id=390 Accuracy=88.34: 100%|██████████| 391/391 [00:29<00:00, 14.04it/s]\n",
            "  0%|          | 0/391 [00:00<?, ?it/s]"
          ],
          "name": "stderr"
        },
        {
          "output_type": "stream",
          "text": [
            "\n",
            "Test set: Average loss: 0.0050, Accuracy: 7872/10000 (78.72%)\n",
            "\n",
            "EPOCH: 30\n"
          ],
          "name": "stdout"
        },
        {
          "output_type": "stream",
          "text": [
            "Loss=0.19406548142433167 Batch_id=390 Accuracy=88.71: 100%|██████████| 391/391 [00:29<00:00, 14.00it/s]\n",
            "  0%|          | 0/391 [00:00<?, ?it/s]"
          ],
          "name": "stderr"
        },
        {
          "output_type": "stream",
          "text": [
            "\n",
            "Test set: Average loss: 0.0047, Accuracy: 7995/10000 (79.95%)\n",
            "\n",
            "EPOCH: 31\n"
          ],
          "name": "stdout"
        },
        {
          "output_type": "stream",
          "text": [
            "Loss=0.46574586629867554 Batch_id=390 Accuracy=89.07: 100%|██████████| 391/391 [00:29<00:00, 14.00it/s]\n",
            "  0%|          | 0/391 [00:00<?, ?it/s]"
          ],
          "name": "stderr"
        },
        {
          "output_type": "stream",
          "text": [
            "\n",
            "Test set: Average loss: 0.0052, Accuracy: 7711/10000 (77.11%)\n",
            "\n",
            "EPOCH: 32\n"
          ],
          "name": "stdout"
        },
        {
          "output_type": "stream",
          "text": [
            "Loss=0.4255952835083008 Batch_id=390 Accuracy=89.35: 100%|██████████| 391/391 [00:29<00:00, 14.04it/s]\n",
            "  0%|          | 0/391 [00:00<?, ?it/s]"
          ],
          "name": "stderr"
        },
        {
          "output_type": "stream",
          "text": [
            "\n",
            "Test set: Average loss: 0.0051, Accuracy: 7798/10000 (77.98%)\n",
            "\n",
            "EPOCH: 33\n"
          ],
          "name": "stdout"
        },
        {
          "output_type": "stream",
          "text": [
            "Loss=0.34501412510871887 Batch_id=390 Accuracy=89.52: 100%|██████████| 391/391 [00:29<00:00, 13.98it/s]\n",
            "  0%|          | 0/391 [00:00<?, ?it/s]"
          ],
          "name": "stderr"
        },
        {
          "output_type": "stream",
          "text": [
            "\n",
            "Test set: Average loss: 0.0049, Accuracy: 7944/10000 (79.44%)\n",
            "\n",
            "EPOCH: 34\n"
          ],
          "name": "stdout"
        },
        {
          "output_type": "stream",
          "text": [
            "Loss=0.3419610261917114 Batch_id=390 Accuracy=90.00: 100%|██████████| 391/391 [00:29<00:00, 13.91it/s]\n",
            "  0%|          | 0/391 [00:00<?, ?it/s]"
          ],
          "name": "stderr"
        },
        {
          "output_type": "stream",
          "text": [
            "\n",
            "Test set: Average loss: 0.0045, Accuracy: 8070/10000 (80.70%)\n",
            "\n",
            "EPOCH: 35\n"
          ],
          "name": "stdout"
        },
        {
          "output_type": "stream",
          "text": [
            "Loss=0.44453534483909607 Batch_id=390 Accuracy=90.27: 100%|██████████| 391/391 [00:29<00:00, 14.04it/s]\n",
            "  0%|          | 0/391 [00:00<?, ?it/s]"
          ],
          "name": "stderr"
        },
        {
          "output_type": "stream",
          "text": [
            "\n",
            "Test set: Average loss: 0.0047, Accuracy: 7997/10000 (79.97%)\n",
            "\n",
            "EPOCH: 36\n"
          ],
          "name": "stdout"
        },
        {
          "output_type": "stream",
          "text": [
            "Loss=0.3368470072746277 Batch_id=390 Accuracy=90.28: 100%|██████████| 391/391 [00:29<00:00, 14.07it/s]\n",
            "  0%|          | 0/391 [00:00<?, ?it/s]"
          ],
          "name": "stderr"
        },
        {
          "output_type": "stream",
          "text": [
            "\n",
            "Test set: Average loss: 0.0052, Accuracy: 7844/10000 (78.44%)\n",
            "\n",
            "EPOCH: 37\n"
          ],
          "name": "stdout"
        },
        {
          "output_type": "stream",
          "text": [
            "Loss=0.3516775965690613 Batch_id=390 Accuracy=90.44: 100%|██████████| 391/391 [00:29<00:00, 14.09it/s]\n",
            "  0%|          | 0/391 [00:00<?, ?it/s]"
          ],
          "name": "stderr"
        },
        {
          "output_type": "stream",
          "text": [
            "\n",
            "Test set: Average loss: 0.0050, Accuracy: 7857/10000 (78.57%)\n",
            "\n",
            "EPOCH: 38\n"
          ],
          "name": "stdout"
        },
        {
          "output_type": "stream",
          "text": [
            "Loss=0.3001636266708374 Batch_id=390 Accuracy=90.65: 100%|██████████| 391/391 [00:29<00:00, 13.88it/s]\n",
            "  0%|          | 0/391 [00:00<?, ?it/s]"
          ],
          "name": "stderr"
        },
        {
          "output_type": "stream",
          "text": [
            "\n",
            "Test set: Average loss: 0.0046, Accuracy: 8073/10000 (80.73%)\n",
            "\n",
            "EPOCH: 39\n"
          ],
          "name": "stdout"
        },
        {
          "output_type": "stream",
          "text": [
            "Loss=0.4125271439552307 Batch_id=390 Accuracy=90.76: 100%|██████████| 391/391 [00:29<00:00, 13.87it/s]\n",
            "  0%|          | 0/391 [00:00<?, ?it/s]"
          ],
          "name": "stderr"
        },
        {
          "output_type": "stream",
          "text": [
            "\n",
            "Test set: Average loss: 0.0058, Accuracy: 7584/10000 (75.84%)\n",
            "\n",
            "EPOCH: 40\n"
          ],
          "name": "stdout"
        },
        {
          "output_type": "stream",
          "text": [
            "Loss=0.30555030703544617 Batch_id=390 Accuracy=90.91: 100%|██████████| 391/391 [00:29<00:00, 14.14it/s]\n",
            "  0%|          | 0/391 [00:00<?, ?it/s]"
          ],
          "name": "stderr"
        },
        {
          "output_type": "stream",
          "text": [
            "\n",
            "Test set: Average loss: 0.0052, Accuracy: 7832/10000 (78.32%)\n",
            "\n",
            "EPOCH: 41\n"
          ],
          "name": "stdout"
        },
        {
          "output_type": "stream",
          "text": [
            "Loss=0.19974061846733093 Batch_id=390 Accuracy=91.16: 100%|██████████| 391/391 [00:29<00:00, 14.13it/s]\n",
            "  0%|          | 0/391 [00:00<?, ?it/s]"
          ],
          "name": "stderr"
        },
        {
          "output_type": "stream",
          "text": [
            "\n",
            "Test set: Average loss: 0.0051, Accuracy: 7871/10000 (78.71%)\n",
            "\n",
            "EPOCH: 42\n"
          ],
          "name": "stdout"
        },
        {
          "output_type": "stream",
          "text": [
            "Loss=0.26912230253219604 Batch_id=390 Accuracy=91.19: 100%|██████████| 391/391 [00:29<00:00, 14.02it/s]\n",
            "  0%|          | 0/391 [00:00<?, ?it/s]"
          ],
          "name": "stderr"
        },
        {
          "output_type": "stream",
          "text": [
            "\n",
            "Test set: Average loss: 0.0046, Accuracy: 8083/10000 (80.83%)\n",
            "\n",
            "EPOCH: 43\n"
          ],
          "name": "stdout"
        },
        {
          "output_type": "stream",
          "text": [
            "Loss=0.31205254793167114 Batch_id=390 Accuracy=91.37: 100%|██████████| 391/391 [00:29<00:00, 13.88it/s]\n",
            "  0%|          | 0/391 [00:00<?, ?it/s]"
          ],
          "name": "stderr"
        },
        {
          "output_type": "stream",
          "text": [
            "\n",
            "Test set: Average loss: 0.0041, Accuracy: 8304/10000 (83.04%)\n",
            "\n",
            "EPOCH: 44\n"
          ],
          "name": "stdout"
        },
        {
          "output_type": "stream",
          "text": [
            "Loss=0.23170098662376404 Batch_id=390 Accuracy=91.50: 100%|██████████| 391/391 [00:29<00:00, 14.09it/s]\n",
            "  0%|          | 0/391 [00:00<?, ?it/s]"
          ],
          "name": "stderr"
        },
        {
          "output_type": "stream",
          "text": [
            "\n",
            "Test set: Average loss: 0.0046, Accuracy: 8078/10000 (80.78%)\n",
            "\n",
            "EPOCH: 45\n"
          ],
          "name": "stdout"
        },
        {
          "output_type": "stream",
          "text": [
            "Loss=0.19928818941116333 Batch_id=390 Accuracy=91.68: 100%|██████████| 391/391 [00:29<00:00, 14.09it/s]\n",
            "  0%|          | 0/391 [00:00<?, ?it/s]"
          ],
          "name": "stderr"
        },
        {
          "output_type": "stream",
          "text": [
            "\n",
            "Test set: Average loss: 0.0053, Accuracy: 7825/10000 (78.25%)\n",
            "\n",
            "EPOCH: 46\n"
          ],
          "name": "stdout"
        },
        {
          "output_type": "stream",
          "text": [
            "Loss=0.32125601172447205 Batch_id=390 Accuracy=91.92: 100%|██████████| 391/391 [00:29<00:00, 14.03it/s]\n",
            "  0%|          | 0/391 [00:00<?, ?it/s]"
          ],
          "name": "stderr"
        },
        {
          "output_type": "stream",
          "text": [
            "\n",
            "Test set: Average loss: 0.0044, Accuracy: 8138/10000 (81.38%)\n",
            "\n",
            "EPOCH: 47\n"
          ],
          "name": "stdout"
        },
        {
          "output_type": "stream",
          "text": [
            "Loss=0.3097709119319916 Batch_id=390 Accuracy=92.07: 100%|██████████| 391/391 [00:30<00:00, 14.08it/s]\n",
            "  0%|          | 0/391 [00:00<?, ?it/s]"
          ],
          "name": "stderr"
        },
        {
          "output_type": "stream",
          "text": [
            "\n",
            "Test set: Average loss: 0.0055, Accuracy: 7738/10000 (77.38%)\n",
            "\n",
            "EPOCH: 48\n"
          ],
          "name": "stdout"
        },
        {
          "output_type": "stream",
          "text": [
            "Loss=0.267173707485199 Batch_id=390 Accuracy=92.13: 100%|██████████| 391/391 [00:29<00:00, 14.11it/s]\n",
            "  0%|          | 0/391 [00:00<?, ?it/s]"
          ],
          "name": "stderr"
        },
        {
          "output_type": "stream",
          "text": [
            "\n",
            "Test set: Average loss: 0.0045, Accuracy: 8156/10000 (81.56%)\n",
            "\n",
            "EPOCH: 49\n"
          ],
          "name": "stdout"
        },
        {
          "output_type": "stream",
          "text": [
            "Loss=0.3300130367279053 Batch_id=390 Accuracy=92.24: 100%|██████████| 391/391 [00:29<00:00, 13.94it/s]\n",
            "  0%|          | 0/391 [00:00<?, ?it/s]"
          ],
          "name": "stderr"
        },
        {
          "output_type": "stream",
          "text": [
            "\n",
            "Test set: Average loss: 0.0053, Accuracy: 7820/10000 (78.20%)\n",
            "\n",
            "EPOCH: 50\n"
          ],
          "name": "stdout"
        },
        {
          "output_type": "stream",
          "text": [
            "Loss=0.18863080441951752 Batch_id=390 Accuracy=92.59: 100%|██████████| 391/391 [00:29<00:00, 13.11it/s]\n"
          ],
          "name": "stderr"
        },
        {
          "output_type": "stream",
          "text": [
            "\n",
            "Test set: Average loss: 0.0048, Accuracy: 8048/10000 (80.48%)\n",
            "\n"
          ],
          "name": "stdout"
        }
      ]
    },
    {
      "cell_type": "code",
      "metadata": {
        "id": "huXiNyrLadZ4",
        "colab_type": "code",
        "colab": {
          "base_uri": "https://localhost:8080/",
          "height": 155
        },
        "outputId": "15a768ed-f199-4557-ce90-66f7e4ac7d5d"
      },
      "source": [
        "evaluate.show_predicted_actual(my_model, device, testloader, classes)"
      ],
      "execution_count": 35,
      "outputs": [
        {
          "output_type": "stream",
          "text": [
            "GroundTruth:    dog truck  deer  ship  deer\n",
            "Predicted:    dog truck  deer  ship  deer\n"
          ],
          "name": "stdout"
        },
        {
          "output_type": "display_data",
          "data": {
            "image/png": "[encoded data removed]",
            "text/plain": [
              "<Figure size 432x288 with 1 Axes>"
            ]
          },
          "metadata": {
            "tags": []
          }
        }
      ]
    },
    {
      "cell_type": "code",
      "metadata": {
        "id": "j0MnDAm4aegf",
        "colab_type": "code",
        "colab": {
          "base_uri": "https://localhost:8080/",
          "height": 34
        },
        "outputId": "5a46ade5-67e2-4eb9-fbef-17b5c41ce506"
      },
      "source": [
        "evaluate.evaluate_accuracy(my_model, device, testloader)"
      ],
      "execution_count": 36,
      "outputs": [
        {
          "output_type": "stream",
          "text": [
            "Accuracy of the network on the 10000 test images: 80 %\n"
          ],
          "name": "stdout"
        }
      ]
    },
    {
      "cell_type": "code",
      "metadata": {
        "id": "O8Vor9DTakSi",
        "colab_type": "code",
        "colab": {
          "base_uri": "https://localhost:8080/",
          "height": 187
        },
        "outputId": "4ec8fce0-a903-46ca-b715-2c0dda5415b5"
      },
      "source": [
        "evaluate.evaluate_classwise_accuracy(my_model, device, classes, testloader)"
      ],
      "execution_count": 37,
      "outputs": [
        {
          "output_type": "stream",
          "text": [
            "Accuracy of plane : 83 %\n",
            "Accuracy of   car : 91 %\n",
            "Accuracy of  bird : 62 %\n",
            "Accuracy of   cat : 93 %\n",
            "Accuracy of  deer : 86 %\n",
            "Accuracy of   dog : 60 %\n",
            "Accuracy of  frog : 87 %\n",
            "Accuracy of horse : 66 %\n",
            "Accuracy of  ship : 92 %\n",
            "Accuracy of truck : 97 %\n"
          ],
          "name": "stdout"
        }
      ]
    }
  ]
}