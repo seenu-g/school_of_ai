{
  "nbformat": 4,
  "nbformat_minor": 0,
  "metadata": {
    "colab": {
      "name": "Untitled0.ipynb",
      "provenance": [],
      "authorship_tag": "ABX9TyNYE+wwNyOCs4Oc3m6INs38",
      "include_colab_link": true
    },
    "kernelspec": {
      "name": "python3",
      "display_name": "Python 3"
    }
  },
  "cells": [
    {
      "cell_type": "markdown",
      "metadata": {
        "id": "view-in-github",
        "colab_type": "text"
      },
      "source": [
        "<a href=\"https://colab.research.google.com/github/seenu-g/school_of_ai/blob/master/examples/augmentation/image_transform.ipynb\" target=\"_parent\"><img src=\"https://colab.research.google.com/assets/colab-badge.svg\" alt=\"Open In Colab\"/></a>"
      ]
    },
    {
      "cell_type": "code",
      "metadata": {
        "id": "sHzAW1Hrj1wx",
        "colab_type": "code",
        "colab": {}
      },
      "source": [
        "!pip install --upgrade albumentations"
      ],
      "execution_count": 0,
      "outputs": []
    },
    {
      "cell_type": "code",
      "metadata": {
        "id": "Wf2miDAnhsxp",
        "colab_type": "code",
        "colab": {}
      },
      "source": [
        "import os\n",
        "import numpy as np\n",
        "import pandas as pd\n",
        "import seaborn as sns\n",
        "import cv2\n",
        "from pylab import rcParams\n",
        "from tqdm import tqdm\n",
        "import matplotlib.pyplot as plt\n",
        "from matplotlib import rc\n",
        "from pandas.plotting import register_matplotlib_converters\n",
        "import albumentations as A\n",
        "import random\n",
        "\n",
        "%matplotlib inline\n",
        "%config InlineBackend.figure_format='retina'\n",
        "\n",
        "register_matplotlib_converters()\n",
        "sns.set(style='whitegrid', palette='muted', font_scale=1.2)\n",
        "\n",
        "HAPPY_COLORS_PALETTE = [\"#01BEFE\", \"#FFDD00\", \"#FF7D00\", \"#FF006D\", \"#ADFF02\", \"#8F00FF\"]\n",
        "sns.set_palette(sns.color_palette(HAPPY_COLORS_PALETTE))\n",
        "rcParams['figure.figsize'] = 12, 8\n",
        "\n",
        "RANDOM_SEED = 42\n",
        "random.seed(RANDOM_SEED)\n",
        "np.random.seed(RANDOM_SEED)"
      ],
      "execution_count": 0,
      "outputs": []
    },
    {
      "cell_type": "code",
      "metadata": {
        "id": "XskjQ4jahxVq",
        "colab_type": "code",
        "colab": {}
      },
      "source": [
        "!gdown --id 1rZX15GYUJ44kEiuZOPUL4quOjcqwi-f5 --output documents.zip\n",
        "\n"
      ],
      "execution_count": 0,
      "outputs": []
    },
    {
      "cell_type": "code",
      "metadata": {
        "id": "5dUZ1VBah8yi",
        "colab_type": "code",
        "colab": {}
      },
      "source": [
        "!unzip -q documents.zip"
      ],
      "execution_count": 0,
      "outputs": []
    },
    {
      "cell_type": "code",
      "metadata": {
        "id": "7YnOK09YiC1G",
        "colab_type": "code",
        "colab": {}
      },
      "source": [
        "!ls"
      ],
      "execution_count": 0,
      "outputs": []
    },
    {
      "cell_type": "code",
      "metadata": {
        "id": "sA9HwO53iKeP",
        "colab_type": "code",
        "colab": {}
      },
      "source": [
        "BOX_COLOR = (255, 0, 0)\n",
        "thickness = 2\n",
        "def visualize_bbox(img, bbox, color=BOX_COLOR, thickness=2):\n",
        "    x_min, y_min, x_max, y_max = map(lambda v: int(v), bbox)\n",
        "    \n",
        "    cv2.rectangle(img, (x_min, y_min), (x_max, y_max), color=color, thickness=thickness)\n",
        "    return img"
      ],
      "execution_count": 0,
      "outputs": []
    },
    {
      "cell_type": "code",
      "metadata": {
        "id": "9kpCZ13siPKA",
        "colab_type": "code",
        "colab": {}
      },
      "source": [
        "def show_image(image, bbox):\n",
        "  image = visualize_bbox(image.copy(),bbox)\n",
        "  f = plt.figure(figsize=(18, 12))\n",
        "  plt.imshow(\n",
        "    cv2.cvtColor(image, cv2.COLOR_BGR2RGB),\n",
        "    interpolation='nearest'\n",
        "  )\n",
        "  plt.axis('off')\n",
        "  f.tight_layout()\n",
        "  plt.show()"
      ],
      "execution_count": 0,
      "outputs": []
    },
    {
      "cell_type": "code",
      "metadata": {
        "id": "DgFDzNhtiSMG",
        "colab_type": "code",
        "colab": {}
      },
      "source": [
        "form = cv2.imread(\"form.png\")\n",
        "STUDENT_ID_BBOX = [140, 260, 300, 300]\n",
        "show_image(form, bbox=STUDENT_ID_BBOX)"
      ],
      "execution_count": 0,
      "outputs": []
    },
    {
      "cell_type": "code",
      "metadata": {
        "id": "Me-DZ3PSi9lc",
        "colab_type": "code",
        "colab": {}
      },
      "source": [
        "def show_augmented(augmentation, image, bbox):\n",
        "  augmented = augmentation(image=image, bboxes=[bbox], field_id=['1'])\n",
        "  show_image(augmented['image'], augmented['bboxes'][0])"
      ],
      "execution_count": 0,
      "outputs": []
    },
    {
      "cell_type": "code",
      "metadata": {
        "id": "0O-WMvV3jB9X",
        "colab_type": "code",
        "colab": {}
      },
      "source": [
        "bbox_params = A.BboxParams(\n",
        "  format='pascal_voc', \n",
        "  min_area=1, \n",
        "  min_visibility=0.5, \n",
        "  label_fields=['field_id']\n",
        ")\n",
        "aug = A.Compose([\n",
        "    A.Flip(always_apply=True)\n",
        "], bbox_params=bbox_params)\n",
        "\n",
        "show_augmented(aug, form, STUDENT_ID_BBOX)"
      ],
      "execution_count": 0,
      "outputs": []
    },
    {
      "cell_type": "code",
      "metadata": {
        "id": "dOLDHacokjL7",
        "colab_type": "code",
        "colab": {}
      },
      "source": [
        "aug = A.Compose([\n",
        "  A.Rotate(limit=80, always_apply=True)\n",
        "], bbox_params=bbox_params)\n",
        "\n",
        "show_augmented(aug, form, STUDENT_ID_BBOX)"
      ],
      "execution_count": 0,
      "outputs": []
    },
    {
      "cell_type": "code",
      "metadata": {
        "id": "b9YP8LkQkvTA",
        "colab_type": "code",
        "colab": {}
      },
      "source": [
        "aug = A.Compose([\n",
        "    A.RGBShift(\n",
        "      always_apply=True, \n",
        "      r_shift_limit=100, \n",
        "      g_shift_limit=100,\n",
        "      b_shift_limit=100\n",
        "    ),\n",
        "], bbox_params=bbox_params)\n",
        "\n",
        "show_augmented(aug, form, STUDENT_ID_BBOX)"
      ],
      "execution_count": 0,
      "outputs": []
    },
    {
      "cell_type": "code",
      "metadata": {
        "id": "sVCjyXY7k4-6",
        "colab_type": "code",
        "colab": {}
      },
      "source": [
        "aug = A.Compose([\n",
        "    A.RandomBrightnessContrast(always_apply=True),\n",
        "], bbox_params=bbox_params)\n",
        "\n",
        "show_augmented(aug, form, STUDENT_ID_BBOX)"
      ],
      "execution_count": 0,
      "outputs": []
    },
    {
      "cell_type": "code",
      "metadata": {
        "id": "OUZm-OJyk1tk",
        "colab_type": "code",
        "colab": {}
      },
      "source": [
        "aug = A.Compose([\n",
        "    A.GaussNoise(\n",
        "      always_apply=True,\n",
        "      var_limit=(100, 300),\n",
        "      mean=150\n",
        "    ),\n",
        "], bbox_params=bbox_params)\n",
        "\n",
        "show_augmented(aug, form, STUDENT_ID_BBOX)"
      ],
      "execution_count": 0,
      "outputs": []
    },
    {
      "cell_type": "code",
      "metadata": {
        "id": "qIpKulZap9RY",
        "colab_type": "code",
        "colab": {}
      },
      "source": [
        "doc_aug = A.Compose([\n",
        "    A.Flip(p=0.25),\n",
        "    A.RandomGamma(gamma_limit=(20, 300), p=0.5),\n",
        "    A.RandomBrightnessContrast(p=0.85),\n",
        "    A.Rotate(limit=35, p=0.9),\n",
        "    A.RandomRotate90(p=0.25),\n",
        "    A.RGBShift(p=0.75),\n",
        "    A.GaussNoise(p=0.25)\n",
        "], bbox_params=bbox_params)\n",
        "show_augmented(doc_aug, form, STUDENT_ID_BBOX)"
      ],
      "execution_count": 0,
      "outputs": []
    }
  ]
}