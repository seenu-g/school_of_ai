{
  "nbformat": 4,
  "nbformat_minor": 0,
  "metadata": {
    "colab": {
      "name": "Untitled0.ipynb",
      "provenance": [],
      "authorship_tag": "ABX9TyO1NeaDLe62tUgg7/KK3uNL",
      "include_colab_link": true
    },
    "kernelspec": {
      "name": "python3",
      "display_name": "Python 3"
    }
  },
  "cells": [
    {
      "cell_type": "markdown",
      "metadata": {
        "id": "view-in-github",
        "colab_type": "text"
      },
      "source": [
        "<a href=\"https://colab.research.google.com/github/seenu-g/school_of_ai/blob/master/examples/augmentation/image_transform.ipynb\" target=\"_parent\"><img src=\"https://colab.research.google.com/assets/colab-badge.svg\" alt=\"Open In Colab\"/></a>"
      ]
    },
    {
      "cell_type": "code",
      "metadata": {
        "id": "sHzAW1Hrj1wx",
        "colab_type": "code",
        "colab": {}
      },
      "source": [
        "!pip install --upgrade albumentations"
      ],
      "execution_count": 0,
      "outputs": []
    },
    {
      "cell_type": "code",
      "metadata": {
        "id": "Wf2miDAnhsxp",
        "colab_type": "code",
        "colab": {}
      },
      "source": [
        "import os\n",
        "import numpy as np\n",
        "import pandas as pd\n",
        "import seaborn as sns\n",
        "import cv2\n",
        "from pylab import rcParams\n",
        "from tqdm import tqdm\n",
        "import matplotlib.pyplot as plt\n",
        "from matplotlib import rc\n",
        "from pandas.plotting import register_matplotlib_converters\n",
        "import albumentations as A\n",
        "import random\n",
        "\n",
        "%matplotlib inline\n",
        "%config InlineBackend.figure_format='retina'\n",
        "\n",
        "register_matplotlib_converters()\n",
        "sns.set(style='whitegrid', palette='muted', font_scale=1.2)\n",
        "\n",
        "HAPPY_COLORS_PALETTE = [\"#01BEFE\", \"#FFDD00\", \"#FF7D00\", \"#FF006D\", \"#ADFF02\", \"#8F00FF\"]\n",
        "sns.set_palette(sns.color_palette(HAPPY_COLORS_PALETTE))\n",
        "rcParams['figure.figsize'] = 12, 8\n",
        "\n",
        "RANDOM_SEED = 42\n",
        "random.seed(RANDOM_SEED)\n",
        "np.random.seed(RANDOM_SEED)"
      ],
      "execution_count": 0,
      "outputs": []
    },
    {
      "cell_type": "code",
      "metadata": {
        "id": "XskjQ4jahxVq",
        "colab_type": "code",
        "colab": {}
      },
      "source": [
        "!gdown --id 1rZX15GYUJ44kEiuZOPUL4quOjcqwi-f5 --output documents.zip\n",
        "\n"
      ],
      "execution_count": 0,
      "outputs": []
    },
    {
      "cell_type": "code",
      "metadata": {
        "id": "5dUZ1VBah8yi",
        "colab_type": "code",
        "colab": {}
      },
      "source": [
        "!unzip -q documents.zip"
      ],
      "execution_count": 0,
      "outputs": []
    },
    {
      "cell_type": "code",
      "metadata": {
        "id": "7YnOK09YiC1G",
        "colab_type": "code",
        "colab": {}
      },
      "source": [
        "!ls"
      ],
      "execution_count": 0,
      "outputs": []
    },
    {
      "cell_type": "code",
      "metadata": {
        "id": "sA9HwO53iKeP",
        "colab_type": "code",
        "colab": {}
      },
      "source": [
        "BOX_COLOR = (255, 0, 0)\n",
        "thickness = 2\n",
        "def visualize_bbox(img, bbox, color=BOX_COLOR, thickness=2):\n",
        "    x_min, y_min, x_max, y_max = map(lambda v: int(v), bbox)\n",
        "    \n",
        "    cv2.rectangle(img, (x_min, y_min), (x_max, y_max), color=color, thickness=thickness)\n",
        "    return img"
      ],
      "execution_count": 0,
      "outputs": []
    },
    {
      "cell_type": "code",
      "metadata": {
        "id": "9kpCZ13siPKA",
        "colab_type": "code",
        "colab": {}
      },
      "source": [
        "def show_image(image, bbox):\n",
        "  image = visualize_bbox(image.copy(),bbox)\n",
        "  f = plt.figure(figsize=(18, 12))\n",
        "  plt.imshow(\n",
        "    cv2.cvtColor(image, cv2.COLOR_BGR2RGB),\n",
        "    interpolation='nearest'\n",
        "  )\n",
        "  plt.axis('off')\n",
        "  f.tight_layout()\n",
        "  plt.show()"
      ],
      "execution_count": 0,
      "outputs": []
    },
    {
      "cell_type": "code",
      "metadata": {
        "id": "DgFDzNhtiSMG",
        "colab_type": "code",
        "colab": {}
      },
      "source": [
        "form = cv2.imread(\"form.png\")\n",
        "STUDENT_ID_BBOX = [140, 260, 300, 300]\n",
        "show_image(form, bbox=STUDENT_ID_BBOX)"
      ],
      "execution_count": 0,
      "outputs": []
    },
    {
      "cell_type": "code",
      "metadata": {
        "id": "Me-DZ3PSi9lc",
        "colab_type": "code",
        "colab": {}
      },
      "source": [
        "def show_augmented(augmentation, image, bbox):\n",
        "  augmented = augmentation(image=image, bboxes=[bbox], field_id=['1'])\n",
        "  show_image(augmented['image'], augmented['bboxes'][0])"
      ],
      "execution_count": 0,
      "outputs": []
    },
    {
      "cell_type": "code",
      "metadata": {
        "id": "0O-WMvV3jB9X",
        "colab_type": "code",
        "colab": {}
      },
      "source": [
        "bbox_params = A.BboxParams(\n",
        "  format='pascal_voc', \n",
        "  min_area=1, \n",
        "  min_visibility=0.5, \n",
        "  label_fields=['field_id']\n",
        ")\n",
        "aug = A.Compose([\n",
        "    A.Flip(always_apply=True)\n",
        "], bbox_params=bbox_params)\n",
        "\n",
        "show_augmented(aug, form, STUDENT_ID_BBOX)"
      ],
      "execution_count": 0,
      "outputs": []
    },
    {
      "cell_type": "code",
      "metadata": {
        "id": "dOLDHacokjL7",
        "colab_type": "code",
        "colab": {}
      },
      "source": [
        "aug = A.Compose([\n",
        "  A.Rotate(limit=80, always_apply=True)\n",
        "], bbox_params=bbox_params)\n",
        "\n",
        "show_augmented(aug, form, STUDENT_ID_BBOX)"
      ],
      "execution_count": 0,
      "outputs": []
    },
    {
      "cell_type": "code",
      "metadata": {
        "id": "b9YP8LkQkvTA",
        "colab_type": "code",
        "colab": {}
      },
      "source": [
        "aug = A.Compose([\n",
        "    A.RGBShift(\n",
        "      always_apply=True, \n",
        "      r_shift_limit=100, \n",
        "      g_shift_limit=100,\n",
        "      b_shift_limit=100\n",
        "    ),\n",
        "], bbox_params=bbox_params)\n",
        "\n",
        "show_augmented(aug, form, STUDENT_ID_BBOX)"
      ],
      "execution_count": 0,
      "outputs": []
    },
    {
      "cell_type": "code",
      "metadata": {
        "id": "sVCjyXY7k4-6",
        "colab_type": "code",
        "colab": {}
      },
      "source": [
        "aug = A.Compose([\n",
        "    A.RandomBrightnessContrast(always_apply=True),\n",
        "], bbox_params=bbox_params)\n",
        "\n",
        "show_augmented(aug, form, STUDENT_ID_BBOX)"
      ],
      "execution_count": 0,
      "outputs": []
    },
    {
      "cell_type": "code",
      "metadata": {
        "id": "OUZm-OJyk1tk",
        "colab_type": "code",
        "colab": {}
      },
      "source": [
        "aug = A.Compose([\n",
        "    A.GaussNoise(\n",
        "      always_apply=True,\n",
        "      var_limit=(100, 300),\n",
        "      mean=150\n",
        "    ),\n",
        "], bbox_params=bbox_params)\n",
        "\n",
        "show_augmented(aug, form, STUDENT_ID_BBOX)"
      ],
      "execution_count": 0,
      "outputs": []
    },
    {
      "cell_type": "code",
      "metadata": {
        "id": "qIpKulZap9RY",
        "colab_type": "code",
        "colab": {}
      },
      "source": [
        "doc_aug = A.Compose([\n",
        "    A.Flip(p=0.25),\n",
        "    A.RandomGamma(gamma_limit=(20, 300), p=0.5),\n",
        "    A.RandomBrightnessContrast(p=0.85),\n",
        "    A.Rotate(limit=35, p=0.9),\n",
        "    A.RandomRotate90(p=0.25),\n",
        "    A.RGBShift(p=0.75),\n",
        "    A.GaussNoise(p=0.25)\n",
        "], bbox_params=bbox_params)\n",
        "show_augmented(doc_aug, form, STUDENT_ID_BBOX)"
      ],
      "execution_count": 0,
      "outputs": []
    },
    {
      "cell_type": "code",
      "metadata": {
        "id": "699gEbUOFpZt",
        "colab_type": "code",
        "colab": {}
      },
      "source": [
        "import cv2\n",
        "aug = A.ShiftScaleRotate(shift_limit=0.05, \n",
        "                         scale_limit=0.1,\n",
        "                         rotate_limit=45,\n",
        "                         border_mode=cv2.BORDER_CONSTANT, \n",
        "                         p=0.5)\n",
        "show_augmented(aug, form, STUDENT_ID_BBOX)"
      ],
      "execution_count": 0,
      "outputs": []
    },
    {
      "cell_type": "code",
      "metadata": {
        "id": "tCAXyLlJG705",
        "colab_type": "code",
        "colab": {}
      },
      "source": [
        "import cv2\n",
        "aug = A.OpticalDistortion(distort_limit=0.11,\n",
        "                          shift_limit=0.15,\n",
        "                          border_mode=cv2.BORDER_CONSTANT,\n",
        "                          p=0.5)\n",
        "show_augmented(aug, form, STUDENT_ID_BBOX)"
      ],
      "execution_count": 0,
      "outputs": []
    },
    {
      "cell_type": "code",
      "metadata": {
        "id": "G_9Rob3sIKjG",
        "colab_type": "code",
        "colab": {}
      },
      "source": [
        "doc_aug = A.Compose([\n",
        "                    A.OneOf([\n",
        "                            A.ShiftScaleRotate(shift_limit=0.05, scale_limit=0.1,\n",
        "                                               rotate_limit=45,\n",
        "                                               border_mode=cv2.BORDER_CONSTANT, value=0,\n",
        "                                               p=0.5),\n",
        "                            A.ElasticTransform(alpha_affine=0,\n",
        "                                                alpha=35,\n",
        "                                                sigma=5,\n",
        "                                                border_mode=cv2.BORDER_CONSTANT,\n",
        "                                                value=0,\n",
        "                                                p=0.5),\n",
        "                            A.OpticalDistortion(distort_limit=0.11,\n",
        "                                                shift_limit=0.15,\n",
        "                                                border_mode=cv2.BORDER_CONSTANT,\n",
        "                                                value=0,\n",
        "                                                p=0.5),\n",
        "                            A.GridDistortion(border_mode=cv2.BORDER_CONSTANT,\n",
        "                                              value=0,\n",
        "                                              p=0.5),\n",
        "                            A.NoOp()\n",
        "                            ]),\n",
        "                     ], bbox_params=bbox_params)\n",
        "show_augmented(doc_aug, form, STUDENT_ID_BBOX)"
      ],
      "execution_count": 0,
      "outputs": []
    },
    {
      "cell_type": "code",
      "metadata": {
        "id": "9sd7JG4sMJs4",
        "colab_type": "code",
        "colab": {}
      },
      "source": [
        "aug = A.Compose([\n",
        "                 A.Normalize()\n",
        "      ], bbox_params=bbox_params)\n",
        "show_augmented(aug, form, STUDENT_ID_BBOX)"
      ],
      "execution_count": 0,
      "outputs": []
    },
    {
      "cell_type": "code",
      "metadata": {
        "id": "9C1lUIs3KrRJ",
        "colab_type": "code",
        "colab": {}
      },
      "source": [
        "def ex1_augmentations():\n",
        "    return A.Compose([\n",
        "                  A.HorizontalFlip(),\n",
        "                  A.RandomBrightnessContrast(),\n",
        "                  A.OneOf([\n",
        "                          A.ShiftScaleRotate(scale_limit=0.05, rotate_limit=15,\n",
        "                                            border_mode=cv2.BORDER_CONSTANT),\n",
        "                                            A.IAAAffine(),\n",
        "                                            A.IAAPerspective(),\n",
        "                                            A.NoOp()\n",
        "                          ]),\n",
        "                  A.HueSaturationValue(),\n",
        "                  A.Normalize()\n",
        "  ])\n",
        "def ex2_augmentations():\n",
        "    return A.Compose([\n",
        "                  A.HorizontalFlip(),\n",
        "                  A.ShiftScaleRotate(scale_limit=0.1, rotate_limit=15,border_mode=cv2.BORDER_CONSTANT),\n",
        "                  A.OneOf([A.GaussianBlur(), A.IAASharpen(), A.NoOp()]),\n",
        "                  A.OneOf([A.CoarseDropout(), A.MaskDropout(max_objects=5),\n",
        "                  A.NoOp()]),\n",
        "                  A.GaussNoise(),\n",
        "                  A.OneOf([A.RandomBrightnessContrast(), A.CLAHE(),\n",
        "                  A.HueSaturationValue(), A.RGBShift(), A.RandomGamma()]),\n",
        "                  A.RandomFog(fog_coef_lower=0.01, fog_coef_upper=0.3,\n",
        "                  p=0.1),\n",
        "                  A.Normalize(),\n",
        "     ])\n",
        "    \n",
        "def ex3_augmentations():\n",
        "    return A.Compose([\n",
        "                  A.RandomRotate90(),\n",
        "                  A.Transpose(),\n",
        "                  A.ShiftScaleRotate(\n",
        "                  scale_limit=0.1, rotate_limit=45,\n",
        "                  border_mode=cv2.BORDER_CONSTANT, mask_value=0, value=0\n",
        "                  ),\n",
        "                  A.ElasticTransform(border_mode=cv2.BORDER_CONSTANT,\n",
        "                                     alpha_affine=5, mask_value=0, value=0),\n",
        "                  # Add occasion blur\n",
        "                  A.OneOf([A.GaussianBlur(), A.GaussNoise(),\n",
        "                           A.IAAAdditiveGaussianNoise(), A.NoOp()]),\n",
        "                  # D4 Augmentations\n",
        "                  A.OneOf([A.CoarseDropout(),\n",
        "                           A.MaskDropout(max_objects=10), A.NoOp()]),\n",
        "                   # Spatial-preserving augmentations:\n",
        "                  A.OneOf([\n",
        "                          A.RandomBrightnessContrast(brightness_by_max=True),\n",
        "                          A.CLAHE(),\n",
        "                          A.HueSaturationValue(),\n",
        "                          A.RGBShift(),\n",
        "                          A.RandomGamma(),\n",
        "                          A.NoOp()]),\n",
        "                  # Weather effects\n",
        "                  A.OneOf([\n",
        "                           A.RandomFog(fog_coef_lower=0.01,fog_coef_upper=0.3, p=0.1), \n",
        "                           A.NoOp()]),\n",
        "                  A.Normalize()\n",
        "    ])"
      ],
      "execution_count": 0,
      "outputs": []
    },
    {
      "cell_type": "code",
      "metadata": {
        "id": "Q_vzn_iyLzBi",
        "colab_type": "code",
        "colab": {}
      },
      "source": [
        "show_augmented(ex1_augmentations(), form, STUDENT_ID_BBOX)"
      ],
      "execution_count": 0,
      "outputs": []
    },
    {
      "cell_type": "code",
      "metadata": {
        "id": "fQpcVfXfM7lz",
        "colab_type": "code",
        "colab": {}
      },
      "source": [
        "show_augmented(ex2_augmentations(), form, STUDENT_ID_BBOX)"
      ],
      "execution_count": 0,
      "outputs": []
    },
    {
      "cell_type": "code",
      "metadata": {
        "id": "f6kQBuPeO9rQ",
        "colab_type": "code",
        "colab": {}
      },
      "source": [
        "show_augmented(ex3_augmentations(), form, STUDENT_ID_BBOX)"
      ],
      "execution_count": 0,
      "outputs": []
    },
    {
      "cell_type": "code",
      "metadata": {
        "id": "Hori_gJCO9ho",
        "colab_type": "code",
        "colab": {}
      },
      "source": [
        ""
      ],
      "execution_count": 0,
      "outputs": []
    }
  ]
}